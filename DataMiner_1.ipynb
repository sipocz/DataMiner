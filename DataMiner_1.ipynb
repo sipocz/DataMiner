{
  "nbformat": 4,
  "nbformat_minor": 0,
  "metadata": {
    "colab": {
      "provenance": [],
      "authorship_tag": "ABX9TyPixPTJy5cpFMhJoTDfECj6",
      "include_colab_link": true
    },
    "kernelspec": {
      "name": "python3",
      "display_name": "Python 3"
    },
    "language_info": {
      "name": "python"
    }
  },
  "cells": [
    {
      "cell_type": "markdown",
      "metadata": {
        "id": "view-in-github",
        "colab_type": "text"
      },
      "source": [
        "<a href=\"https://colab.research.google.com/github/sipocz/DataMiner/blob/main/DataMiner_1.ipynb\" target=\"_parent\"><img src=\"https://colab.research.google.com/assets/colab-badge.svg\" alt=\"Open In Colab\"/></a>"
      ]
    },
    {
      "cell_type": "code",
      "execution_count": 2,
      "metadata": {
        "id": "EQsORUMCSy_I"
      },
      "outputs": [],
      "source": [
        "import pandas as pd\n",
        "import os\n",
        "from bs4 import  BeautifulSoup"
      ]
    },
    {
      "cell_type": "code",
      "source": [
        "from google.colab import drive"
      ],
      "metadata": {
        "id": "jFZyNaSaTIZS"
      },
      "execution_count": 3,
      "outputs": []
    },
    {
      "cell_type": "code",
      "source": [
        "drive.mount('/content/drive')"
      ],
      "metadata": {
        "colab": {
          "base_uri": "https://localhost:8080/"
        },
        "id": "UGLP5ccxTJ8Z",
        "outputId": "60115885-236b-4c7f-e9e2-9b43336651f8"
      },
      "execution_count": 4,
      "outputs": [
        {
          "output_type": "stream",
          "name": "stdout",
          "text": [
            "Mounted at /content/drive\n"
          ]
        }
      ]
    },
    {
      "cell_type": "code",
      "source": [
        "path=\"/content/drive/MyDrive/001_METU/2. félév/dolgozat/adatok/\""
      ],
      "metadata": {
        "id": "14l9PcQiTSGi"
      },
      "execution_count": 5,
      "outputs": []
    },
    {
      "cell_type": "code",
      "source": [
        "fname=\"Eseményfeladatok _ RG - IT Service Management.html\"\n"
      ],
      "metadata": {
        "id": "MZEkePT1TazZ"
      },
      "execution_count": 6,
      "outputs": []
    },
    {
      "cell_type": "code",
      "source": [
        "htmltext=open(path+fname)"
      ],
      "metadata": {
        "id": "RuTYXMsFULV7"
      },
      "execution_count": 7,
      "outputs": []
    },
    {
      "cell_type": "code",
      "source": [
        "ht=htmltext.read()"
      ],
      "metadata": {
        "id": "e71r6Xt2V3pt"
      },
      "execution_count": 8,
      "outputs": []
    },
    {
      "cell_type": "code",
      "source": [
        "print(\"------------------------------------------------\")\n",
        "\n",
        "soup=BeautifulSoup(ht,\"html.parser\")\n",
        "table_rows1=soup.find_all(\"tr\", class_=\"list_row list_odd is-selected\")\n",
        "table_rows2=soup.find_all(\"tr\", class_=\"list_row list_even is-selected\")\n",
        "table_rows=table_rows1+table_rows2"
      ],
      "metadata": {
        "colab": {
          "base_uri": "https://localhost:8080/"
        },
        "id": "h0MezVCQWC9X",
        "outputId": "34751271-b25e-4059-f70f-fc820fcd847d"
      },
      "execution_count": 9,
      "outputs": [
        {
          "output_type": "stream",
          "name": "stdout",
          "text": [
            "------------------------------------------------\n"
          ]
        }
      ]
    },
    {
      "cell_type": "code",
      "source": [
        "len(table_rows)"
      ],
      "metadata": {
        "colab": {
          "base_uri": "https://localhost:8080/"
        },
        "id": "i9tlhstxX7p1",
        "outputId": "494a6afd-01ff-4e47-d804-57091553f8ba"
      },
      "execution_count": 10,
      "outputs": [
        {
          "output_type": "execute_result",
          "data": {
            "text/plain": [
              "224"
            ]
          },
          "metadata": {},
          "execution_count": 10
        }
      ]
    },
    {
      "cell_type": "code",
      "source": [
        "a_row=table_rows[2].find_all(\"td\",class_=\"vt\")"
      ],
      "metadata": {
        "id": "Wfhg-OmvZa45"
      },
      "execution_count": 11,
      "outputs": []
    },
    {
      "cell_type": "code",
      "source": [],
      "metadata": {
        "id": "C_lruhb6ciQL"
      },
      "execution_count": 11,
      "outputs": []
    },
    {
      "cell_type": "code",
      "source": [
        "a_row[10][\"title\"]"
      ],
      "metadata": {
        "colab": {
          "base_uri": "https://localhost:8080/",
          "height": 54
        },
        "id": "9uHvOlgjdJ28",
        "outputId": "64c4d86a-c83d-4fdd-a2dd-9ffbf3ec792b"
      },
      "execution_count": 12,
      "outputs": [
        {
          "output_type": "execute_result",
          "data": {
            "text/plain": [
              "'A feladatot ki lehet választani nyomtatásra, a nyomtató megfelelő állapotban van, mégis hibaüzenet jelenik meg. Reggel még más kollégák tudtak nyomatni. A napi munka addig nem kezdhető meg, amíg a feladat ki nincs nyomtatva.'"
            ],
            "application/vnd.google.colaboratory.intrinsic+json": {
              "type": "string"
            }
          },
          "metadata": {},
          "execution_count": 12
        }
      ]
    },
    {
      "cell_type": "code",
      "source": [
        "def print_a_row(a_row,to_print=False):\n",
        "    task_id=a_row[0].a[\"aria-label\"].split(\": \")[1]\n",
        "    task_link=a_row[0].a[\"href\"]\n",
        "    task_description=a_row[1].text\n",
        "    inc_name=a_row[6].a[\"aria-label\"].split(\": \")[1]\n",
        "    inc_link=a_row[6].a[\"href\"]\n",
        "    t_creation=a_row[8].div[\"timeago\"]\n",
        "    t_start=a_row[7].div[\"timeago\"]\n",
        "    t_end=a_row[9].div[\"timeago\"]\n",
        "    try:\n",
        "        full_text=a_row[10][\"title\"]\n",
        "    except:\n",
        "        full_text=\"None\"\n",
        "\n",
        "    if to_print:\n",
        "        print(\"taskid:\",task_id,\"\\ntask_link: \",task_link)\n",
        "        print(a_row[1].text)\n",
        "\n",
        "        print(\"incident name:\",inc_name)\n",
        "        print(\"incident link:\",inc_link )\n",
        "    \n",
        "        print(\"Creation time:\",t_creation)\n",
        "        print(\"Start time:\",t_start)\n",
        "        print(\"End time\",t_end)\n",
        "    \n",
        "\n",
        "\n",
        "         \n",
        "        print(\"Text descriptiopn:\",full_text)\n",
        "        \n",
        "        print(\"__________________________\")\n",
        "    return([task_id,task_link,task_description,inc_name,inc_link,t_creation,t_start,t_end,full_text])"
      ],
      "metadata": {
        "id": "lrd6aMYrcAAk"
      },
      "execution_count": 13,
      "outputs": []
    },
    {
      "cell_type": "code",
      "source": [],
      "metadata": {
        "id": "ML_tz3mNiGLk"
      },
      "execution_count": 13,
      "outputs": []
    },
    {
      "cell_type": "code",
      "source": [
        "data_list=[]\n",
        "for a_row_e in table_rows:\n",
        "    a_row=a_row_e.find_all(\"td\",class_=\"vt\")\n",
        "    data_list.append(print_a_row(a_row,to_print=False))\n"
      ],
      "metadata": {
        "id": "Y_YTSh5tZpfO"
      },
      "execution_count": 14,
      "outputs": []
    },
    {
      "cell_type": "code",
      "source": [
        "print (len(data_list))"
      ],
      "metadata": {
        "colab": {
          "base_uri": "https://localhost:8080/"
        },
        "id": "-qdgHsQGtnxg",
        "outputId": "3857f60f-bfd6-49fd-e808-454f4c0e5ddd"
      },
      "execution_count": 15,
      "outputs": [
        {
          "output_type": "stream",
          "name": "stdout",
          "text": [
            "224\n"
          ]
        }
      ]
    },
    {
      "cell_type": "code",
      "source": [
        "\n"
      ],
      "metadata": {
        "id": "x76nQ8N5X2Hm"
      },
      "execution_count": 15,
      "outputs": []
    },
    {
      "cell_type": "code",
      "source": [
        "fname=\"Incidents _ RG - IT Service Management.html\""
      ],
      "metadata": {
        "id": "rHDGg_Axfmez"
      },
      "execution_count": 16,
      "outputs": []
    },
    {
      "cell_type": "code",
      "source": [
        "htmltext=open(path+fname)"
      ],
      "metadata": {
        "id": "BPpSAm3Jf9EB"
      },
      "execution_count": 17,
      "outputs": []
    },
    {
      "cell_type": "code",
      "source": [
        "ht=htmltext.read()\n",
        "soup=BeautifulSoup(ht,\"html.parser\")\n"
      ],
      "metadata": {
        "id": "iDWt63b2f9EB"
      },
      "execution_count": 18,
      "outputs": []
    },
    {
      "cell_type": "code",
      "source": [],
      "metadata": {
        "id": "rv0s4J8SrDgO"
      },
      "execution_count": 18,
      "outputs": []
    },
    {
      "cell_type": "code",
      "source": [
        "table_rows1=soup.find_all(\"tr\",  class_=\"list_row list_odd \")\n",
        "table_rows2=soup.find_all(\"tr\",  class_=\"list_row list_even \")\n",
        "table_rows=table_rows1+table_rows2"
      ],
      "metadata": {
        "id": "YjUXOeXvl8lS"
      },
      "execution_count": 19,
      "outputs": []
    },
    {
      "cell_type": "code",
      "source": [
        "len(table_rows)"
      ],
      "metadata": {
        "colab": {
          "base_uri": "https://localhost:8080/"
        },
        "id": "96rdfZ0RzSCk",
        "outputId": "dbaeb87e-c8d1-432e-a666-44502bed8f68"
      },
      "execution_count": 20,
      "outputs": [
        {
          "output_type": "execute_result",
          "data": {
            "text/plain": [
              "61"
            ]
          },
          "metadata": {},
          "execution_count": 20
        }
      ]
    },
    {
      "cell_type": "code",
      "source": [
        "a_row=table_rows[2].find_all(\"td\",class_=\"vt\")"
      ],
      "metadata": {
        "id": "5yBteQF0n754"
      },
      "execution_count": 21,
      "outputs": []
    },
    {
      "cell_type": "code",
      "source": [],
      "metadata": {
        "id": "tnhefvGb0z9U"
      },
      "execution_count": 21,
      "outputs": []
    },
    {
      "cell_type": "code",
      "source": [],
      "metadata": {
        "id": "IOmCLxOO3PJp"
      },
      "execution_count": 21,
      "outputs": []
    },
    {
      "cell_type": "code",
      "source": [
        "def print_incident_row(a_row,to_print=False):\n",
        "    task_id=a_row[0].a[\"aria-label\"].split(\": \")[1]\n",
        "    task_link=\"https://richterprod.service-now.com/\"+a_row[0].a[\"href\"]\n",
        "    task_description=a_row[4].text\n",
        "    inc_name=task_id\n",
        "    inc_link=task_link\n",
        "    t_creation=a_row[11].div[\"timeago\"]\n",
        "    t_start=a_row[10].div[\"timeago\"]\n",
        "    t_end=a_row[12].div[\"timeago\"]\n",
        "    try:\n",
        "        full_text1=a_row[4].text\n",
        "    except:\n",
        "        full_text1=\"None\"\n",
        "\n",
        "    \n",
        "    try:\n",
        "        full_text2=a_row[14][\"title\"]\n",
        "    except:\n",
        "        full_text2=\"None\"\n",
        "    full_text=full_text1+\"\\n\"+full_text2\n",
        "    if to_print:\n",
        "        print(\"taskid:\",task_id,\"\\ntask_link: \",task_link)\n",
        "        print(\"task description:\",task_description)\n",
        "\n",
        "        print(\"incident name:\",inc_name)\n",
        "        print(\"incident link:\",inc_link )\n",
        "    \n",
        "        print(\"Creation time:\",t_creation)\n",
        "        print(\"Start time:\",t_start)\n",
        "        print(\"End time\",t_end)\n",
        "    \n",
        "\n",
        "\n",
        "         \n",
        "        print(\"Text description:\",full_text)\n",
        "        \n",
        "        print(\"__________________________\")\n",
        "    return([task_id,task_link,task_description,inc_name,inc_link,t_creation,t_start,t_end,full_text])\n",
        "    "
      ],
      "metadata": {
        "id": "enDG1y5s1G6e"
      },
      "execution_count": 22,
      "outputs": []
    },
    {
      "cell_type": "code",
      "source": [
        "data_list2=[]\n",
        "for a_row_e in table_rows:\n",
        "    a_row=a_row_e.find_all(\"td\",class_=\"vt\")\n",
        "    data_list2.append(print_incident_row(a_row,to_print=False))"
      ],
      "metadata": {
        "id": "iHmWg43gYcSd"
      },
      "execution_count": 23,
      "outputs": []
    },
    {
      "cell_type": "code",
      "source": [
        "len(data_list2)\n"
      ],
      "metadata": {
        "colab": {
          "base_uri": "https://localhost:8080/"
        },
        "id": "c-uz7_Jl1OSY",
        "outputId": "5033aea3-1c3a-4c7f-f67d-5bf8101a9ac0"
      },
      "execution_count": 24,
      "outputs": [
        {
          "output_type": "execute_result",
          "data": {
            "text/plain": [
              "61"
            ]
          },
          "metadata": {},
          "execution_count": 24
        }
      ]
    },
    {
      "cell_type": "code",
      "source": [
        "all_data_list=data_list+data_list2\n"
      ],
      "metadata": {
        "id": "meblKkZLZG9-"
      },
      "execution_count": 25,
      "outputs": []
    },
    {
      "cell_type": "code",
      "source": [
        "len(all_data_list)"
      ],
      "metadata": {
        "colab": {
          "base_uri": "https://localhost:8080/"
        },
        "id": "I0WzHLgLZRl6",
        "outputId": "eb363550-0bfb-459f-b633-5ebf70013aa4"
      },
      "execution_count": 26,
      "outputs": [
        {
          "output_type": "execute_result",
          "data": {
            "text/plain": [
              "285"
            ]
          },
          "metadata": {},
          "execution_count": 26
        }
      ]
    },
    {
      "cell_type": "code",
      "source": [
        "import pandas as pd\n"
      ],
      "metadata": {
        "id": "vGTFpQKaZylG"
      },
      "execution_count": 27,
      "outputs": []
    },
    {
      "cell_type": "code",
      "source": [
        "df=pd.DataFrame(all_data_list,columns=[\"Task\",\"TaskLink\",\"Desc\",\"Inc\",\"IncLink\",\"Creation\",\"Start\",\"End\",\"LongDesc\"])"
      ],
      "metadata": {
        "id": "sZyjxHOUZ1ji"
      },
      "execution_count": 28,
      "outputs": []
    },
    {
      "cell_type": "code",
      "source": [],
      "metadata": {
        "id": "bMwW5p0VZ9Kh"
      },
      "execution_count": 28,
      "outputs": []
    },
    {
      "cell_type": "code",
      "source": [
        "df[['Start', 'End', 'Creation']] = df[['Start', 'End', 'Creation']].apply(pd.to_datetime)"
      ],
      "metadata": {
        "id": "XN1JibDufqYs"
      },
      "execution_count": 29,
      "outputs": []
    },
    {
      "cell_type": "code",
      "source": [
        "df[\"End_Delta\"]=df[\"End\"]-df[\"Start\"]\n",
        "df[\"End_Delta_sec\"]=pd.to_numeric(df[\"End_Delta\"]/1000000000)"
      ],
      "metadata": {
        "id": "LENxpGv_bEDs"
      },
      "execution_count": 30,
      "outputs": []
    },
    {
      "cell_type": "code",
      "source": [
        "df[\"Start_Delta\"]=df[\"Start\"]-df[\"Creation\"]\n",
        "df[\"Start_Delta_sec\"]=pd.to_numeric(df[\"Start_Delta\"]/1000000000)"
      ],
      "metadata": {
        "id": "8lDTYgduh_eX"
      },
      "execution_count": 31,
      "outputs": []
    },
    {
      "cell_type": "code",
      "source": [],
      "metadata": {
        "id": "To7JKuukpkoN"
      },
      "execution_count": 31,
      "outputs": []
    },
    {
      "cell_type": "code",
      "source": [
        "df.sort_values([\"Creation\"],inplace=True,ignore_index=True)"
      ],
      "metadata": {
        "id": "-WUEu5szjSKk"
      },
      "execution_count": 32,
      "outputs": []
    },
    {
      "cell_type": "code",
      "source": [
        "df.reindex()"
      ],
      "metadata": {
        "colab": {
          "base_uri": "https://localhost:8080/",
          "height": 1000
        },
        "id": "Wr83zr9fDbjV",
        "outputId": "9a9b1135-c95e-441d-fa10-75e41304478a"
      },
      "execution_count": 33,
      "outputs": [
        {
          "output_type": "execute_result",
          "data": {
            "text/plain": [
              "            Task                                           TaskLink  \\\n",
              "0    TASK0216008  https://richterprod.service-now.com/incident_t...   \n",
              "1    TASK0225687  https://richterprod.service-now.com/incident_t...   \n",
              "2    TASK0225759  https://richterprod.service-now.com/incident_t...   \n",
              "3    TASK0227851  https://richterprod.service-now.com/incident_t...   \n",
              "4    TASK0230843  https://richterprod.service-now.com/incident_t...   \n",
              "..           ...                                                ...   \n",
              "280   INC0212666  https://richterprod.service-now.com/incident.d...   \n",
              "281   INC0212840  https://richterprod.service-now.com/incident.d...   \n",
              "282   INC0213025  https://richterprod.service-now.com/incident.d...   \n",
              "283   INC0213469  https://richterprod.service-now.com/incident.d...   \n",
              "284   INC0213507  https://richterprod.service-now.com/incident.d...   \n",
              "\n",
              "                                                  Desc         Inc  \\\n",
              "0    Az OV-01 TFL operátori állomás meghibásodott, ...  INC0118840   \n",
              "1    T5 tartály vezérelt fűtése nem működik ezért b...  INC0126270   \n",
              "2         Nem tudom kinyomtatni a mérési eredményeket.  INC0126341   \n",
              "3                                 nem tudunk nyomtatni  INC0127776   \n",
              "4    AZ RG-LAB rendszerből nem tudunk feladatot nyo...  INC0129902   \n",
              "..                                                 ...         ...   \n",
              "280                  [DCS rendszerek dorog - hibajegy]  INC0212666   \n",
              "281  MIFO-D -ben az 1. izolátor és 2. izolátorhoz t...  INC0212840   \n",
              "282                  [DCS rendszerek dorog - hibajegy]  INC0213025   \n",
              "283  Terepi terminál nem jelenít meg semmilyen értéket  INC0213469   \n",
              "284  Február 6-án változtatott/új jelszavam \"elfele...  INC0213507   \n",
              "\n",
              "                                               IncLink            Creation  \\\n",
              "0    https://richterprod.service-now.com/incident.d... 2021-09-08 05:45:29   \n",
              "1    https://richterprod.service-now.com/incident.d... 2021-10-15 05:19:48   \n",
              "2    https://richterprod.service-now.com/incident.d... 2021-10-15 07:58:58   \n",
              "3    https://richterprod.service-now.com/incident.d... 2021-10-25 04:53:38   \n",
              "4    https://richterprod.service-now.com/incident.d... 2021-11-04 09:53:28   \n",
              "..                                                 ...                 ...   \n",
              "280  https://richterprod.service-now.com/incident.d... 2023-02-09 10:30:05   \n",
              "281  https://richterprod.service-now.com/incident.d... 2023-02-10 07:24:39   \n",
              "282  https://richterprod.service-now.com/incident.d... 2023-02-10 14:35:32   \n",
              "283  https://richterprod.service-now.com/incident.d... 2023-02-14 08:36:08   \n",
              "284  https://richterprod.service-now.com/incident.d... 2023-02-14 10:09:57   \n",
              "\n",
              "                  Start                 End  \\\n",
              "0   2021-09-08 05:48:13 2021-11-05 06:09:23   \n",
              "1   2021-10-15 05:19:53 2021-10-19 13:09:13   \n",
              "2   2021-10-15 07:59:21 2021-10-19 13:07:54   \n",
              "3   2021-10-25 04:53:42 2021-11-15 10:00:12   \n",
              "4   2021-11-04 09:53:51 2021-11-04 12:30:30   \n",
              "..                  ...                 ...   \n",
              "280 2023-02-09 10:46:09 2023-02-09 12:10:09   \n",
              "281 2023-02-10 07:24:39                 NaT   \n",
              "282 2023-02-10 14:35:39 2023-02-13 10:57:31   \n",
              "283 2023-02-14 08:36:08                 NaT   \n",
              "284 2023-02-14 10:09:57 2023-02-14 14:32:19   \n",
              "\n",
              "                                              LongDesc        End_Delta  \\\n",
              "0    Az operátori állomás meghibásodott, nem indíth... 58 days 00:21:10   \n",
              "1    T5 tartály fűtése csak kézi üzemmódban működik...  4 days 07:49:20   \n",
              "2    Nem tudom kinyomtatni a mérési eredményeket a ...  4 days 05:08:33   \n",
              "3                                                 None 21 days 05:06:30   \n",
              "4    A feladatot ki lehet választani nyomtatásra, a...  0 days 02:36:39   \n",
              "..                                                 ...              ...   \n",
              "280  [DCS rendszerek dorog - hibajegy]\\nÉrintett re...  0 days 01:24:00   \n",
              "281  MIFO-D -ben az 1. izolátor és 2. izolátorhoz t...              NaT   \n",
              "282            [DCS rendszerek dorog - hibajegy]\\nNone  2 days 20:21:52   \n",
              "283  Terepi terminál nem jelenít meg semmilyen érté...              NaT   \n",
              "284  Február 6-án változtatott/új jelszavam \"elfele...  0 days 04:22:22   \n",
              "\n",
              "           End_Delta_sec     Start_Delta  Start_Delta_sec  \n",
              "0                5012470 0 days 00:02:44              164  \n",
              "1                 373760 0 days 00:00:05                5  \n",
              "2                 364113 0 days 00:00:23               23  \n",
              "3                1832790 0 days 00:00:04                4  \n",
              "4                   9399 0 days 00:00:23               23  \n",
              "..                   ...             ...              ...  \n",
              "280                 5040 0 days 00:16:04              964  \n",
              "281 -9223372036854775808 0 days 00:00:00                0  \n",
              "282               246112 0 days 00:00:07                7  \n",
              "283 -9223372036854775808 0 days 00:00:00                0  \n",
              "284                15742 0 days 00:00:00                0  \n",
              "\n",
              "[285 rows x 13 columns]"
            ],
            "text/html": [
              "\n",
              "  <div id=\"df-a0fc4638-1861-43c2-a681-b33895e5e9df\">\n",
              "    <div class=\"colab-df-container\">\n",
              "      <div>\n",
              "<style scoped>\n",
              "    .dataframe tbody tr th:only-of-type {\n",
              "        vertical-align: middle;\n",
              "    }\n",
              "\n",
              "    .dataframe tbody tr th {\n",
              "        vertical-align: top;\n",
              "    }\n",
              "\n",
              "    .dataframe thead th {\n",
              "        text-align: right;\n",
              "    }\n",
              "</style>\n",
              "<table border=\"1\" class=\"dataframe\">\n",
              "  <thead>\n",
              "    <tr style=\"text-align: right;\">\n",
              "      <th></th>\n",
              "      <th>Task</th>\n",
              "      <th>TaskLink</th>\n",
              "      <th>Desc</th>\n",
              "      <th>Inc</th>\n",
              "      <th>IncLink</th>\n",
              "      <th>Creation</th>\n",
              "      <th>Start</th>\n",
              "      <th>End</th>\n",
              "      <th>LongDesc</th>\n",
              "      <th>End_Delta</th>\n",
              "      <th>End_Delta_sec</th>\n",
              "      <th>Start_Delta</th>\n",
              "      <th>Start_Delta_sec</th>\n",
              "    </tr>\n",
              "  </thead>\n",
              "  <tbody>\n",
              "    <tr>\n",
              "      <th>0</th>\n",
              "      <td>TASK0216008</td>\n",
              "      <td>https://richterprod.service-now.com/incident_t...</td>\n",
              "      <td>Az OV-01 TFL operátori állomás meghibásodott, ...</td>\n",
              "      <td>INC0118840</td>\n",
              "      <td>https://richterprod.service-now.com/incident.d...</td>\n",
              "      <td>2021-09-08 05:45:29</td>\n",
              "      <td>2021-09-08 05:48:13</td>\n",
              "      <td>2021-11-05 06:09:23</td>\n",
              "      <td>Az operátori állomás meghibásodott, nem indíth...</td>\n",
              "      <td>58 days 00:21:10</td>\n",
              "      <td>5012470</td>\n",
              "      <td>0 days 00:02:44</td>\n",
              "      <td>164</td>\n",
              "    </tr>\n",
              "    <tr>\n",
              "      <th>1</th>\n",
              "      <td>TASK0225687</td>\n",
              "      <td>https://richterprod.service-now.com/incident_t...</td>\n",
              "      <td>T5 tartály vezérelt fűtése nem működik ezért b...</td>\n",
              "      <td>INC0126270</td>\n",
              "      <td>https://richterprod.service-now.com/incident.d...</td>\n",
              "      <td>2021-10-15 05:19:48</td>\n",
              "      <td>2021-10-15 05:19:53</td>\n",
              "      <td>2021-10-19 13:09:13</td>\n",
              "      <td>T5 tartály fűtése csak kézi üzemmódban működik...</td>\n",
              "      <td>4 days 07:49:20</td>\n",
              "      <td>373760</td>\n",
              "      <td>0 days 00:00:05</td>\n",
              "      <td>5</td>\n",
              "    </tr>\n",
              "    <tr>\n",
              "      <th>2</th>\n",
              "      <td>TASK0225759</td>\n",
              "      <td>https://richterprod.service-now.com/incident_t...</td>\n",
              "      <td>Nem tudom kinyomtatni a mérési eredményeket.</td>\n",
              "      <td>INC0126341</td>\n",
              "      <td>https://richterprod.service-now.com/incident.d...</td>\n",
              "      <td>2021-10-15 07:58:58</td>\n",
              "      <td>2021-10-15 07:59:21</td>\n",
              "      <td>2021-10-19 13:07:54</td>\n",
              "      <td>Nem tudom kinyomtatni a mérési eredményeket a ...</td>\n",
              "      <td>4 days 05:08:33</td>\n",
              "      <td>364113</td>\n",
              "      <td>0 days 00:00:23</td>\n",
              "      <td>23</td>\n",
              "    </tr>\n",
              "    <tr>\n",
              "      <th>3</th>\n",
              "      <td>TASK0227851</td>\n",
              "      <td>https://richterprod.service-now.com/incident_t...</td>\n",
              "      <td>nem tudunk nyomtatni</td>\n",
              "      <td>INC0127776</td>\n",
              "      <td>https://richterprod.service-now.com/incident.d...</td>\n",
              "      <td>2021-10-25 04:53:38</td>\n",
              "      <td>2021-10-25 04:53:42</td>\n",
              "      <td>2021-11-15 10:00:12</td>\n",
              "      <td>None</td>\n",
              "      <td>21 days 05:06:30</td>\n",
              "      <td>1832790</td>\n",
              "      <td>0 days 00:00:04</td>\n",
              "      <td>4</td>\n",
              "    </tr>\n",
              "    <tr>\n",
              "      <th>4</th>\n",
              "      <td>TASK0230843</td>\n",
              "      <td>https://richterprod.service-now.com/incident_t...</td>\n",
              "      <td>AZ RG-LAB rendszerből nem tudunk feladatot nyo...</td>\n",
              "      <td>INC0129902</td>\n",
              "      <td>https://richterprod.service-now.com/incident.d...</td>\n",
              "      <td>2021-11-04 09:53:28</td>\n",
              "      <td>2021-11-04 09:53:51</td>\n",
              "      <td>2021-11-04 12:30:30</td>\n",
              "      <td>A feladatot ki lehet választani nyomtatásra, a...</td>\n",
              "      <td>0 days 02:36:39</td>\n",
              "      <td>9399</td>\n",
              "      <td>0 days 00:00:23</td>\n",
              "      <td>23</td>\n",
              "    </tr>\n",
              "    <tr>\n",
              "      <th>...</th>\n",
              "      <td>...</td>\n",
              "      <td>...</td>\n",
              "      <td>...</td>\n",
              "      <td>...</td>\n",
              "      <td>...</td>\n",
              "      <td>...</td>\n",
              "      <td>...</td>\n",
              "      <td>...</td>\n",
              "      <td>...</td>\n",
              "      <td>...</td>\n",
              "      <td>...</td>\n",
              "      <td>...</td>\n",
              "      <td>...</td>\n",
              "    </tr>\n",
              "    <tr>\n",
              "      <th>280</th>\n",
              "      <td>INC0212666</td>\n",
              "      <td>https://richterprod.service-now.com/incident.d...</td>\n",
              "      <td>[DCS rendszerek dorog - hibajegy]</td>\n",
              "      <td>INC0212666</td>\n",
              "      <td>https://richterprod.service-now.com/incident.d...</td>\n",
              "      <td>2023-02-09 10:30:05</td>\n",
              "      <td>2023-02-09 10:46:09</td>\n",
              "      <td>2023-02-09 12:10:09</td>\n",
              "      <td>[DCS rendszerek dorog - hibajegy]\\nÉrintett re...</td>\n",
              "      <td>0 days 01:24:00</td>\n",
              "      <td>5040</td>\n",
              "      <td>0 days 00:16:04</td>\n",
              "      <td>964</td>\n",
              "    </tr>\n",
              "    <tr>\n",
              "      <th>281</th>\n",
              "      <td>INC0212840</td>\n",
              "      <td>https://richterprod.service-now.com/incident.d...</td>\n",
              "      <td>MIFO-D -ben az 1. izolátor és 2. izolátorhoz t...</td>\n",
              "      <td>INC0212840</td>\n",
              "      <td>https://richterprod.service-now.com/incident.d...</td>\n",
              "      <td>2023-02-10 07:24:39</td>\n",
              "      <td>2023-02-10 07:24:39</td>\n",
              "      <td>NaT</td>\n",
              "      <td>MIFO-D -ben az 1. izolátor és 2. izolátorhoz t...</td>\n",
              "      <td>NaT</td>\n",
              "      <td>-9223372036854775808</td>\n",
              "      <td>0 days 00:00:00</td>\n",
              "      <td>0</td>\n",
              "    </tr>\n",
              "    <tr>\n",
              "      <th>282</th>\n",
              "      <td>INC0213025</td>\n",
              "      <td>https://richterprod.service-now.com/incident.d...</td>\n",
              "      <td>[DCS rendszerek dorog - hibajegy]</td>\n",
              "      <td>INC0213025</td>\n",
              "      <td>https://richterprod.service-now.com/incident.d...</td>\n",
              "      <td>2023-02-10 14:35:32</td>\n",
              "      <td>2023-02-10 14:35:39</td>\n",
              "      <td>2023-02-13 10:57:31</td>\n",
              "      <td>[DCS rendszerek dorog - hibajegy]\\nNone</td>\n",
              "      <td>2 days 20:21:52</td>\n",
              "      <td>246112</td>\n",
              "      <td>0 days 00:00:07</td>\n",
              "      <td>7</td>\n",
              "    </tr>\n",
              "    <tr>\n",
              "      <th>283</th>\n",
              "      <td>INC0213469</td>\n",
              "      <td>https://richterprod.service-now.com/incident.d...</td>\n",
              "      <td>Terepi terminál nem jelenít meg semmilyen értéket</td>\n",
              "      <td>INC0213469</td>\n",
              "      <td>https://richterprod.service-now.com/incident.d...</td>\n",
              "      <td>2023-02-14 08:36:08</td>\n",
              "      <td>2023-02-14 08:36:08</td>\n",
              "      <td>NaT</td>\n",
              "      <td>Terepi terminál nem jelenít meg semmilyen érté...</td>\n",
              "      <td>NaT</td>\n",
              "      <td>-9223372036854775808</td>\n",
              "      <td>0 days 00:00:00</td>\n",
              "      <td>0</td>\n",
              "    </tr>\n",
              "    <tr>\n",
              "      <th>284</th>\n",
              "      <td>INC0213507</td>\n",
              "      <td>https://richterprod.service-now.com/incident.d...</td>\n",
              "      <td>Február 6-án változtatott/új jelszavam \"elfele...</td>\n",
              "      <td>INC0213507</td>\n",
              "      <td>https://richterprod.service-now.com/incident.d...</td>\n",
              "      <td>2023-02-14 10:09:57</td>\n",
              "      <td>2023-02-14 10:09:57</td>\n",
              "      <td>2023-02-14 14:32:19</td>\n",
              "      <td>Február 6-án változtatott/új jelszavam \"elfele...</td>\n",
              "      <td>0 days 04:22:22</td>\n",
              "      <td>15742</td>\n",
              "      <td>0 days 00:00:00</td>\n",
              "      <td>0</td>\n",
              "    </tr>\n",
              "  </tbody>\n",
              "</table>\n",
              "<p>285 rows × 13 columns</p>\n",
              "</div>\n",
              "      <button class=\"colab-df-convert\" onclick=\"convertToInteractive('df-a0fc4638-1861-43c2-a681-b33895e5e9df')\"\n",
              "              title=\"Convert this dataframe to an interactive table.\"\n",
              "              style=\"display:none;\">\n",
              "        \n",
              "  <svg xmlns=\"http://www.w3.org/2000/svg\" height=\"24px\"viewBox=\"0 0 24 24\"\n",
              "       width=\"24px\">\n",
              "    <path d=\"M0 0h24v24H0V0z\" fill=\"none\"/>\n",
              "    <path d=\"M18.56 5.44l.94 2.06.94-2.06 2.06-.94-2.06-.94-.94-2.06-.94 2.06-2.06.94zm-11 1L8.5 8.5l.94-2.06 2.06-.94-2.06-.94L8.5 2.5l-.94 2.06-2.06.94zm10 10l.94 2.06.94-2.06 2.06-.94-2.06-.94-.94-2.06-.94 2.06-2.06.94z\"/><path d=\"M17.41 7.96l-1.37-1.37c-.4-.4-.92-.59-1.43-.59-.52 0-1.04.2-1.43.59L10.3 9.45l-7.72 7.72c-.78.78-.78 2.05 0 2.83L4 21.41c.39.39.9.59 1.41.59.51 0 1.02-.2 1.41-.59l7.78-7.78 2.81-2.81c.8-.78.8-2.07 0-2.86zM5.41 20L4 18.59l7.72-7.72 1.47 1.35L5.41 20z\"/>\n",
              "  </svg>\n",
              "      </button>\n",
              "      \n",
              "  <style>\n",
              "    .colab-df-container {\n",
              "      display:flex;\n",
              "      flex-wrap:wrap;\n",
              "      gap: 12px;\n",
              "    }\n",
              "\n",
              "    .colab-df-convert {\n",
              "      background-color: #E8F0FE;\n",
              "      border: none;\n",
              "      border-radius: 50%;\n",
              "      cursor: pointer;\n",
              "      display: none;\n",
              "      fill: #1967D2;\n",
              "      height: 32px;\n",
              "      padding: 0 0 0 0;\n",
              "      width: 32px;\n",
              "    }\n",
              "\n",
              "    .colab-df-convert:hover {\n",
              "      background-color: #E2EBFA;\n",
              "      box-shadow: 0px 1px 2px rgba(60, 64, 67, 0.3), 0px 1px 3px 1px rgba(60, 64, 67, 0.15);\n",
              "      fill: #174EA6;\n",
              "    }\n",
              "\n",
              "    [theme=dark] .colab-df-convert {\n",
              "      background-color: #3B4455;\n",
              "      fill: #D2E3FC;\n",
              "    }\n",
              "\n",
              "    [theme=dark] .colab-df-convert:hover {\n",
              "      background-color: #434B5C;\n",
              "      box-shadow: 0px 1px 3px 1px rgba(0, 0, 0, 0.15);\n",
              "      filter: drop-shadow(0px 1px 2px rgba(0, 0, 0, 0.3));\n",
              "      fill: #FFFFFF;\n",
              "    }\n",
              "  </style>\n",
              "\n",
              "      <script>\n",
              "        const buttonEl =\n",
              "          document.querySelector('#df-a0fc4638-1861-43c2-a681-b33895e5e9df button.colab-df-convert');\n",
              "        buttonEl.style.display =\n",
              "          google.colab.kernel.accessAllowed ? 'block' : 'none';\n",
              "\n",
              "        async function convertToInteractive(key) {\n",
              "          const element = document.querySelector('#df-a0fc4638-1861-43c2-a681-b33895e5e9df');\n",
              "          const dataTable =\n",
              "            await google.colab.kernel.invokeFunction('convertToInteractive',\n",
              "                                                     [key], {});\n",
              "          if (!dataTable) return;\n",
              "\n",
              "          const docLinkHtml = 'Like what you see? Visit the ' +\n",
              "            '<a target=\"_blank\" href=https://colab.research.google.com/notebooks/data_table.ipynb>data table notebook</a>'\n",
              "            + ' to learn more about interactive tables.';\n",
              "          element.innerHTML = '';\n",
              "          dataTable['output_type'] = 'display_data';\n",
              "          await google.colab.output.renderOutput(dataTable, element);\n",
              "          const docLink = document.createElement('div');\n",
              "          docLink.innerHTML = docLinkHtml;\n",
              "          element.appendChild(docLink);\n",
              "        }\n",
              "      </script>\n",
              "    </div>\n",
              "  </div>\n",
              "  "
            ]
          },
          "metadata": {},
          "execution_count": 33
        }
      ]
    },
    {
      "cell_type": "code",
      "source": [
        "df.plot(y=\"Start_Delta_sec\")"
      ],
      "metadata": {
        "colab": {
          "base_uri": "https://localhost:8080/",
          "height": 285
        },
        "id": "QOXKe3TSt-q5",
        "outputId": "ab5dbc78-38e8-4feb-dfd4-0e384a9f0ee2"
      },
      "execution_count": 34,
      "outputs": [
        {
          "output_type": "execute_result",
          "data": {
            "text/plain": [
              "<matplotlib.axes._subplots.AxesSubplot at 0x7fadc84b3070>"
            ]
          },
          "metadata": {},
          "execution_count": 34
        },
        {
          "output_type": "display_data",
          "data": {
            "text/plain": [
              "<Figure size 432x288 with 1 Axes>"
            ],
            "image/png": "[encoded data removed]"
          },
          "metadata": {
            "needs_background": "light"
          }
        }
      ]
    },
    {
      "cell_type": "code",
      "source": [
        "for i in range(len(df)):\n",
        "    print(i,df.loc[i].TaskLink)"
      ],
      "metadata": {
        "colab": {
          "base_uri": "https://localhost:8080/"
        },
        "id": "ss4xel5CEkmJ",
        "outputId": "ecc6f392-19ea-464a-8d05-f16930985613"
      },
      "execution_count": 35,
      "outputs": [
        {
          "output_type": "stream",
          "name": "stdout",
          "text": [
            "0 https://richterprod.service-now.com/incident_task.do?sys_id=fa348d90dbaa7090b4c40573f39619c5&sysparm_record_target=incident_task&sysparm_record_row=1&sysparm_record_rows=224&sysparm_record_list=assignment_group.name%3DMAS_DOR%5EORDERBYsys_created_on\n",
            "1 https://richterprod.service-now.com/incident_task.do?sys_id=6b212fccdb5f7854b4c40573f3961904&sysparm_record_target=incident_task&sysparm_record_row=2&sysparm_record_rows=224&sysparm_record_list=assignment_group.name%3DMAS_DOR%5EORDERBYsys_created_on\n",
            "2 https://richterprod.service-now.com/incident_task.do?sys_id=f6954458db5b74549fdbbb13f3961903&sysparm_record_target=incident_task&sysparm_record_row=3&sysparm_record_rows=224&sysparm_record_list=assignment_group.name%3DMAS_DOR%5EORDERBYsys_created_on\n",
            "3 https://richterprod.service-now.com/incident_task.do?sys_id=791bbe9bdbd3bc109fdbbb13f396198a&sysparm_record_target=incident_task&sysparm_record_row=4&sysparm_record_rows=224&sysparm_record_list=assignment_group.name%3DMAS_DOR%5EORDERBYsys_created_on\n",
            "4 https://richterprod.service-now.com/incident_task.do?sys_id=179f13eadb63bc909fdbbb13f3961908&sysparm_record_target=incident_task&sysparm_record_row=5&sysparm_record_rows=224&sysparm_record_list=assignment_group.name%3DMAS_DOR%5EORDERBYsys_created_on\n",
            "5 https://richterprod.service-now.com/incident_task.do?sys_id=eba40f7fdbe7bcd0b4c40573f3961909&sysparm_record_target=incident_task&sysparm_record_row=6&sysparm_record_rows=224&sysparm_record_list=assignment_group.name%3DMAS_DOR%5EORDERBYsys_created_on\n",
            "6 https://richterprod.service-now.com/incident_task.do?sys_id=5bbe3f3cdbf7b4105674b3b4f396197e&sysparm_record_target=incident_task&sysparm_record_row=7&sysparm_record_rows=224&sysparm_record_list=assignment_group.name%3DMAS_DOR%5EORDERBYsys_created_on\n",
            "7 https://richterprod.service-now.com/incident_task.do?sys_id=e751eb8adbb370505674b3b4f3961944&sysparm_record_target=incident_task&sysparm_record_row=8&sysparm_record_rows=224&sysparm_record_list=assignment_group.name%3DMAS_DOR%5EORDERBYsys_created_on\n",
            "8 https://richterprod.service-now.com/incident_task.do?sys_id=5c816fcadbb370505674b3b4f396191a&sysparm_record_target=incident_task&sysparm_record_row=9&sysparm_record_rows=224&sysparm_record_list=assignment_group.name%3DMAS_DOR%5EORDERBYsys_created_on\n",
            "9 https://richterprod.service-now.com/incident_task.do?sys_id=2b06bb02db7b70505674b3b4f39619fc&sysparm_record_target=incident_task&sysparm_record_row=10&sysparm_record_rows=224&sysparm_record_list=assignment_group.name%3DMAS_DOR%5EORDERBYsys_created_on\n",
            "10 https://richterprod.service-now.com/incident_task.do?sys_id=9b3f65f2dbbb38505674b3b4f3961937&sysparm_record_target=incident_task&sysparm_record_row=11&sysparm_record_rows=224&sysparm_record_list=assignment_group.name%3DMAS_DOR%5EORDERBYsys_created_on\n",
            "11 https://richterprod.service-now.com/incident_task.do?sys_id=bf9c1f74db50cd5042dad042f39619d2&sysparm_record_target=incident_task&sysparm_record_row=12&sysparm_record_rows=224&sysparm_record_list=assignment_group.name%3DMAS_DOR%5EORDERBYsys_created_on\n",
            "12 https://richterprod.service-now.com/incident_task.do?sys_id=1fc7b3f0db18cd5042dad042f39619f8&sysparm_record_target=incident_task&sysparm_record_row=13&sysparm_record_rows=224&sysparm_record_list=assignment_group.name%3DMAS_DOR%5EORDERBYsys_created_on\n",
            "13 https://richterprod.service-now.com/incident_task.do?sys_id=1c41f6e9dbd0c59042dad042f3961900&sysparm_record_target=incident_task&sysparm_record_row=14&sysparm_record_rows=224&sysparm_record_list=assignment_group.name%3DMAS_DOR%5EORDERBYsys_created_on\n",
            "14 https://richterprod.service-now.com/incident_task.do?sys_id=7b25a7c74798051005945ecbd36d439c&sysparm_record_target=incident_task&sysparm_record_row=15&sysparm_record_rows=224&sysparm_record_list=assignment_group.name%3DMAS_DOR%5EORDERBYsys_created_on\n",
            "15 https://richterprod.service-now.com/incident_task.do?sys_id=18531fd1976cc1106ed631c3f153af5d&sysparm_record_target=incident_task&sysparm_record_row=16&sysparm_record_rows=224&sysparm_record_list=assignment_group.name%3DMAS_DOR%5EORDERBYsys_created_on\n",
            "16 https://richterprod.service-now.com/incident_task.do?sys_id=cb7b7c7547ac851005945ecbd36d432d&sysparm_record_target=incident_task&sysparm_record_row=17&sysparm_record_rows=224&sysparm_record_list=assignment_group.name%3DMAS_DOR%5EORDERBYsys_created_on\n",
            "17 https://richterprod.service-now.com/incident_task.do?sys_id=2b61cbe29720cd106ed631c3f153af69&sysparm_record_target=incident_task&sysparm_record_row=18&sysparm_record_rows=224&sysparm_record_list=assignment_group.name%3DMAS_DOR%5EORDERBYsys_created_on\n",
            "18 https://richterprod.service-now.com/incident_task.do?sys_id=315c1057977c05d06ed631c3f153afbf&sysparm_record_target=incident_task&sysparm_record_row=19&sysparm_record_rows=224&sysparm_record_list=assignment_group.name%3DMAS_DOR%5EORDERBYsys_created_on\n",
            "19 https://richterprod.service-now.com/incident_task.do?sys_id=6e6bf6bc97c90d106ed631c3f153af79&sysparm_record_target=incident_task&sysparm_record_row=20&sysparm_record_rows=224&sysparm_record_list=assignment_group.name%3DMAS_DOR%5EORDERBYsys_created_on\n",
            "20 https://richterprod.service-now.com/incident_task.do?sys_id=cf76233897c54d106ed631c3f153afa9&sysparm_record_target=incident_task&sysparm_record_row=21&sysparm_record_rows=224&sysparm_record_list=assignment_group.name%3DMAS_DOR%5EORDERBYsys_created_on\n",
            "21 https://richterprod.service-now.com/incident_task.do?sys_id=098ec8224741415405945ecbd36d43fb&sysparm_record_target=incident_task&sysparm_record_row=22&sysparm_record_rows=224&sysparm_record_list=assignment_group.name%3DMAS_DOR%5EORDERBYsys_created_on\n",
            "22 https://richterprod.service-now.com/incident_task.do?sys_id=d8042307470d411005945ecbd36d4363&sysparm_record_target=incident_task&sysparm_record_row=23&sysparm_record_rows=224&sysparm_record_list=assignment_group.name%3DMAS_DOR%5EORDERBYsys_created_on\n",
            "23 https://richterprod.service-now.com/incident_task.do?sys_id=d4b925fb97410d906ed631c3f153afb6&sysparm_record_target=incident_task&sysparm_record_row=24&sysparm_record_rows=224&sysparm_record_list=assignment_group.name%3DMAS_DOR%5EORDERBYsys_created_on\n",
            "24 https://richterprod.service-now.com/incident_task.do?sys_id=fbc9e5fb97410d906ed631c3f153af93&sysparm_record_target=incident_task&sysparm_record_row=25&sysparm_record_rows=224&sysparm_record_list=assignment_group.name%3DMAS_DOR%5EORDERBYsys_created_on\n",
            "25 https://richterprod.service-now.com/incident_task.do?sys_id=abc1b3a49719c1106ed631c3f153afa1&sysparm_record_target=incident_task&sysparm_record_row=26&sysparm_record_rows=224&sysparm_record_list=assignment_group.name%3DMAS_DOR%5EORDERBYsys_created_on\n",
            "26 https://richterprod.service-now.com/incident_task.do?sys_id=98419d3c971545106ed631c3f153af71&sysparm_record_target=incident_task&sysparm_record_row=27&sysparm_record_rows=224&sysparm_record_list=assignment_group.name%3DMAS_DOR%5EORDERBYsys_created_on\n",
            "27 https://richterprod.service-now.com/incident_task.do?sys_id=325f294d47d9c51005945ecbd36d4397&sysparm_record_target=incident_task&sysparm_record_row=28&sysparm_record_rows=224&sysparm_record_list=assignment_group.name%3DMAS_DOR%5EORDERBYsys_created_on\n",
            "28 https://richterprod.service-now.com/incident_task.do?sys_id=cdf652854795091005945ecbd36d437b&sysparm_record_target=incident_task&sysparm_record_row=29&sysparm_record_rows=224&sysparm_record_list=assignment_group.name%3DMAS_DOR%5EORDERBYsys_created_on\n",
            "29 https://richterprod.service-now.com/incident_task.do?sys_id=ffe0d0a947990d1005945ecbd36d43b3&sysparm_record_target=incident_task&sysparm_record_row=30&sysparm_record_rows=224&sysparm_record_list=assignment_group.name%3DMAS_DOR%5EORDERBYsys_created_on\n",
            "30 https://richterprod.service-now.com/incident_task.do?sys_id=d06593a547d58d1005945ecbd36d4378&sysparm_record_target=incident_task&sysparm_record_row=31&sysparm_record_rows=224&sysparm_record_list=assignment_group.name%3DMAS_DOR%5EORDERBYsys_created_on\n",
            "31 https://richterprod.service-now.com/incident_task.do?sys_id=d83ed0b547d9cd1005945ecbd36d434b&sysparm_record_target=incident_task&sysparm_record_row=32&sysparm_record_rows=224&sysparm_record_list=assignment_group.name%3DMAS_DOR%5EORDERBYsys_created_on\n",
            "32 https://richterprod.service-now.com/incident_task.do?sys_id=7b72958a979d81506ed631c3f153af1e&sysparm_record_target=incident_task&sysparm_record_row=33&sysparm_record_rows=224&sysparm_record_list=assignment_group.name%3DMAS_DOR%5EORDERBYsys_created_on\n",
            "33 https://richterprod.service-now.com/incident_task.do?sys_id=da7c8fef97d581906ed631c3f153afba&sysparm_record_target=incident_task&sysparm_record_row=34&sysparm_record_rows=224&sysparm_record_list=assignment_group.name%3DMAS_DOR%5EORDERBYsys_created_on\n",
            "34 https://richterprod.service-now.com/incident_task.do?sys_id=f78a77e797d1c1906ed631c3f153af36&sysparm_record_target=incident_task&sysparm_record_row=35&sysparm_record_rows=224&sysparm_record_list=assignment_group.name%3DMAS_DOR%5EORDERBYsys_created_on\n",
            "35 https://richterprod.service-now.com/incident_task.do?sys_id=1d0bb36b97d1c1906ed631c3f153afc3&sysparm_record_target=incident_task&sysparm_record_row=36&sysparm_record_rows=224&sysparm_record_list=assignment_group.name%3DMAS_DOR%5EORDERBYsys_created_on\n",
            "36 https://richterprod.service-now.com/incident_task.do?sys_id=474d8c404769459005945ecbd36d4396&sysparm_record_target=incident_task&sysparm_record_row=37&sysparm_record_rows=224&sysparm_record_list=assignment_group.name%3DMAS_DOR%5EORDERBYsys_created_on\n",
            "37 https://richterprod.service-now.com/incident_task.do?sys_id=2e0ec4044769459005945ecbd36d430f&sysparm_record_target=incident_task&sysparm_record_row=38&sysparm_record_rows=224&sysparm_record_list=assignment_group.name%3DMAS_DOR%5EORDERBYsys_created_on\n",
            "38 https://richterprod.service-now.com/incident_task.do?sys_id=994e4c044769459005945ecbd36d4327&sysparm_record_target=incident_task&sysparm_record_row=39&sysparm_record_rows=224&sysparm_record_list=assignment_group.name%3DMAS_DOR%5EORDERBYsys_created_on\n",
            "39 https://richterprod.service-now.com/incident_task.do?sys_id=5b4d7745976141d06ed631c3f153af6e&sysparm_record_target=incident_task&sysparm_record_row=40&sysparm_record_rows=224&sysparm_record_list=assignment_group.name%3DMAS_DOR%5EORDERBYsys_created_on\n",
            "40 https://richterprod.service-now.com/incident_task.do?sys_id=86a1c199972581d06ed631c3f153af19&sysparm_record_target=incident_task&sysparm_record_row=41&sysparm_record_rows=224&sysparm_record_list=assignment_group.name%3DMAS_DOR%5EORDERBYsys_created_on\n",
            "41 https://richterprod.service-now.com/incident_task.do?sys_id=67f9f56d47e505d005945ecbd36d43ce&sysparm_record_target=incident_task&sysparm_record_row=42&sysparm_record_rows=224&sysparm_record_list=assignment_group.name%3DMAS_DOR%5EORDERBYsys_created_on\n",
            "42 https://richterprod.service-now.com/incident_task.do?sys_id=7e630ef547a1c5d005945ecbd36d435d&sysparm_record_target=incident_task&sysparm_record_row=43&sysparm_record_rows=224&sysparm_record_list=assignment_group.name%3DMAS_DOR%5EORDERBYsys_created_on\n",
            "43 https://richterprod.service-now.com/incident_task.do?sys_id=6085ee7d976d49d06ed631c3f153afc4&sysparm_record_target=incident_task&sysparm_record_row=44&sysparm_record_rows=224&sysparm_record_list=assignment_group.name%3DMAS_DOR%5EORDERBYsys_created_on\n",
            "44 https://richterprod.service-now.com/incident_task.do?sys_id=5f39abc247ed011005945ecbd36d431d&sysparm_record_target=incident_task&sysparm_record_row=45&sysparm_record_rows=224&sysparm_record_list=assignment_group.name%3DMAS_DOR%5EORDERBYsys_created_on\n",
            "45 https://richterprod.service-now.com/incident_task.do?sys_id=f65889d247a5811005945ecbd36d4385&sysparm_record_target=incident_task&sysparm_record_row=46&sysparm_record_rows=224&sysparm_record_list=assignment_group.name%3DMAS_DOR%5EORDERBYsys_created_on\n",
            "46 https://richterprod.service-now.com/incident_task.do?sys_id=13b06da64721451005945ecbd36d439b&sysparm_record_target=incident_task&sysparm_record_row=47&sysparm_record_rows=224&sysparm_record_list=assignment_group.name%3DMAS_DOR%5EORDERBYsys_created_on\n",
            "47 https://richterprod.service-now.com/incident_task.do?sys_id=8940c0a347edc91005945ecbd36d43bd&sysparm_record_target=incident_task&sysparm_record_row=48&sysparm_record_rows=224&sysparm_record_list=assignment_group.name%3DMAS_DOR%5EORDERBYsys_created_on\n",
            "48 https://richterprod.service-now.com/incident_task.do?sys_id=bafb0c6f47610d1005945ecbd36d435b&sysparm_record_target=incident_task&sysparm_record_row=49&sysparm_record_rows=224&sysparm_record_list=assignment_group.name%3DMAS_DOR%5EORDERBYsys_created_on\n",
            "49 https://richterprod.service-now.com/incident_task.do?sys_id=53c8d0e747650d1005945ecbd36d43fb&sysparm_record_target=incident_task&sysparm_record_row=50&sysparm_record_rows=224&sysparm_record_list=assignment_group.name%3DMAS_DOR%5EORDERBYsys_created_on\n",
            "50 https://richterprod.service-now.com/incident_task.do?sys_id=8d5998eb47650d1005945ecbd36d432c&sysparm_record_target=incident_task&sysparm_record_row=51&sysparm_record_rows=224&sysparm_record_list=assignment_group.name%3DMAS_DOR%5EORDERBYsys_created_on\n",
            "51 https://richterprod.service-now.com/incident_task.do?sys_id=c519b53b972549106ed631c3f153af27&sysparm_record_target=incident_task&sysparm_record_row=52&sysparm_record_rows=224&sysparm_record_list=assignment_group.name%3DMAS_DOR%5EORDERBYsys_created_on\n",
            "52 https://richterprod.service-now.com/incident_task.do?sys_id=39bddec84735c15005945ecbd36d4326&sysparm_record_target=incident_task&sysparm_record_row=53&sysparm_record_rows=224&sysparm_record_list=assignment_group.name%3DMAS_DOR%5EORDERBYsys_created_on\n",
            "53 https://richterprod.service-now.com/incident_task.do?sys_id=4879c30497fd0d106ed631c3f153af67&sysparm_record_target=incident_task&sysparm_record_row=54&sysparm_record_rows=224&sysparm_record_list=assignment_group.name%3DMAS_DOR%5EORDERBYsys_created_on\n",
            "54 https://richterprod.service-now.com/incident_task.do?sys_id=284400e097f501506ed631c3f153af7c&sysparm_record_target=incident_task&sysparm_record_row=55&sysparm_record_rows=224&sysparm_record_list=assignment_group.name%3DMAS_DOR%5EORDERBYsys_created_on\n",
            "55 https://richterprod.service-now.com/incident_task.do?sys_id=2173bc7c973dc1506ed631c3f153afa9&sysparm_record_target=incident_task&sysparm_record_row=56&sysparm_record_rows=224&sysparm_record_list=assignment_group.name%3DMAS_DOR%5EORDERBYsys_created_on\n",
            "56 https://richterprod.service-now.com/incident_task.do?sys_id=f997bf299775c1106ed631c3f153aff4&sysparm_record_target=incident_task&sysparm_record_row=57&sysparm_record_rows=224&sysparm_record_list=assignment_group.name%3DMAS_DOR%5EORDERBYsys_created_on\n",
            "57 https://richterprod.service-now.com/incident_task.do?sys_id=dc3e9ed647f9c91005945ecbd36d4370&sysparm_record_target=incident_task&sysparm_record_row=58&sysparm_record_rows=224&sysparm_record_list=assignment_group.name%3DMAS_DOR%5EORDERBYsys_created_on\n",
            "58 https://richterprod.service-now.com/incident_task.do?sys_id=be023d43977581506ed631c3f153af3c&sysparm_record_target=incident_task&sysparm_record_row=59&sysparm_record_rows=224&sysparm_record_list=assignment_group.name%3DMAS_DOR%5EORDERBYsys_created_on\n",
            "59 https://richterprod.service-now.com/incident_task.do?sys_id=7af40e8f477dc15005945ecbd36d434c&sysparm_record_target=incident_task&sysparm_record_row=60&sysparm_record_rows=224&sysparm_record_list=assignment_group.name%3DMAS_DOR%5EORDERBYsys_created_on\n",
            "60 https://richterprod.service-now.com/incident_task.do?sys_id=dd297f3f977909506ed631c3f153afe2&sysparm_record_target=incident_task&sysparm_record_row=61&sysparm_record_rows=224&sysparm_record_list=assignment_group.name%3DMAS_DOR%5EORDERBYsys_created_on\n",
            "61 https://richterprod.service-now.com/incident_task.do?sys_id=60fb080047ca895005945ecbd36d43c1&sysparm_record_target=incident_task&sysparm_record_row=62&sysparm_record_rows=224&sysparm_record_list=assignment_group.name%3DMAS_DOR%5EORDERBYsys_created_on\n",
            "62 https://richterprod.service-now.com/incident_task.do?sys_id=ea65780c970a49506ed631c3f153afd3&sysparm_record_target=incident_task&sysparm_record_row=63&sysparm_record_rows=224&sysparm_record_list=assignment_group.name%3DMAS_DOR%5EORDERBYsys_created_on\n",
            "63 https://richterprod.service-now.com/incident_task.do?sys_id=e49767f84742859005945ecbd36d43a4&sysparm_record_target=incident_task&sysparm_record_row=64&sysparm_record_rows=224&sysparm_record_list=assignment_group.name%3DMAS_DOR%5EORDERBYsys_created_on\n",
            "64 https://richterprod.service-now.com/incident_task.do?sys_id=d83bd849478e859005945ecbd36d4325&sysparm_record_target=incident_task&sysparm_record_row=65&sysparm_record_rows=224&sysparm_record_list=assignment_group.name%3DMAS_DOR%5EORDERBYsys_created_on\n",
            "65 https://richterprod.service-now.com/incident_task.do?sys_id=ad99e04197cec1906ed631c3f153af06&sysparm_record_target=incident_task&sysparm_record_row=66&sysparm_record_rows=224&sysparm_record_list=assignment_group.name%3DMAS_DOR%5EORDERBYsys_created_on\n",
            "66 https://richterprod.service-now.com/incident_task.do?sys_id=ee9ffcd5478e499005945ecbd36d43d4&sysparm_record_target=incident_task&sysparm_record_row=67&sysparm_record_rows=224&sysparm_record_list=assignment_group.name%3DMAS_DOR%5EORDERBYsys_created_on\n",
            "67 https://richterprod.service-now.com/incident_task.do?sys_id=bce61c12478681d005945ecbd36d435b&sysparm_record_target=incident_task&sysparm_record_row=68&sysparm_record_rows=224&sysparm_record_list=assignment_group.name%3DMAS_DOR%5EORDERBYsys_created_on\n",
            "68 https://richterprod.service-now.com/incident_task.do?sys_id=3fc389d24746c1d005945ecbd36d4383&sysparm_record_target=incident_task&sysparm_record_row=69&sysparm_record_rows=224&sysparm_record_list=assignment_group.name%3DMAS_DOR%5EORDERBYsys_created_on\n",
            "69 https://richterprod.service-now.com/incident_task.do?sys_id=e9369bb2974a45d06ed631c3f153afc4&sysparm_record_target=incident_task&sysparm_record_row=70&sysparm_record_rows=224&sysparm_record_list=assignment_group.name%3DMAS_DOR%5EORDERBYsys_created_on\n",
            "70 https://richterprod.service-now.com/incident_task.do?sys_id=3949f41b474e8dd005945ecbd36d4388&sysparm_record_target=incident_task&sysparm_record_row=71&sysparm_record_rows=224&sysparm_record_list=assignment_group.name%3DMAS_DOR%5EORDERBYsys_created_on\n",
            "71 https://richterprod.service-now.com/incident_task.do?sys_id=d731a52f478a411405945ecbd36d438b&sysparm_record_target=incident_task&sysparm_record_row=72&sysparm_record_rows=224&sysparm_record_list=assignment_group.name%3DMAS_DOR%5EORDERBYsys_created_on\n",
            "72 https://richterprod.service-now.com/incident_task.do?sys_id=4f09aa45879e4910695c631c8bbb3567&sysparm_record_target=incident_task&sysparm_record_row=73&sysparm_record_rows=224&sysparm_record_list=assignment_group.name%3DMAS_DOR%5EORDERBYsys_created_on\n",
            "73 https://richterprod.service-now.com/incident_task.do?sys_id=bb7557c1871e8910695c631c8bbb3538&sysparm_record_target=incident_task&sysparm_record_row=74&sysparm_record_rows=224&sysparm_record_list=assignment_group.name%3DMAS_DOR%5EORDERBYsys_created_on\n",
            "74 https://richterprod.service-now.com/incident_task.do?sys_id=d81eec2587968d1061ab202c8bbb3538&sysparm_record_target=incident_task&sysparm_record_row=75&sysparm_record_rows=224&sysparm_record_list=assignment_group.name%3DMAS_DOR%5EORDERBYsys_created_on\n",
            "75 https://richterprod.service-now.com/incident_task.do?sys_id=36b195fd879e0110695c631c8bbb3533&sysparm_record_target=incident_task&sysparm_record_row=76&sysparm_record_rows=224&sysparm_record_list=assignment_group.name%3DMAS_DOR%5EORDERBYsys_created_on\n",
            "76 https://richterprod.service-now.com/incident_task.do?sys_id=d413d936871a4510695c631c8bbb359d&sysparm_record_target=incident_task&sysparm_record_row=77&sysparm_record_rows=224&sysparm_record_list=assignment_group.name%3DMAS_DOR%5EORDERBYsys_created_on\n",
            "77 https://richterprod.service-now.com/incident_task.do?sys_id=aa2ed58f87160910695c631c8bbb3546&sysparm_record_target=incident_task&sysparm_record_row=78&sysparm_record_rows=224&sysparm_record_list=assignment_group.name%3DMAS_DOR%5EORDERBYsys_created_on\n",
            "78 https://richterprod.service-now.com/incident_task.do?sys_id=dabdfa8f871e4910695c631c8bbb3562&sysparm_record_target=incident_task&sysparm_record_row=79&sysparm_record_rows=224&sysparm_record_list=assignment_group.name%3DMAS_DOR%5EORDERBYsys_created_on\n",
            "79 https://richterprod.service-now.com/incident_task.do?sys_id=eeafd25f879ec910695c631c8bbb353b&sysparm_record_target=incident_task&sysparm_record_row=80&sysparm_record_rows=224&sysparm_record_list=assignment_group.name%3DMAS_DOR%5EORDERBYsys_created_on\n",
            "80 https://richterprod.service-now.com/incident_task.do?sys_id=f87aa75b87520d1061ab202c8bbb35b5&sysparm_record_target=incident_task&sysparm_record_row=81&sysparm_record_rows=224&sysparm_record_list=assignment_group.name%3DMAS_DOR%5EORDERBYsys_created_on\n",
            "81 https://richterprod.service-now.com/incident_task.do?sys_id=973073e787d6cd10695c631c8bbb35d7&sysparm_record_target=incident_task&sysparm_record_row=82&sysparm_record_rows=224&sysparm_record_list=assignment_group.name%3DMAS_DOR%5EORDERBYsys_created_on\n",
            "82 https://richterprod.service-now.com/incident_task.do?sys_id=ba19c8fb871e8d1061ab202c8bbb359a&sysparm_record_target=incident_task&sysparm_record_row=83&sysparm_record_rows=224&sysparm_record_list=assignment_group.name%3DMAS_DOR%5EORDERBYsys_created_on\n",
            "83 https://richterprod.service-now.com/incident_task.do?sys_id=7ddac8b3875ecd10695c631c8bbb3532&sysparm_record_target=incident_task&sysparm_record_row=84&sysparm_record_rows=224&sysparm_record_list=assignment_group.name%3DMAS_DOR%5EORDERBYsys_created_on\n",
            "84 https://richterprod.service-now.com/incident_task.do?sys_id=e933a9b38796015061ab202c8bbb353b&sysparm_record_target=incident_task&sysparm_record_row=85&sysparm_record_rows=224&sysparm_record_list=assignment_group.name%3DMAS_DOR%5EORDERBYsys_created_on\n",
            "85 https://richterprod.service-now.com/incident_task.do?sys_id=31df8f5487ee855061ab202c8bbb3511&sysparm_record_target=incident_task&sysparm_record_row=86&sysparm_record_rows=224&sysparm_record_list=assignment_group.name%3DMAS_DOR%5EORDERBYsys_created_on\n",
            "86 https://richterprod.service-now.com/incident_task.do?sys_id=d1267bf087a6c95061ab202c8bbb353d&sysparm_record_target=incident_task&sysparm_record_row=87&sysparm_record_rows=224&sysparm_record_list=assignment_group.name%3DMAS_DOR%5EORDERBYsys_created_on\n",
            "87 https://richterprod.service-now.com/incident_task.do?sys_id=152d150187260d50695c631c8bbb35b5&sysparm_record_target=incident_task&sysparm_record_row=88&sysparm_record_rows=224&sysparm_record_list=assignment_group.name%3DMAS_DOR%5EORDERBYsys_created_on\n",
            "88 https://richterprod.service-now.com/incident_task.do?sys_id=63b9294987264d5061ab202c8bbb353d&sysparm_record_target=incident_task&sysparm_record_row=89&sysparm_record_rows=224&sysparm_record_list=assignment_group.name%3DMAS_DOR%5EORDERBYsys_created_on\n",
            "89 https://richterprod.service-now.com/incident_task.do?sys_id=d0235e85876e4d5061ab202c8bbb35fd&sysparm_record_target=incident_task&sysparm_record_row=90&sysparm_record_rows=224&sysparm_record_list=assignment_group.name%3DMAS_DOR%5EORDERBYsys_created_on\n",
            "90 https://richterprod.service-now.com/incident_task.do?sys_id=7503fa61872ec19061ab202c8bbb35d1&sysparm_record_target=incident_task&sysparm_record_row=91&sysparm_record_rows=224&sysparm_record_list=assignment_group.name%3DMAS_DOR%5EORDERBYsys_created_on\n",
            "91 https://richterprod.service-now.com/incident_task.do?sys_id=c72a3229876a8190695c631c8bbb355e&sysparm_record_target=incident_task&sysparm_record_row=92&sysparm_record_rows=224&sysparm_record_list=assignment_group.name%3DMAS_DOR%5EORDERBYsys_created_on\n",
            "92 https://richterprod.service-now.com/incident_task.do?sys_id=a6d6d88e87a2099061ab202c8bbb35f7&sysparm_record_target=incident_task&sysparm_record_row=93&sysparm_record_rows=224&sysparm_record_list=assignment_group.name%3DMAS_DOR%5EORDERBYsys_created_on\n",
            "93 https://richterprod.service-now.com/incident_task.do?sys_id=2e16acd2872ec99061ab202c8bbb3506&sysparm_record_target=incident_task&sysparm_record_row=94&sysparm_record_rows=224&sysparm_record_list=assignment_group.name%3DMAS_DOR%5EORDERBYsys_created_on\n",
            "94 https://richterprod.service-now.com/incident_task.do?sys_id=5c93fc5687eec99061ab202c8bbb356b&sysparm_record_target=incident_task&sysparm_record_row=95&sysparm_record_rows=224&sysparm_record_list=assignment_group.name%3DMAS_DOR%5EORDERBYsys_created_on\n",
            "95 https://richterprod.service-now.com/incident_task.do?sys_id=15f08d5a87a20d9061ab202c8bbb3511&sysparm_record_target=incident_task&sysparm_record_row=96&sysparm_record_rows=224&sysparm_record_list=assignment_group.name%3DMAS_DOR%5EORDERBYsys_created_on\n",
            "96 https://richterprod.service-now.com/incident_task.do?sys_id=7928c91b876a45d061ab202c8bbb35ce&sysparm_record_target=incident_task&sysparm_record_row=97&sysparm_record_rows=224&sysparm_record_list=assignment_group.name%3DMAS_DOR%5EORDERBYsys_created_on\n",
            "97 https://richterprod.service-now.com/incident_task.do?sys_id=362892db87ae85d061ab202c8bbb35e2&sysparm_record_target=incident_task&sysparm_record_row=98&sysparm_record_rows=224&sysparm_record_list=assignment_group.name%3DMAS_DOR%5EORDERBYsys_created_on\n",
            "98 https://richterprod.service-now.com/incident_task.do?sys_id=d669833387e64dd061ab202c8bbb35bd&sysparm_record_target=incident_task&sysparm_record_row=99&sysparm_record_rows=224&sysparm_record_list=assignment_group.name%3DMAS_DOR%5EORDERBYsys_created_on\n",
            "99 https://richterprod.service-now.com/incident_task.do?sys_id=8de9cb7387e64dd061ab202c8bbb35e1&sysparm_record_target=incident_task&sysparm_record_row=100&sysparm_record_rows=224&sysparm_record_list=assignment_group.name%3DMAS_DOR%5EORDERBYsys_created_on\n",
            "100 https://richterprod.service-now.com/incident_task.do?sys_id=c6a1a4cc873e8dd061ab202c8bbb3544&sysparm_record_target=incident_task&sysparm_record_row=101&sysparm_record_rows=224&sysparm_record_list=assignment_group.name%3DMAS_DOR%5EORDERBYsys_created_on\n",
            "101 https://richterprod.service-now.com/incident_task.do?sys_id=9e705128873a051461ab202c8bbb356d&sysparm_record_target=incident_task&sysparm_record_row=102&sysparm_record_rows=224&sysparm_record_list=assignment_group.name%3DMAS_DOR%5EORDERBYsys_created_on\n",
            "102 https://richterprod.service-now.com/incident_task.do?sys_id=a16bc46d87be051061ab202c8bbb3519&sysparm_record_target=incident_task&sysparm_record_row=103&sysparm_record_rows=224&sysparm_record_list=assignment_group.name%3DMAS_DOR%5EORDERBYsys_created_on\n",
            "103 https://richterprod.service-now.com/incident_task.do?sys_id=f54bd4a187b2451061ab202c8bbb3564&sysparm_record_target=incident_task&sysparm_record_row=104&sysparm_record_rows=224&sysparm_record_list=assignment_group.name%3DMAS_DOR%5EORDERBYsys_created_on\n",
            "104 https://richterprod.service-now.com/incident_task.do?sys_id=7143934287fe0d1061ab202c8bbb3518&sysparm_record_target=incident_task&sysparm_record_row=105&sysparm_record_rows=224&sysparm_record_list=assignment_group.name%3DMAS_DOR%5EORDERBYsys_created_on\n",
            "105 https://richterprod.service-now.com/incident_task.do?sys_id=9a041fc287fe0d1061ab202c8bbb3578&sysparm_record_target=incident_task&sysparm_record_row=106&sysparm_record_rows=224&sysparm_record_list=assignment_group.name%3DMAS_DOR%5EORDERBYsys_created_on\n",
            "106 https://richterprod.service-now.com/incident_task.do?sys_id=5ada265c87c74910695c631c8bbb352f&sysparm_record_target=incident_task&sysparm_record_row=107&sysparm_record_rows=224&sysparm_record_list=assignment_group.name%3DMAS_DOR%5EORDERBYsys_created_on\n",
            "107 https://richterprod.service-now.com/incident_task.do?sys_id=21e0e31487478910695c631c8bbb3540&sysparm_record_target=incident_task&sysparm_record_row=108&sysparm_record_rows=224&sysparm_record_list=assignment_group.name%3DMAS_DOR%5EORDERBYsys_created_on\n",
            "108 https://richterprod.service-now.com/incident_task.do?sys_id=889b0ca087cf891061ab202c8bbb35f6&sysparm_record_target=incident_task&sysparm_record_row=109&sysparm_record_rows=224&sysparm_record_list=assignment_group.name%3DMAS_DOR%5EORDERBYsys_created_on\n",
            "109 https://richterprod.service-now.com/incident_task.do?sys_id=dd750c3487874d1061ab202c8bbb3568&sysparm_record_target=incident_task&sysparm_record_row=110&sysparm_record_rows=224&sysparm_record_list=assignment_group.name%3DMAS_DOR%5EORDERBYsys_created_on\n",
            "110 https://richterprod.service-now.com/incident_task.do?sys_id=24fabd8187074150695c631c8bbb3578&sysparm_record_target=incident_task&sysparm_record_row=111&sysparm_record_rows=224&sysparm_record_list=assignment_group.name%3DMAS_DOR%5EORDERBYsys_created_on\n",
            "111 https://richterprod.service-now.com/incident_task.do?sys_id=1911844e878fc550695c631c8bbb353b&sysparm_record_target=incident_task&sysparm_record_row=112&sysparm_record_rows=224&sysparm_record_list=assignment_group.name%3DMAS_DOR%5EORDERBYsys_created_on\n",
            "112 https://richterprod.service-now.com/incident_task.do?sys_id=31dc1042870bc55061ab202c8bbb3575&sysparm_record_target=incident_task&sysparm_record_row=113&sysparm_record_rows=224&sysparm_record_list=assignment_group.name%3DMAS_DOR%5EORDERBYsys_created_on\n",
            "113 https://richterprod.service-now.com/incident_task.do?sys_id=cfe69b2c871305d0695c631c8bbb356b&sysparm_record_target=incident_task&sysparm_record_row=114&sysparm_record_rows=224&sysparm_record_list=assignment_group.name%3DMAS_DOR%5EORDERBYsys_created_on\n",
            "114 https://richterprod.service-now.com/incident_task.do?sys_id=25ecb6b8875fc1d061ab202c8bbb35be&sysparm_record_target=incident_task&sysparm_record_row=115&sysparm_record_rows=224&sysparm_record_list=assignment_group.name%3DMAS_DOR%5EORDERBYsys_created_on\n",
            "115 https://richterprod.service-now.com/incident_task.do?sys_id=af0410d1879b49d0695c631c8bbb3576&sysparm_record_target=incident_task&sysparm_record_row=116&sysparm_record_rows=224&sysparm_record_list=assignment_group.name%3DMAS_DOR%5EORDERBYsys_created_on\n",
            "116 https://richterprod.service-now.com/incident_task.do?sys_id=ede5942a8753c11461ab202c8bbb3506&sysparm_record_target=incident_task&sysparm_record_row=117&sysparm_record_rows=224&sysparm_record_list=assignment_group.name%3DMAS_DOR%5EORDERBYsys_created_on\n",
            "117 https://richterprod.service-now.com/incident_task.do?sys_id=fbbdf92a8793451461ab202c8bbb35f0&sysparm_record_target=incident_task&sysparm_record_row=118&sysparm_record_rows=224&sysparm_record_list=assignment_group.name%3DMAS_DOR%5EORDERBYsys_created_on\n",
            "118 https://richterprod.service-now.com/incident_task.do?sys_id=2f3d0f238793015461ab202c8bbb35df&sysparm_record_target=incident_task&sysparm_record_row=119&sysparm_record_rows=224&sysparm_record_list=assignment_group.name%3DMAS_DOR%5EORDERBYsys_created_on\n",
            "119 https://richterprod.service-now.com/incident_task.do?sys_id=be80b43b871f4154695c631c8bbb359b&sysparm_record_target=incident_task&sysparm_record_row=120&sysparm_record_rows=224&sysparm_record_list=assignment_group.name%3DMAS_DOR%5EORDERBYsys_created_on\n",
            "120 https://richterprod.service-now.com/incident_task.do?sys_id=16d9e47c87ab095461ab202c8bbb3561&sysparm_record_target=incident_task&sysparm_record_row=121&sysparm_record_rows=224&sysparm_record_list=assignment_group.name%3DMAS_DOR%5EORDERBYsys_created_on\n",
            "121 https://richterprod.service-now.com/incident_task.do?sys_id=28ccacf487eb095461ab202c8bbb356e&sysparm_record_target=incident_task&sysparm_record_row=122&sysparm_record_rows=224&sysparm_record_list=assignment_group.name%3DMAS_DOR%5EORDERBYsys_created_on\n",
            "122 https://richterprod.service-now.com/incident_task.do?sys_id=130d28b887eb095461ab202c8bbb3525&sysparm_record_target=incident_task&sysparm_record_row=123&sysparm_record_rows=224&sysparm_record_list=assignment_group.name%3DMAS_DOR%5EORDERBYsys_created_on\n",
            "123 https://richterprod.service-now.com/incident_task.do?sys_id=77eff8748763495461ab202c8bbb35e7&sysparm_record_target=incident_task&sysparm_record_row=124&sysparm_record_rows=224&sysparm_record_list=assignment_group.name%3DMAS_DOR%5EORDERBYsys_created_on\n",
            "124 https://richterprod.service-now.com/incident_task.do?sys_id=9d1af97087a7c954695c631c8bbb3567&sysparm_record_target=incident_task&sysparm_record_row=125&sysparm_record_rows=224&sysparm_record_list=assignment_group.name%3DMAS_DOR%5EORDERBYsys_created_on\n",
            "125 https://richterprod.service-now.com/incident_task.do?sys_id=b14ea5cd87e74d54695c631c8bbb355e&sysparm_record_target=incident_task&sysparm_record_row=126&sysparm_record_rows=224&sysparm_record_list=assignment_group.name%3DMAS_DOR%5EORDERBYsys_created_on\n",
            "126 https://richterprod.service-now.com/incident_task.do?sys_id=c08e524d87678d54695c631c8bbb3533&sysparm_record_target=incident_task&sysparm_record_row=127&sysparm_record_rows=224&sysparm_record_list=assignment_group.name%3DMAS_DOR%5EORDERBYsys_created_on\n",
            "127 https://richterprod.service-now.com/incident_task.do?sys_id=b59de0798767059461ab202c8bbb3518&sysparm_record_target=incident_task&sysparm_record_row=128&sysparm_record_rows=224&sysparm_record_list=assignment_group.name%3DMAS_DOR%5EORDERBYsys_created_on\n",
            "128 https://richterprod.service-now.com/incident_task.do?sys_id=3cf9aeca87e7099461ab202c8bbb35b7&sysparm_record_target=incident_task&sysparm_record_row=129&sysparm_record_rows=224&sysparm_record_list=assignment_group.name%3DMAS_DOR%5EORDERBYsys_created_on\n",
            "129 https://richterprod.service-now.com/incident_task.do?sys_id=d6277302872b8994695c631c8bbb35b5&sysparm_record_target=incident_task&sysparm_record_row=130&sysparm_record_rows=224&sysparm_record_list=assignment_group.name%3DMAS_DOR%5EORDERBYsys_created_on\n",
            "130 https://richterprod.service-now.com/incident_task.do?sys_id=4482304787670510695c631c8bbb3558&sysparm_record_target=incident_task&sysparm_record_row=131&sysparm_record_rows=224&sysparm_record_list=assignment_group.name%3DMAS_DOR%5EORDERBYsys_created_on\n",
            "131 https://richterprod.service-now.com/incident_task.do?sys_id=9eb145078763051061ab202c8bbb35f8&sysparm_record_target=incident_task&sysparm_record_row=132&sysparm_record_rows=224&sysparm_record_list=assignment_group.name%3DMAS_DOR%5EORDERBYsys_created_on\n",
            "132 https://richterprod.service-now.com/incident_task.do?sys_id=59f3194f87a7051061ab202c8bbb35d9&sysparm_record_target=incident_task&sysparm_record_row=133&sysparm_record_rows=224&sysparm_record_list=assignment_group.name%3DMAS_DOR%5EORDERBYsys_created_on\n",
            "133 https://richterprod.service-now.com/incident_task.do?sys_id=fe1ea5cf87af051061ab202c8bbb3524&sysparm_record_target=incident_task&sysparm_record_row=134&sysparm_record_rows=224&sysparm_record_list=assignment_group.name%3DMAS_DOR%5EORDERBYsys_created_on\n",
            "134 https://richterprod.service-now.com/incident_task.do?sys_id=0fc34e4f87e3451061ab202c8bbb3576&sysparm_record_target=incident_task&sysparm_record_row=135&sysparm_record_rows=224&sysparm_record_list=assignment_group.name%3DMAS_DOR%5EORDERBYsys_created_on\n",
            "135 https://richterprod.service-now.com/incident_task.do?sys_id=9da8659387a3c51061ab202c8bbb350a&sysparm_record_target=incident_task&sysparm_record_row=136&sysparm_record_rows=224&sysparm_record_list=assignment_group.name%3DMAS_DOR%5EORDERBYsys_created_on\n",
            "136 https://richterprod.service-now.com/incident_task.do?sys_id=f347169b87e30910695c631c8bbb3505&sysparm_record_target=incident_task&sysparm_record_row=137&sysparm_record_rows=224&sysparm_record_list=assignment_group.name%3DMAS_DOR%5EORDERBYsys_created_on\n",
            "137 https://richterprod.service-now.com/incident_task.do?sys_id=e29d452387af491061ab202c8bbb3506&sysparm_record_target=incident_task&sysparm_record_row=138&sysparm_record_rows=224&sysparm_record_list=assignment_group.name%3DMAS_DOR%5EORDERBYsys_created_on\n",
            "138 https://richterprod.service-now.com/incident_task.do?sys_id=0c5833f787a38d10695c631c8bbb3512&sysparm_record_target=incident_task&sysparm_record_row=139&sysparm_record_rows=224&sysparm_record_list=assignment_group.name%3DMAS_DOR%5EORDERBYsys_created_on\n",
            "139 https://richterprod.service-now.com/incident_task.do?sys_id=574fc8c487bb8d1061ab202c8bbb35d3&sysparm_record_target=incident_task&sysparm_record_row=140&sysparm_record_rows=224&sysparm_record_list=assignment_group.name%3DMAS_DOR%5EORDERBYsys_created_on\n",
            "140 https://richterprod.service-now.com/incident_task.do?sys_id=10ad20c487b3cd1061ab202c8bbb3543&sysparm_record_target=incident_task&sysparm_record_row=141&sysparm_record_rows=224&sysparm_record_list=assignment_group.name%3DMAS_DOR%5EORDERBYsys_created_on\n",
            "141 https://richterprod.service-now.com/incident_task.do?sys_id=157e20c887b3cd1061ab202c8bbb35a4&sysparm_record_target=incident_task&sysparm_record_row=142&sysparm_record_rows=224&sysparm_record_list=assignment_group.name%3DMAS_DOR%5EORDERBYsys_created_on\n",
            "142 https://richterprod.service-now.com/incident_task.do?sys_id=fa8d52548733c15061ab202c8bbb3564&sysparm_record_target=incident_task&sysparm_record_row=143&sysparm_record_rows=224&sysparm_record_list=assignment_group.name%3DMAS_DOR%5EORDERBYsys_created_on\n",
            "143 https://richterprod.service-now.com/incident_task.do?sys_id=21a12e108773c15061ab202c8bbb357e&sysparm_record_target=incident_task&sysparm_record_row=144&sysparm_record_rows=224&sysparm_record_list=assignment_group.name%3DMAS_DOR%5EORDERBYsys_created_on\n",
            "144 https://richterprod.service-now.com/incident_task.do?sys_id=1c226e508773c15061ab202c8bbb3506&sysparm_record_target=incident_task&sysparm_record_row=145&sysparm_record_rows=224&sysparm_record_list=assignment_group.name%3DMAS_DOR%5EORDERBYsys_created_on\n",
            "145 https://richterprod.service-now.com/incident_task.do?sys_id=47421c5187f3495061ab202c8bbb358f&sysparm_record_target=incident_task&sysparm_record_row=146&sysparm_record_rows=224&sysparm_record_list=assignment_group.name%3DMAS_DOR%5EORDERBYsys_created_on\n",
            "146 https://richterprod.service-now.com/incident_task.do?sys_id=84cbf2e187bf8d5061ab202c8bbb3580&sysparm_record_target=incident_task&sysparm_record_row=147&sysparm_record_rows=224&sysparm_record_list=assignment_group.name%3DMAS_DOR%5EORDERBYsys_created_on\n",
            "147 https://richterprod.service-now.com/incident_task.do?sys_id=a30b900a8777c19061ab202c8bbb355f&sysparm_record_target=incident_task&sysparm_record_row=148&sysparm_record_rows=224&sysparm_record_list=assignment_group.name%3DMAS_DOR%5EORDERBYsys_created_on\n",
            "148 https://richterprod.service-now.com/incident_task.do?sys_id=4073c12e873f8590695c631c8bbb353f&sysparm_record_target=incident_task&sysparm_record_row=149&sysparm_record_rows=224&sysparm_record_list=assignment_group.name%3DMAS_DOR%5EORDERBYsys_created_on\n",
            "149 https://richterprod.service-now.com/incident_task.do?sys_id=d7b7116287b3499061ab202c8bbb358b&sysparm_record_target=incident_task&sysparm_record_row=150&sysparm_record_rows=224&sysparm_record_list=assignment_group.name%3DMAS_DOR%5EORDERBYsys_created_on\n",
            "150 https://richterprod.service-now.com/incident_task.do?sys_id=7020c094870c551097fc87740cbb354d&sysparm_record_target=incident_task&sysparm_record_row=151&sysparm_record_rows=224&sysparm_record_list=assignment_group.name%3DMAS_DOR%5EORDERBYsys_created_on\n",
            "151 https://richterprod.service-now.com/incident_task.do?sys_id=2c7738908788951097fc87740cbb3518&sysparm_record_target=incident_task&sysparm_record_row=152&sysparm_record_rows=224&sysparm_record_list=assignment_group.name%3DMAS_DOR%5EORDERBYsys_created_on\n",
            "152 https://richterprod.service-now.com/incident_task.do?sys_id=0673b520878c111097fc87740cbb350d&sysparm_record_target=incident_task&sysparm_record_row=153&sysparm_record_rows=224&sysparm_record_list=assignment_group.name%3DMAS_DOR%5EORDERBYsys_created_on\n",
            "153 https://richterprod.service-now.com/incident_task.do?sys_id=d1c3fd3087c899d0695c631c8bbb35fb&sysparm_record_target=incident_task&sysparm_record_row=154&sysparm_record_rows=224&sysparm_record_list=assignment_group.name%3DMAS_DOR%5EORDERBYsys_created_on\n",
            "154 https://richterprod.service-now.com/incident_task.do?sys_id=78064ab88700d9d0695c631c8bbb3528&sysparm_record_target=incident_task&sysparm_record_row=155&sysparm_record_rows=224&sysparm_record_list=assignment_group.name%3DMAS_DOR%5EORDERBYsys_created_on\n",
            "155 https://richterprod.service-now.com/incident_task.do?sys_id=ef082eb88700151097fc87740cbb3548&sysparm_record_target=incident_task&sysparm_record_row=156&sysparm_record_rows=224&sysparm_record_list=assignment_group.name%3DMAS_DOR%5EORDERBYsys_created_on\n",
            "156 https://richterprod.service-now.com/incident_task.do?sys_id=1094e4b58744991097fc87740cbb3545&sysparm_record_target=incident_task&sysparm_record_row=158&sysparm_record_rows=224&sysparm_record_list=assignment_group.name%3DMAS_DOR%5EORDERBYsys_created_on\n",
            "157 https://richterprod.service-now.com/incident_task.do?sys_id=14a46cb58744991097fc87740cbb3502&sysparm_record_target=incident_task&sysparm_record_row=157&sysparm_record_rows=224&sysparm_record_list=assignment_group.name%3DMAS_DOR%5EORDERBYsys_created_on\n",
            "158 https://richterprod.service-now.com/incident_task.do?sys_id=431c718687449d1097fc87740cbb3534&sysparm_record_target=incident_task&sysparm_record_row=159&sysparm_record_rows=224&sysparm_record_list=assignment_group.name%3DMAS_DOR%5EORDERBYsys_created_on\n",
            "159 https://richterprod.service-now.com/incident_task.do?sys_id=76a7f60e87481510695c631c8bbb3566&sysparm_record_target=incident_task&sysparm_record_row=160&sysparm_record_rows=224&sysparm_record_list=assignment_group.name%3DMAS_DOR%5EORDERBYsys_created_on\n",
            "160 https://richterprod.service-now.com/incident_task.do?sys_id=ce4183c68748dd1097fc87740cbb3564&sysparm_record_target=incident_task&sysparm_record_row=161&sysparm_record_rows=224&sysparm_record_list=assignment_group.name%3DMAS_DOR%5EORDERBYsys_created_on\n",
            "161 https://richterprod.service-now.com/incident_task.do?sys_id=21dec0f687c0555097fc87740cbb35be&sysparm_record_target=incident_task&sysparm_record_row=162&sysparm_record_rows=224&sysparm_record_list=assignment_group.name%3DMAS_DOR%5EORDERBYsys_created_on\n",
            "162 https://richterprod.service-now.com/incident_task.do?sys_id=6420ee8787cc595097fc87740cbb359b&sysparm_record_target=incident_task&sysparm_record_row=163&sysparm_record_rows=224&sysparm_record_list=assignment_group.name%3DMAS_DOR%5EORDERBYsys_created_on\n",
            "163 https://richterprod.service-now.com/incident_task.do?sys_id=6adc0a4487d45510695c631c8bbb35b8&sysparm_record_target=incident_task&sysparm_record_row=164&sysparm_record_rows=224&sysparm_record_list=assignment_group.name%3DMAS_DOR%5EORDERBYsys_created_on\n",
            "164 https://richterprod.service-now.com/incident_task.do?sys_id=6fb1a95687141950695c631c8bbb35c7&sysparm_record_target=incident_task&sysparm_record_row=165&sysparm_record_rows=224&sysparm_record_list=assignment_group.name%3DMAS_DOR%5EORDERBYsys_created_on\n",
            "165 https://richterprod.service-now.com/incident_task.do?sys_id=7561945b87505190695c631c8bbb35c1&sysparm_record_target=incident_task&sysparm_record_row=166&sysparm_record_rows=224&sysparm_record_list=assignment_group.name%3DMAS_DOR%5EORDERBYsys_created_on\n",
            "166 https://richterprod.service-now.com/incident_task.do?sys_id=0aced0e487609d90695c631c8bbb3587&sysparm_record_target=incident_task&sysparm_record_row=167&sysparm_record_rows=224&sysparm_record_list=assignment_group.name%3DMAS_DOR%5EORDERBYsys_created_on\n",
            "167 https://richterprod.service-now.com/incident_task.do?sys_id=aa1eaebc87a8d1d097fc87740cbb3553&sysparm_record_target=incident_task&sysparm_record_row=168&sysparm_record_rows=224&sysparm_record_list=assignment_group.name%3DMAS_DOR%5EORDERBYsys_created_on\n",
            "168 https://richterprod.service-now.com/incident_task.do?sys_id=b90495ed87ec59d0695c631c8bbb35d7&sysparm_record_target=incident_task&sysparm_record_row=169&sysparm_record_rows=224&sysparm_record_list=assignment_group.name%3DMAS_DOR%5EORDERBYsys_created_on\n",
            "169 https://richterprod.service-now.com/incident_task.do?sys_id=f3bee8e787ec1d1497fc87740cbb355c&sysparm_record_target=incident_task&sysparm_record_row=170&sysparm_record_rows=224&sysparm_record_list=assignment_group.name%3DMAS_DOR%5EORDERBYsys_created_on\n",
            "170 https://richterprod.service-now.com/incident_task.do?sys_id=b2d8c87947f4991005945ecbd36d4369&sysparm_record_target=incident_task&sysparm_record_row=171&sysparm_record_rows=224&sysparm_record_list=assignment_group.name%3DMAS_DOR%5EORDERBYsys_created_on\n",
            "171 https://richterprod.service-now.com/incident_task.do?sys_id=16ed69de973051506ed631c3f153afa3&sysparm_record_target=incident_task&sysparm_record_row=172&sysparm_record_rows=224&sysparm_record_list=assignment_group.name%3DMAS_DOR%5EORDERBYsys_created_on\n",
            "172 https://richterprod.service-now.com/incident_task.do?sys_id=85cae9d7973459506ed631c3f153aff0&sysparm_record_target=incident_task&sysparm_record_row=173&sysparm_record_rows=224&sysparm_record_list=assignment_group.name%3DMAS_DOR%5EORDERBYsys_created_on\n",
            "173 https://richterprod.service-now.com/incident_task.do?sys_id=1697ca1f97f859506ed631c3f153afc3&sysparm_record_target=incident_task&sysparm_record_row=174&sysparm_record_rows=224&sysparm_record_list=assignment_group.name%3DMAS_DOR%5EORDERBYsys_created_on\n",
            "174 https://richterprod.service-now.com/incident_task.do?sys_id=3e92516a97cdd5d06ed631c3f153af90&sysparm_record_target=incident_task&sysparm_record_row=175&sysparm_record_rows=224&sysparm_record_list=assignment_group.name%3DMAS_DOR%5EORDERBYsys_created_on\n",
            "175 https://richterprod.service-now.com/incident_task.do?sys_id=c82899ce9751d1546ed631c3f153af95&sysparm_record_target=incident_task&sysparm_record_row=176&sysparm_record_rows=224&sysparm_record_list=assignment_group.name%3DMAS_DOR%5EORDERBYsys_created_on\n",
            "176 https://richterprod.service-now.com/incident_task.do?sys_id=a7a802924799515405945ecbd36d43d4&sysparm_record_target=incident_task&sysparm_record_row=177&sysparm_record_rows=224&sysparm_record_list=assignment_group.name%3DMAS_DOR%5EORDERBYsys_created_on\n",
            "177 https://richterprod.service-now.com/incident_task.do?sys_id=49857ccb475d955405945ecbd36d43fc&sysparm_record_target=incident_task&sysparm_record_row=178&sysparm_record_rows=224&sysparm_record_list=assignment_group.name%3DMAS_DOR%5EORDERBYsys_created_on\n",
            "178 https://richterprod.service-now.com/incident_task.do?sys_id=d4957ccb475d955405945ecbd36d43ef&sysparm_record_target=incident_task&sysparm_record_row=179&sysparm_record_rows=224&sysparm_record_list=assignment_group.name%3DMAS_DOR%5EORDERBYsys_created_on\n",
            "179 https://richterprod.service-now.com/incident_task.do?sys_id=0126fc4f475d955405945ecbd36d4336&sysparm_record_target=incident_task&sysparm_record_row=180&sysparm_record_rows=224&sysparm_record_list=assignment_group.name%3DMAS_DOR%5EORDERBYsys_created_on\n",
            "180 https://richterprod.service-now.com/incident_task.do?sys_id=2e75c6474799d55405945ecbd36d4378&sysparm_record_target=incident_task&sysparm_record_row=181&sysparm_record_rows=224&sysparm_record_list=assignment_group.name%3DMAS_DOR%5EORDERBYsys_created_on\n",
            "181 https://richterprod.service-now.com/incident_task.do?sys_id=d1b74f10976195106ed631c3f153afc7&sysparm_record_target=incident_task&sysparm_record_row=182&sysparm_record_rows=224&sysparm_record_list=assignment_group.name%3DMAS_DOR%5EORDERBYsys_created_on\n",
            "182 https://richterprod.service-now.com/incident_task.do?sys_id=4dfdfd284769951005945ecbd36d4325&sysparm_record_target=incident_task&sysparm_record_row=183&sysparm_record_rows=224&sysparm_record_list=assignment_group.name%3DMAS_DOR%5EORDERBYsys_created_on\n",
            "183 https://richterprod.service-now.com/incident_task.do?sys_id=3ee65aac97ed99106ed631c3f153afcb&sysparm_record_target=incident_task&sysparm_record_row=184&sysparm_record_rows=224&sysparm_record_list=assignment_group.name%3DMAS_DOR%5EORDERBYsys_created_on\n",
            "184 https://richterprod.service-now.com/incident_task.do?sys_id=20a9dae09761d9106ed631c3f153af88&sysparm_record_target=incident_task&sysparm_record_row=185&sysparm_record_rows=224&sysparm_record_list=assignment_group.name%3DMAS_DOR%5EORDERBYsys_created_on\n",
            "185 https://richterprod.service-now.com/incident_task.do?sys_id=3de8c3a44769d51005945ecbd36d438c&sysparm_record_target=incident_task&sysparm_record_row=186&sysparm_record_rows=224&sysparm_record_list=assignment_group.name%3DMAS_DOR%5EORDERBYsys_created_on\n",
            "186 https://richterprod.service-now.com/incident_task.do?sys_id=41bc03a497add9106ed631c3f153af92&sysparm_record_target=incident_task&sysparm_record_row=187&sysparm_record_rows=224&sysparm_record_list=assignment_group.name%3DMAS_DOR%5EORDERBYsys_created_on\n",
            "187 https://richterprod.service-now.com/incident_task.do?sys_id=ace74f3847ed591005945ecbd36d43d6&sysparm_record_target=incident_task&sysparm_record_row=188&sysparm_record_rows=224&sysparm_record_list=assignment_group.name%3DMAS_DOR%5EORDERBYsys_created_on\n",
            "188 https://richterprod.service-now.com/incident_task.do?sys_id=0354000d476d991005945ecbd36d43f4&sysparm_record_target=incident_task&sysparm_record_row=189&sysparm_record_rows=224&sysparm_record_list=assignment_group.name%3DMAS_DOR%5EORDERBYsys_created_on\n",
            "189 https://richterprod.service-now.com/incident_task.do?sys_id=af61891d47659d1005945ecbd36d4351&sysparm_record_target=incident_task&sysparm_record_row=190&sysparm_record_rows=224&sysparm_record_list=assignment_group.name%3DMAS_DOR%5EORDERBYsys_created_on\n",
            "190 https://richterprod.service-now.com/incident_task.do?sys_id=a4cce9a947e5515005945ecbd36d4375&sysparm_record_target=incident_task&sysparm_record_row=191&sysparm_record_rows=224&sysparm_record_list=assignment_group.name%3DMAS_DOR%5EORDERBYsys_created_on\n",
            "191 https://richterprod.service-now.com/incident_task.do?sys_id=da9c0d2a47e1595005945ecbd36d43a8&sysparm_record_target=incident_task&sysparm_record_row=192&sysparm_record_rows=224&sysparm_record_list=assignment_group.name%3DMAS_DOR%5EORDERBYsys_created_on\n",
            "192 https://richterprod.service-now.com/incident_task.do?sys_id=e7cd96b647295d5005945ecbd36d4387&sysparm_record_target=incident_task&sysparm_record_row=193&sysparm_record_rows=224&sysparm_record_list=assignment_group.name%3DMAS_DOR%5EORDERBYsys_created_on\n",
            "193 https://richterprod.service-now.com/incident_task.do?sys_id=28fb2bc797e915906ed631c3f153af00&sysparm_record_target=incident_task&sysparm_record_row=194&sysparm_record_rows=224&sysparm_record_list=assignment_group.name%3DMAS_DOR%5EORDERBYsys_created_on\n",
            "194 https://richterprod.service-now.com/incident.do?sys_id=97a5f7c397ad15906ed631c3f153afc9&sysparm_record_target=incident&sysparm_record_row=61&sysparm_record_rows=61&sysparm_record_list=assignment_group%3D1530f153db837050f8f6345239961925%5EORDERBYDESCopened_at\n",
            "195 https://richterprod.service-now.com/incident_task.do?sys_id=47f6cd5f976595906ed631c3f153afb1&sysparm_record_target=incident_task&sysparm_record_row=195&sysparm_record_rows=224&sysparm_record_list=assignment_group.name%3DMAS_DOR%5EORDERBYsys_created_on\n",
            "196 https://richterprod.service-now.com/incident_task.do?sys_id=3930a4a34769159005945ecbd36d43e7&sysparm_record_target=incident_task&sysparm_record_row=196&sysparm_record_rows=224&sysparm_record_list=assignment_group.name%3DMAS_DOR%5EORDERBYsys_created_on\n",
            "197 https://richterprod.service-now.com/incident_task.do?sys_id=2355382f972919906ed631c3f153afed&sysparm_record_target=incident_task&sysparm_record_row=197&sysparm_record_rows=224&sysparm_record_list=assignment_group.name%3DMAS_DOR%5EORDERBYsys_created_on\n",
            "198 https://richterprod.service-now.com/incident_task.do?sys_id=bdc3ae63976999906ed631c3f153af4d&sysparm_record_target=incident_task&sysparm_record_row=198&sysparm_record_rows=224&sysparm_record_list=assignment_group.name%3DMAS_DOR%5EORDERBYsys_created_on\n",
            "199 https://richterprod.service-now.com/incident_task.do?sys_id=237772af97e999906ed631c3f153af80&sysparm_record_target=incident_task&sysparm_record_row=199&sysparm_record_rows=224&sysparm_record_list=assignment_group.name%3DMAS_DOR%5EORDERBYsys_created_on\n",
            "200 https://richterprod.service-now.com/incident_task.do?sys_id=8e6e7d7747a5199005945ecbd36d43e8&sysparm_record_target=incident_task&sysparm_record_row=200&sysparm_record_rows=224&sysparm_record_list=assignment_group.name%3DMAS_DOR%5EORDERBYsys_created_on\n",
            "201 https://richterprod.service-now.com/incident_task.do?sys_id=e6c2667c97b195d06ed631c3f153af66&sysparm_record_target=incident_task&sysparm_record_row=201&sysparm_record_rows=224&sysparm_record_list=assignment_group.name%3DMAS_DOR%5EORDERBYsys_created_on\n",
            "202 https://richterprod.service-now.com/incident_task.do?sys_id=7ac90cc197b5d5d06ed631c3f153af71&sysparm_record_target=incident_task&sysparm_record_row=202&sysparm_record_rows=224&sysparm_record_list=assignment_group.name%3DMAS_DOR%5EORDERBYsys_created_on\n",
            "203 https://richterprod.service-now.com/incident_task.do?sys_id=355ed18197b119d06ed631c3f153aff5&sysparm_record_target=incident_task&sysparm_record_row=203&sysparm_record_rows=224&sysparm_record_list=assignment_group.name%3DMAS_DOR%5EORDERBYsys_created_on\n",
            "204 https://richterprod.service-now.com/incident_task.do?sys_id=10f94e8597f519d06ed631c3f153af22&sysparm_record_target=incident_task&sysparm_record_row=204&sysparm_record_rows=224&sysparm_record_list=assignment_group.name%3DMAS_DOR%5EORDERBYsys_created_on\n",
            "205 https://richterprod.service-now.com/incident_task.do?sys_id=6b7e9e8d97b919d06ed631c3f153af94&sysparm_record_target=incident_task&sysparm_record_row=205&sysparm_record_rows=224&sysparm_record_list=assignment_group.name%3DMAS_DOR%5EORDERBYsys_created_on\n",
            "206 https://richterprod.service-now.com/incident_task.do?sys_id=54115e59473519d005945ecbd36d43d2&sysparm_record_target=incident_task&sysparm_record_row=206&sysparm_record_rows=224&sysparm_record_list=assignment_group.name%3DMAS_DOR%5EORDERBYsys_created_on\n",
            "207 https://richterprod.service-now.com/incident_task.do?sys_id=fc381bd997711dd06ed631c3f153afcc&sysparm_record_target=incident_task&sysparm_record_row=207&sysparm_record_rows=224&sysparm_record_list=assignment_group.name%3DMAS_DOR%5EORDERBYsys_created_on\n",
            "208 https://richterprod.service-now.com/incident_task.do?sys_id=a736afd197351dd06ed631c3f153af5a&sysparm_record_target=incident_task&sysparm_record_row=208&sysparm_record_rows=224&sysparm_record_list=assignment_group.name%3DMAS_DOR%5EORDERBYsys_created_on\n",
            "209 https://richterprod.service-now.com/incident.do?sys_id=2badefd597b51dd06ed631c3f153af0a&sysparm_record_target=incident&sysparm_record_row=60&sysparm_record_rows=61&sysparm_record_list=assignment_group%3D1530f153db837050f8f6345239961925%5EORDERBYDESCopened_at\n",
            "210 https://richterprod.service-now.com/incident_task.do?sys_id=5ac47b5597391dd06ed631c3f153afe5&sysparm_record_target=incident_task&sysparm_record_row=209&sysparm_record_rows=224&sysparm_record_list=assignment_group.name%3DMAS_DOR%5EORDERBYsys_created_on\n",
            "211 https://richterprod.service-now.com/incident_task.do?sys_id=fd15ffd597391dd06ed631c3f153af15&sysparm_record_target=incident_task&sysparm_record_row=210&sysparm_record_rows=224&sysparm_record_list=assignment_group.name%3DMAS_DOR%5EORDERBYsys_created_on\n",
            "212 https://richterprod.service-now.com/incident_task.do?sys_id=b131cc21973d1dd06ed631c3f153af85&sysparm_record_target=incident_task&sysparm_record_row=211&sysparm_record_rows=224&sysparm_record_list=assignment_group.name%3DMAS_DOR%5EORDERBYsys_created_on\n",
            "213 https://richterprod.service-now.com/incident_task.do?sys_id=bb37012197b19dd06ed631c3f153af95&sysparm_record_target=incident_task&sysparm_record_row=212&sysparm_record_rows=224&sysparm_record_list=assignment_group.name%3DMAS_DOR%5EORDERBYsys_created_on\n",
            "214 https://richterprod.service-now.com/incident_task.do?sys_id=207115b547395dd005945ecbd36d43bc&sysparm_record_target=incident_task&sysparm_record_row=213&sysparm_record_rows=224&sysparm_record_list=assignment_group.name%3DMAS_DOR%5EORDERBYsys_created_on\n",
            "215 https://richterprod.service-now.com/incident_task.do?sys_id=ab5696ea977519146ed631c3f153afd3&sysparm_record_target=incident_task&sysparm_record_row=214&sysparm_record_rows=224&sysparm_record_list=assignment_group.name%3DMAS_DOR%5EORDERBYsys_created_on\n",
            "216 https://richterprod.service-now.com/incident.do?sys_id=1607fecf4735911005945ecbd36d4386&sysparm_record_target=incident&sysparm_record_row=59&sysparm_record_rows=61&sysparm_record_list=assignment_group%3D1530f153db837050f8f6345239961925%5EORDERBYDESCopened_at\n",
            "217 https://richterprod.service-now.com/incident_task.do?sys_id=2f6e368347f5911005945ecbd36d43cf&sysparm_record_target=incident_task&sysparm_record_row=215&sysparm_record_rows=224&sysparm_record_list=assignment_group.name%3DMAS_DOR%5EORDERBYsys_created_on\n",
            "218 https://richterprod.service-now.com/incident_task.do?sys_id=069a618497ce95546ed631c3f153afc1&sysparm_record_target=incident_task&sysparm_record_row=216&sysparm_record_rows=224&sysparm_record_list=assignment_group.name%3DMAS_DOR%5EORDERBYsys_created_on\n",
            "219 https://richterprod.service-now.com/incident_task.do?sys_id=ed14add4478e9d1005945ecbd36d433c&sysparm_record_target=incident_task&sysparm_record_row=217&sysparm_record_rows=224&sysparm_record_list=assignment_group.name%3DMAS_DOR%5EORDERBYsys_created_on\n",
            "220 https://richterprod.service-now.com/incident_task.do?sys_id=68f6c19d978691106ed631c3f153af13&sysparm_record_target=incident_task&sysparm_record_row=218&sysparm_record_rows=224&sysparm_record_list=assignment_group.name%3DMAS_DOR%5EORDERBYsys_created_on\n",
            "221 https://richterprod.service-now.com/incident_task.do?sys_id=7b150ed59786d1106ed631c3f153af65&sysparm_record_target=incident_task&sysparm_record_row=219&sysparm_record_rows=224&sysparm_record_list=assignment_group.name%3DMAS_DOR%5EORDERBYsys_created_on\n",
            "222 https://richterprod.service-now.com/incident_task.do?sys_id=c1112795978e15106ed631c3f153afcf&sysparm_record_target=incident_task&sysparm_record_row=220&sysparm_record_rows=224&sysparm_record_list=assignment_group.name%3DMAS_DOR%5EORDERBYsys_created_on\n",
            "223 https://richterprod.service-now.com/incident_task.do?sys_id=b72e37a5974619106ed631c3f153af8e&sysparm_record_target=incident_task&sysparm_record_row=221&sysparm_record_rows=224&sysparm_record_list=assignment_group.name%3DMAS_DOR%5EORDERBYsys_created_on\n",
            "224 https://richterprod.service-now.com/incident.do?sys_id=bc3863f9478e5d1005945ecbd36d43a4&sysparm_record_target=incident&sysparm_record_row=58&sysparm_record_rows=61&sysparm_record_list=assignment_group%3D1530f153db837050f8f6345239961925%5EORDERBYDESCopened_at\n",
            "225 https://richterprod.service-now.com/incident_task.do?sys_id=c878ab3d478e5d1005945ecbd36d43c8&sysparm_record_target=incident_task&sysparm_record_row=222&sysparm_record_rows=224&sysparm_record_list=assignment_group.name%3DMAS_DOR%5EORDERBYsys_created_on\n",
            "226 https://richterprod.service-now.com/incident.do?sys_id=21da63f147ce5d1005945ecbd36d4385&sysparm_record_target=incident&sysparm_record_row=57&sysparm_record_rows=61&sysparm_record_list=assignment_group%3D1530f153db837050f8f6345239961925%5EORDERBYDESCopened_at\n",
            "227 https://richterprod.service-now.com/incident_task.do?sys_id=5d2c633947ce5d1005945ecbd36d43bc&sysparm_record_target=incident_task&sysparm_record_row=223&sysparm_record_rows=224&sysparm_record_list=assignment_group.name%3DMAS_DOR%5EORDERBYsys_created_on\n",
            "228 https://richterprod.service-now.com/incident_task.do?sys_id=dad27a2e97ce55506ed631c3f153af5e&sysparm_record_target=incident_task&sysparm_record_row=224&sysparm_record_rows=224&sysparm_record_list=assignment_group.name%3DMAS_DOR%5EORDERBYsys_created_on\n",
            "229 https://richterprod.service-now.com/incident.do?sys_id=c9d575e4475251d005945ecbd36d43c0&sysparm_record_target=incident&sysparm_record_row=56&sysparm_record_rows=61&sysparm_record_list=assignment_group%3D1530f153db837050f8f6345239961925%5EORDERBYDESCopened_at\n",
            "230 https://richterprod.service-now.com/incident.do?sys_id=deb7893947ded9d005945ecbd36d43bc&sysparm_record_target=incident&sysparm_record_row=55&sysparm_record_rows=61&sysparm_record_list=assignment_group%3D1530f153db837050f8f6345239961925%5EORDERBYDESCopened_at\n",
            "231 https://richterprod.service-now.com/incident.do?sys_id=583f69fd47961dd005945ecbd36d435a&sysparm_record_target=incident&sysparm_record_row=54&sysparm_record_rows=61&sysparm_record_list=assignment_group%3D1530f153db837050f8f6345239961925%5EORDERBYDESCopened_at\n",
            "232 https://richterprod.service-now.com/incident.do?sys_id=330738ea4792951405945ecbd36d436f&sysparm_record_target=incident&sysparm_record_row=53&sysparm_record_rows=61&sysparm_record_list=assignment_group%3D1530f153db837050f8f6345239961925%5EORDERBYDESCopened_at\n",
            "233 https://richterprod.service-now.com/incident.do?sys_id=05e75d0c47e2195405945ecbd36d43e8&sysparm_record_target=incident&sysparm_record_row=52&sysparm_record_rows=61&sysparm_record_list=assignment_group%3D1530f153db837050f8f6345239961925%5EORDERBYDESCopened_at\n",
            "234 https://richterprod.service-now.com/incident.do?sys_id=6d3fb1c847ee195405945ecbd36d43c6&sysparm_record_target=incident&sysparm_record_row=51&sysparm_record_rows=61&sysparm_record_list=assignment_group%3D1530f153db837050f8f6345239961925%5EORDERBYDESCopened_at\n",
            "235 https://richterprod.service-now.com/incident.do?sys_id=eaba428c47e2595405945ecbd36d4342&sysparm_record_target=incident&sysparm_record_row=50&sysparm_record_rows=61&sysparm_record_list=assignment_group%3D1530f153db837050f8f6345239961925%5EORDERBYDESCopened_at\n",
            "236 https://richterprod.service-now.com/incident.do?sys_id=ac2bdf2e47a695d405945ecbd36d436f&sysparm_record_target=incident&sysparm_record_row=49&sysparm_record_rows=61&sysparm_record_list=assignment_group%3D1530f153db837050f8f6345239961925%5EORDERBYDESCopened_at\n",
            "237 https://richterprod.service-now.com/incident.do?sys_id=ba9adc4b47a299d405945ecbd36d431d&sysparm_record_target=incident&sysparm_record_row=48&sysparm_record_rows=61&sysparm_record_list=assignment_group%3D1530f153db837050f8f6345239961925%5EORDERBYDESCopened_at\n",
            "238 https://richterprod.service-now.com/incident.do?sys_id=c2dd18c747e299d405945ecbd36d43ba&sysparm_record_target=incident&sysparm_record_row=47&sysparm_record_rows=61&sysparm_record_list=assignment_group%3D1530f153db837050f8f6345239961925%5EORDERBYDESCopened_at\n",
            "239 https://richterprod.service-now.com/incident.do?sys_id=9064359b47269dd405945ecbd36d432e&sysparm_record_target=incident&sysparm_record_row=46&sysparm_record_rows=61&sysparm_record_list=assignment_group%3D1530f153db837050f8f6345239961925%5EORDERBYDESCopened_at\n",
            "240 https://richterprod.service-now.com/incident.do?sys_id=b37eb15747e69dd405945ecbd36d4319&sysparm_record_target=incident&sysparm_record_row=45&sysparm_record_rows=61&sysparm_record_list=assignment_group%3D1530f153db837050f8f6345239961925%5EORDERBYDESCopened_at\n",
            "241 https://richterprod.service-now.com/incident.do?sys_id=c470692487721510695c631c8bbb3593&sysparm_record_target=incident&sysparm_record_row=44&sysparm_record_rows=61&sysparm_record_list=assignment_group%3D1530f153db837050f8f6345239961925%5EORDERBYDESCopened_at\n",
            "242 https://richterprod.service-now.com/incident.do?sys_id=4289b6311bfed15077d5ea42604bcb45&sysparm_record_target=incident&sysparm_record_row=43&sysparm_record_rows=61&sysparm_record_list=assignment_group%3D1530f153db837050f8f6345239961925%5EORDERBYDESCopened_at\n",
            "243 https://richterprod.service-now.com/incident.do?sys_id=f931208687b65550695c631c8bbb351f&sysparm_record_target=incident&sysparm_record_row=42&sysparm_record_rows=61&sysparm_record_list=assignment_group%3D1530f153db837050f8f6345239961925%5EORDERBYDESCopened_at\n",
            "244 https://richterprod.service-now.com/incident.do?sys_id=0d4a046f87bedd50695c631c8bbb3577&sysparm_record_target=incident&sysparm_record_row=41&sysparm_record_rows=61&sysparm_record_list=assignment_group%3D1530f153db837050f8f6345239961925%5EORDERBYDESCopened_at\n",
            "245 https://richterprod.service-now.com/incident.do?sys_id=93a5bc6b1bf2519077d5ea42604bcb6e&sysparm_record_target=incident&sysparm_record_row=40&sysparm_record_rows=61&sysparm_record_list=assignment_group%3D1530f153db837050f8f6345239961925%5EORDERBYDESCopened_at\n",
            "246 https://richterprod.service-now.com/incident.do?sys_id=ef9e325d870b91d0695c631c8bbb353a&sysparm_record_target=incident&sysparm_record_row=39&sysparm_record_rows=61&sysparm_record_list=assignment_group%3D1530f153db837050f8f6345239961925%5EORDERBYDESCopened_at\n",
            "247 https://richterprod.service-now.com/incident.do?sys_id=d348d5c21b435dd077d5ea42604bcb17&sysparm_record_target=incident&sysparm_record_row=38&sysparm_record_rows=61&sysparm_record_list=assignment_group%3D1530f153db837050f8f6345239961925%5EORDERBYDESCopened_at\n",
            "248 https://richterprod.service-now.com/incident.do?sys_id=f15765ce878f59d0695c631c8bbb35e8&sysparm_record_target=incident&sysparm_record_row=37&sysparm_record_rows=61&sysparm_record_list=assignment_group%3D1530f153db837050f8f6345239961925%5EORDERBYDESCopened_at\n",
            "249 https://richterprod.service-now.com/incident.do?sys_id=0fa097531b83d91477d5ea42604bcb2b&sysparm_record_target=incident&sysparm_record_row=36&sysparm_record_rows=61&sysparm_record_list=assignment_group%3D1530f153db837050f8f6345239961925%5EORDERBYDESCopened_at\n",
            "250 https://richterprod.service-now.com/incident.do?sys_id=118ee9e51b93195077d5ea42604bcb93&sysparm_record_target=incident&sysparm_record_row=35&sysparm_record_rows=61&sysparm_record_list=assignment_group%3D1530f153db837050f8f6345239961925%5EORDERBYDESCopened_at\n",
            "251 https://richterprod.service-now.com/incident.do?sys_id=a948d3e51b9f595077d5ea42604bcb33&sysparm_record_target=incident&sysparm_record_row=34&sysparm_record_rows=61&sysparm_record_list=assignment_group%3D1530f153db837050f8f6345239961925%5EORDERBYDESCopened_at\n",
            "252 https://richterprod.service-now.com/incident.do?sys_id=9aa6acf91b1f995077d5ea42604bcb13&sysparm_record_target=incident&sysparm_record_row=33&sysparm_record_rows=61&sysparm_record_list=assignment_group%3D1530f153db837050f8f6345239961925%5EORDERBYDESCopened_at\n",
            "253 https://richterprod.service-now.com/incident.do?sys_id=0e50188687571950695c631c8bbb35a2&sysparm_record_target=incident&sysparm_record_row=32&sysparm_record_rows=61&sysparm_record_list=assignment_group%3D1530f153db837050f8f6345239961925%5EORDERBYDESCopened_at\n",
            "254 https://richterprod.service-now.com/incident.do?sys_id=57eb651e87db1d50695c631c8bbb35d7&sysparm_record_target=incident&sysparm_record_row=31&sysparm_record_rows=61&sysparm_record_list=assignment_group%3D1530f153db837050f8f6345239961925%5EORDERBYDESCopened_at\n",
            "255 https://richterprod.service-now.com/incident.do?sys_id=d2887df31bdb551077d5ea42604bcb7b&sysparm_record_target=incident&sysparm_record_row=30&sysparm_record_rows=61&sysparm_record_list=assignment_group%3D1530f153db837050f8f6345239961925%5EORDERBYDESCopened_at\n",
            "256 https://richterprod.service-now.com/incident.do?sys_id=a6c058cc87271910695c631c8bbb350a&sysparm_record_target=incident&sysparm_record_row=29&sysparm_record_rows=61&sysparm_record_list=assignment_group%3D1530f153db837050f8f6345239961925%5EORDERBYDESCopened_at\n",
            "257 https://richterprod.service-now.com/incident.do?sys_id=90d3aaf087e3d150695c631c8bbb3540&sysparm_record_target=incident&sysparm_record_row=28&sysparm_record_rows=61&sysparm_record_list=assignment_group%3D1530f153db837050f8f6345239961925%5EORDERBYDESCopened_at\n",
            "258 https://richterprod.service-now.com/incident.do?sys_id=5da0630587ef9550695c631c8bbb3533&sysparm_record_target=incident&sysparm_record_row=27&sysparm_record_rows=61&sysparm_record_list=assignment_group%3D1530f153db837050f8f6345239961925%5EORDERBYDESCopened_at\n",
            "259 https://richterprod.service-now.com/incident.do?sys_id=c1b3b16987a7d950695c631c8bbb35b8&sysparm_record_target=incident&sysparm_record_row=26&sysparm_record_rows=61&sysparm_record_list=assignment_group%3D1530f153db837050f8f6345239961925%5EORDERBYDESCopened_at\n",
            "260 https://richterprod.service-now.com/incident.do?sys_id=3fd81ae587abd950695c631c8bbb35c6&sysparm_record_target=incident&sysparm_record_row=25&sysparm_record_rows=61&sysparm_record_list=assignment_group%3D1530f153db837050f8f6345239961925%5EORDERBYDESCopened_at\n",
            "261 https://richterprod.service-now.com/incident.do?sys_id=cbe844661b27919077d5ea42604bcb90&sysparm_record_target=incident&sysparm_record_row=24&sysparm_record_rows=61&sysparm_record_list=assignment_group%3D1530f153db837050f8f6345239961925%5EORDERBYDESCopened_at\n",
            "262 https://richterprod.service-now.com/incident.do?sys_id=9694164b87ef9990695c631c8bbb3517&sysparm_record_target=incident&sysparm_record_row=23&sysparm_record_rows=61&sysparm_record_list=assignment_group%3D1530f153db837050f8f6345239961925%5EORDERBYDESCopened_at\n",
            "263 https://richterprod.service-now.com/incident.do?sys_id=6e625e9c87b355d0695c631c8bbb3547&sysparm_record_target=incident&sysparm_record_row=22&sysparm_record_rows=61&sysparm_record_list=assignment_group%3D1530f153db837050f8f6345239961925%5EORDERBYDESCopened_at\n",
            "264 https://richterprod.service-now.com/incident.do?sys_id=be00b4021b73d51477d5ea42604bcb31&sysparm_record_target=incident&sysparm_record_row=21&sysparm_record_rows=61&sysparm_record_list=assignment_group%3D1530f153db837050f8f6345239961925%5EORDERBYDESCopened_at\n",
            "265 https://richterprod.service-now.com/incident.do?sys_id=e37e44171b80299077d5ea42604bcb93&sysparm_record_target=incident&sysparm_record_row=20&sysparm_record_rows=61&sysparm_record_list=assignment_group%3D1530f153db837050f8f6345239961925%5EORDERBYDESCopened_at\n",
            "266 https://richterprod.service-now.com/incident.do?sys_id=de6f28b31b046d9077d5ea42604bcb90&sysparm_record_target=incident&sysparm_record_row=19&sysparm_record_rows=61&sysparm_record_list=assignment_group%3D1530f153db837050f8f6345239961925%5EORDERBYDESCopened_at\n",
            "267 https://richterprod.service-now.com/incident.do?sys_id=a7fa31481b5061d077d5ea42604bcb5a&sysparm_record_target=incident&sysparm_record_row=18&sysparm_record_rows=61&sysparm_record_list=assignment_group%3D1530f153db837050f8f6345239961925%5EORDERBYDESCopened_at\n",
            "268 https://richterprod.service-now.com/incident.do?sys_id=485b710c1b5061d077d5ea42604bcb33&sysparm_record_target=incident&sysparm_record_row=17&sysparm_record_rows=61&sysparm_record_list=assignment_group%3D1530f153db837050f8f6345239961925%5EORDERBYDESCopened_at\n",
            "269 https://richterprod.service-now.com/incident.do?sys_id=e4bb6fe787d0a154695c631c8bbb3585&sysparm_record_target=incident&sysparm_record_row=16&sysparm_record_rows=61&sysparm_record_list=assignment_group%3D1530f153db837050f8f6345239961925%5EORDERBYDESCopened_at\n",
            "270 https://richterprod.service-now.com/incident.do?sys_id=a09fafab8714a154695c631c8bbb357d&sysparm_record_target=incident&sysparm_record_row=15&sysparm_record_rows=61&sysparm_record_list=assignment_group%3D1530f153db837050f8f6345239961925%5EORDERBYDESCopened_at\n",
            "271 https://richterprod.service-now.com/incident.do?sys_id=b6a9e3f787182554695c631c8bbb3565&sysparm_record_target=incident&sysparm_record_row=14&sysparm_record_rows=61&sysparm_record_list=assignment_group%3D1530f153db837050f8f6345239961925%5EORDERBYDESCopened_at\n",
            "272 https://richterprod.service-now.com/incident.do?sys_id=528e00101becad5477d5ea42604bcb3d&sysparm_record_target=incident&sysparm_record_row=13&sysparm_record_rows=61&sysparm_record_list=assignment_group%3D1530f153db837050f8f6345239961925%5EORDERBYDESCopened_at\n",
            "273 https://richterprod.service-now.com/incident.do?sys_id=ee6a42bd1bace11077d5ea42604bcb7f&sysparm_record_target=incident&sysparm_record_row=12&sysparm_record_rows=61&sysparm_record_list=assignment_group%3D1530f153db837050f8f6345239961925%5EORDERBYDESCopened_at\n",
            "274 https://richterprod.service-now.com/incident.do?sys_id=491cf60087702d10695c631c8bbb3557&sysparm_record_target=incident&sysparm_record_row=11&sysparm_record_rows=61&sysparm_record_list=assignment_group%3D1530f153db837050f8f6345239961925%5EORDERBYDESCopened_at\n",
            "275 https://richterprod.service-now.com/incident.do?sys_id=197708ad87b8e950695c631c8bbb355e&sysparm_record_target=incident&sysparm_record_row=10&sysparm_record_rows=61&sysparm_record_list=assignment_group%3D1530f153db837050f8f6345239961925%5EORDERBYDESCopened_at\n",
            "276 https://richterprod.service-now.com/incident.do?sys_id=d3159a9a1bf429d077d5ea42604bcb19&sysparm_record_target=incident&sysparm_record_row=9&sysparm_record_rows=61&sysparm_record_list=assignment_group%3D1530f153db837050f8f6345239961925%5EORDERBYDESCopened_at\n",
            "277 https://richterprod.service-now.com/incident.do?sys_id=8d61f25e1b7c29d077d5ea42604bcb7a&sysparm_record_target=incident&sysparm_record_row=8&sysparm_record_rows=61&sysparm_record_list=assignment_group%3D1530f153db837050f8f6345239961925%5EORDERBYDESCopened_at\n",
            "278 https://richterprod.service-now.com/incident.do?sys_id=5b36391387b4ed90695c631c8bbb3540&sysparm_record_target=incident&sysparm_record_row=7&sysparm_record_rows=61&sysparm_record_list=assignment_group%3D1530f153db837050f8f6345239961925%5EORDERBYDESCopened_at\n",
            "279 https://richterprod.service-now.com/incident.do?sys_id=20225a1f873ced90695c631c8bbb350d&sysparm_record_target=incident&sysparm_record_row=6&sysparm_record_rows=61&sysparm_record_list=assignment_group%3D1530f153db837050f8f6345239961925%5EORDERBYDESCopened_at\n",
            "280 https://richterprod.service-now.com/incident.do?sys_id=c486ba5b87f421d0695c631c8bbb35be&sysparm_record_target=incident&sysparm_record_row=5&sysparm_record_rows=61&sysparm_record_list=assignment_group%3D1530f153db837050f8f6345239961925%5EORDERBYDESCopened_at\n",
            "281 https://richterprod.service-now.com/incident.do?sys_id=26f2620f1bb8611477d5ea42604bcb9f&sysparm_record_target=incident&sysparm_record_row=4&sysparm_record_rows=61&sysparm_record_list=assignment_group%3D1530f153db837050f8f6345239961925%5EORDERBYDESCopened_at\n",
            "282 https://richterprod.service-now.com/incident.do?sys_id=d94838f7877465d0695c631c8bbb35d0&sysparm_record_target=incident&sysparm_record_row=3&sysparm_record_rows=61&sysparm_record_list=assignment_group%3D1530f153db837050f8f6345239961925%5EORDERBYDESCopened_at\n",
            "283 https://richterprod.service-now.com/incident.do?sys_id=ba5b80051b01655477d5ea42604bcb30&sysparm_record_target=incident&sysparm_record_row=2&sysparm_record_rows=61&sysparm_record_list=assignment_group%3D1530f153db837050f8f6345239961925%5EORDERBYDESCopened_at\n",
            "284 https://richterprod.service-now.com/incident.do?sys_id=d3de9c0d87896114695c631c8bbb353c&sysparm_record_target=incident&sysparm_record_row=1&sysparm_record_rows=61&sysparm_record_list=assignment_group%3D1530f153db837050f8f6345239961925%5EORDERBYDESCopened_at\n"
          ]
        }
      ]
    },
    {
      "cell_type": "code",
      "source": [],
      "metadata": {
        "id": "2I80e-o7WPyl"
      },
      "execution_count": 35,
      "outputs": []
    },
    {
      "cell_type": "code",
      "source": [
        "fname=\"INC0188514 _ Incidens _ RG - IT Service Management.html\"\n",
        "path=\"/content/drive/MyDrive/001_METU/2. félév/dolgozat/adatok/inc/\"\n"
      ],
      "metadata": {
        "id": "2u29r3M_a1-h"
      },
      "execution_count": 36,
      "outputs": []
    },
    {
      "cell_type": "code",
      "source": [
        "htmltext=open(path+fname)\n",
        "ht=htmltext.read()\n",
        "soup=BeautifulSoup(ht,\"html.parser\")"
      ],
      "metadata": {
        "id": "V786y3v8bNYK"
      },
      "execution_count": 37,
      "outputs": []
    },
    {
      "cell_type": "code",
      "source": [
        "print(\"------------------------------------------------\")\n",
        "\n",
        "soup=BeautifulSoup(ht,\"html.parser\")\n",
        "table_rows=soup.find_all(\"li\", class_=\"h-card h-card_md h-card_comments\")\n"
      ],
      "metadata": {
        "colab": {
          "base_uri": "https://localhost:8080/"
        },
        "id": "I_HY7h96bXJY",
        "outputId": "494482d6-9d0a-473e-b240-572f69ec058d"
      },
      "execution_count": 38,
      "outputs": [
        {
          "output_type": "stream",
          "name": "stdout",
          "text": [
            "------------------------------------------------\n"
          ]
        }
      ]
    },
    {
      "cell_type": "code",
      "source": [
        "table_rows[1]"
      ],
      "metadata": {
        "colab": {
          "base_uri": "https://localhost:8080/"
        },
        "id": "ZKsIkkcucbgh",
        "outputId": "c3734e21-802f-4d8c-b7b0-a4ac1b6c8753"
      },
      "execution_count": 82,
      "outputs": [
        {
          "output_type": "execute_result",
          "data": {
            "text/plain": [
              "<li class=\"h-card h-card_md h-card_comments\"><div class=\"sn-card-component sn-card-component_first sn-card-component_meta sn-card-component_meta_sibling\"><span class=\"sn-card-component-createdby\">Rendszer</span></div><div class=\"sn-card-component sn-card-component_first sn-card-component_meta\"><span class=\"sn-card-component-time\"><span>E-mail elküldött</span><span class=\"sn-card-component_accent-bar_bullet\">•</span><div class=\"date-calendar\">2022-09-29 13:56:57</div><div class=\"datex date-timeago\" data-original-title=\"5 hónappal ezelőtt\" null=\"5 hónappal ezelőtt\" timeago=\"2022-09-29 11:56:57\" title=\"5 hónappal ezelőtt\">5 hónappal ezelőtt</div></span></div><div class=\"sn-card-component sn-card-component_records\"><div class=\"sn-widget\"><ul class=\"sn-widget-list sn-widget-list-table\"><li><span class=\"sn-widget-list-table-cell\"><span class=\"icon-mail\"></span></span><span class=\"sn-widget-list-table-cell\">E-mail elküldött</span></li><li><span class=\"sn-widget-list-table-cell\">Tárgy:</span><span class=\"sn-widget-list-table-cell\">ServiceNow - Neveden lévő Incidens frissült | Incident assigned to you has been updated</span></li><li><span class=\"sn-widget-list-table-cell\">Küldő:</span><span class=\"sn-widget-list-table-cell\">IT Service Desk</span></li><li><span class=\"sn-widget-list-table-cell\">Címzett:</span><span class=\"sn-widget-list-table-cell\">l.kollar@Richter.hu</span></li><li><span class=\"sn-widget-list-table-cell\"></span><span class=\"sn-widget-list-table-cell\"><a action-type=\"show-email\" class=\"stream-action\" href=\"https://richterprod.service-now.com/email_display.do?email_id=fbeece24475a51d005945ecbd36d434e\" show-label=\"E-mail részletek elrejtése\" target=\"_blank\">E-mail részletek megjelenítése</a></span></li></ul></div></div><div class=\"sn-card-component sn-card-component_summary sn-card-component_summary_spacing\" id=\"activity_fbeece24475a51d005945ecbd36d434e\" style=\"display:none;\"><div class=\"sn-widget sn-widget-textblock\"></div></div><div class=\"sn-card-component_accent-bar \" style=\"\"></div></li>"
            ]
          },
          "metadata": {},
          "execution_count": 82
        }
      ]
    },
    {
      "cell_type": "code",
      "source": [
        "def find_elements(el):\n",
        "    temp=el.findChildren()\n",
        "    return len(temp)"
      ],
      "metadata": {
        "id": "f0A6qrWbNw1k"
      },
      "execution_count": 90,
      "outputs": []
    },
    {
      "cell_type": "code",
      "source": [
        "def incident_record_elements(incident_record, to_print=False):\n",
        "    out=[]\n",
        "    for child in incident_record.descendants:\n",
        "        try:\n",
        "            if find_elements(child)==0:\n",
        "                if to_print:\n",
        "                    print(child.text)\n",
        "                out.append(child.text)\n",
        "        except:\n",
        "            pass\n",
        "    return(out)\n",
        "            "
      ],
      "metadata": {
        "id": "_gUFkKoTbq9w"
      },
      "execution_count": 98,
      "outputs": []
    },
    {
      "cell_type": "code",
      "source": [
        "incident_record_list=incident_record_elements(table_rows[1])"
      ],
      "metadata": {
        "id": "93vcxEQ_TQq0"
      },
      "execution_count": 107,
      "outputs": []
    },
    {
      "cell_type": "code",
      "source": [
        "incident_record_list"
      ],
      "metadata": {
        "id": "c5gUdT8lXHtk"
      },
      "execution_count": null,
      "outputs": []
    },
    {
      "cell_type": "code",
      "source": [
        "'Megoldott (véglegesen)  ' in incident_record_list"
      ],
      "metadata": {
        "colab": {
          "base_uri": "https://localhost:8080/"
        },
        "id": "7IGksE3pXTW4",
        "outputId": "77856f96-931c-4616-d4ae-1f16980bead7"
      },
      "execution_count": 104,
      "outputs": [
        {
          "output_type": "execute_result",
          "data": {
            "text/plain": [
              "False"
            ]
          },
          "metadata": {},
          "execution_count": 104
        }
      ]
    },
    {
      "cell_type": "code",
      "source": [
        "find_elements(table_rows[0])"
      ],
      "metadata": {
        "colab": {
          "base_uri": "https://localhost:8080/"
        },
        "id": "t8aLxMiMQvLw",
        "outputId": "136be6dc-63a8-4883-fde4-c4e36600dd26"
      },
      "execution_count": 78,
      "outputs": [
        {
          "output_type": "execute_result",
          "data": {
            "text/plain": [
              "31"
            ]
          },
          "metadata": {},
          "execution_count": 78
        }
      ]
    }
  ]
}