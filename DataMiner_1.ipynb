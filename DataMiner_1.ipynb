{
  "nbformat": 4,
  "nbformat_minor": 0,
  "metadata": {
    "colab": {
      "provenance": [],
      "authorship_tag": "ABX9TyMav4ctXiNeQ6ub3wJCfq/3",
      "include_colab_link": true
    },
    "kernelspec": {
      "name": "python3",
      "display_name": "Python 3"
    },
    "language_info": {
      "name": "python"
    }
  },
  "cells": [
    {
      "cell_type": "markdown",
      "metadata": {
        "id": "view-in-github",
        "colab_type": "text"
      },
      "source": [
        "<a href=\"https://colab.research.google.com/github/sipocz/DataMiner/blob/main/DataMiner_1.ipynb\" target=\"_parent\"><img src=\"https://colab.research.google.com/assets/colab-badge.svg\" alt=\"Open In Colab\"/></a>"
      ]
    },
    {
      "cell_type": "code",
      "execution_count": null,
      "metadata": {
        "id": "EQsORUMCSy_I"
      },
      "outputs": [],
      "source": [
        "import pandas as pd\n",
        "import os\n",
        "from bs4 import  BeautifulSoup"
      ]
    },
    {
      "cell_type": "code",
      "source": [
        "from google.colab import drive"
      ],
      "metadata": {
        "id": "jFZyNaSaTIZS"
      },
      "execution_count": null,
      "outputs": []
    },
    {
      "cell_type": "code",
      "source": [
        "drive.mount('/content/drive')"
      ],
      "metadata": {
        "id": "UGLP5ccxTJ8Z"
      },
      "execution_count": null,
      "outputs": []
    },
    {
      "cell_type": "code",
      "source": [
        "path=\"/content/drive/MyDrive/001_METU/2. félév/dolgozat/adatok/\""
      ],
      "metadata": {
        "id": "14l9PcQiTSGi"
      },
      "execution_count": null,
      "outputs": []
    },
    {
      "cell_type": "code",
      "source": [
        "fname=\"Eseményfeladatok _ RG - IT Service Management.html\"\n"
      ],
      "metadata": {
        "id": "MZEkePT1TazZ"
      },
      "execution_count": null,
      "outputs": []
    },
    {
      "cell_type": "code",
      "source": [
        "htmltext=open(path+fname)"
      ],
      "metadata": {
        "id": "RuTYXMsFULV7"
      },
      "execution_count": null,
      "outputs": []
    },
    {
      "cell_type": "code",
      "source": [
        "ht=htmltext.read()"
      ],
      "metadata": {
        "id": "e71r6Xt2V3pt"
      },
      "execution_count": null,
      "outputs": []
    },
    {
      "cell_type": "code",
      "source": [
        "print(\"------------------------------------------------\")\n",
        "\n",
        "soup=BeautifulSoup(ht,\"html.parser\")\n",
        "table_rows1=soup.find_all(\"tr\", class_=\"list_row list_odd is-selected\")\n",
        "table_rows2=soup.find_all(\"tr\", class_=\"list_row list_even is-selected\")\n",
        "table_rows=table_rows1+table_rows2"
      ],
      "metadata": {
        "id": "h0MezVCQWC9X"
      },
      "execution_count": null,
      "outputs": []
    },
    {
      "cell_type": "code",
      "source": [
        "len(table_rows)"
      ],
      "metadata": {
        "id": "i9tlhstxX7p1"
      },
      "execution_count": null,
      "outputs": []
    },
    {
      "cell_type": "code",
      "source": [
        "a_row=table_rows[2].find_all(\"td\",class_=\"vt\")"
      ],
      "metadata": {
        "id": "Wfhg-OmvZa45"
      },
      "execution_count": null,
      "outputs": []
    },
    {
      "cell_type": "code",
      "source": [],
      "metadata": {
        "id": "C_lruhb6ciQL"
      },
      "execution_count": null,
      "outputs": []
    },
    {
      "cell_type": "code",
      "source": [
        "a_row[7].div[\"timeago\"]"
      ],
      "metadata": {
        "id": "9uHvOlgjdJ28"
      },
      "execution_count": null,
      "outputs": []
    },
    {
      "cell_type": "code",
      "source": [
        "a_row[7].div.text"
      ],
      "metadata": {
        "id": "AtJhYqpHZQ0k"
      },
      "execution_count": null,
      "outputs": []
    },
    {
      "cell_type": "code",
      "source": [
        "def print_a_row(a_row,to_print=False):\n",
        "    task_id=a_row[0].a[\"aria-label\"].split(\": \")[1]\n",
        "    task_link=a_row[0].a[\"href\"]\n",
        "    task_description=a_row[1].text\n",
        "    inc_name=a_row[6].a[\"aria-label\"].split(\": \")[1]\n",
        "    inc_link=a_row[6].a[\"href\"]\n",
        "    t_creation=a_row[8].div.text\n",
        "    t_start=a_row[7].div.text\n",
        "    t_end=a_row[9].div.text\n",
        "    try:\n",
        "        full_text=a_row[10][\"title\"]\n",
        "    except:\n",
        "        full_text=\"None\"\n",
        "\n",
        "    if to_print:\n",
        "        print(\"taskid:\",task_id,\"\\ntask_link: \",task_link)\n",
        "        print(a_row[1].text)\n",
        "\n",
        "        print(\"incident name:\",inc_name)\n",
        "        print(\"incident link:\",inc_link )\n",
        "    \n",
        "        print(\"Creation time:\",t_creation)\n",
        "        print(\"Start time:\",t_start)\n",
        "        print(\"End time\",t_end)\n",
        "    \n",
        "\n",
        "\n",
        "         \n",
        "        print(\"Text descriptiopn:\",full_text)\n",
        "        \n",
        "        print(\"__________________________\")\n",
        "    return([task_id,task_link,task_description,inc_name,inc_link,t_creation,t_start,t_end,full_text])"
      ],
      "metadata": {
        "id": "lrd6aMYrcAAk"
      },
      "execution_count": null,
      "outputs": []
    },
    {
      "cell_type": "code",
      "source": [],
      "metadata": {
        "id": "ML_tz3mNiGLk"
      },
      "execution_count": null,
      "outputs": []
    },
    {
      "cell_type": "code",
      "source": [
        "data_list=[]\n",
        "for a_row_e in table_rows:\n",
        "    a_row=a_row_e.find_all(\"td\",class_=\"vt\")\n",
        "    data_list.append(print_a_row(a_row,to_print=False))\n"
      ],
      "metadata": {
        "id": "Y_YTSh5tZpfO"
      },
      "execution_count": null,
      "outputs": []
    },
    {
      "cell_type": "code",
      "source": [
        "print (len(data_list))"
      ],
      "metadata": {
        "id": "-qdgHsQGtnxg"
      },
      "execution_count": null,
      "outputs": []
    },
    {
      "cell_type": "code",
      "source": [
        "\n"
      ],
      "metadata": {
        "id": "x76nQ8N5X2Hm"
      },
      "execution_count": null,
      "outputs": []
    },
    {
      "cell_type": "code",
      "source": [
        "fname=\"Incidents _ RG - IT Service Management.html\""
      ],
      "metadata": {
        "id": "rHDGg_Axfmez"
      },
      "execution_count": null,
      "outputs": []
    },
    {
      "cell_type": "code",
      "source": [
        "htmltext=open(path+fname)"
      ],
      "metadata": {
        "id": "BPpSAm3Jf9EB"
      },
      "execution_count": null,
      "outputs": []
    },
    {
      "cell_type": "code",
      "source": [
        "ht=htmltext.read()\n",
        "soup=BeautifulSoup(ht,\"html.parser\")\n"
      ],
      "metadata": {
        "id": "iDWt63b2f9EB"
      },
      "execution_count": null,
      "outputs": []
    },
    {
      "cell_type": "code",
      "source": [],
      "metadata": {
        "id": "rv0s4J8SrDgO"
      },
      "execution_count": null,
      "outputs": []
    },
    {
      "cell_type": "code",
      "source": [
        "table_rows1=soup.find_all(\"tr\",  class_=\"list_row list_odd \")\n",
        "table_rows2=soup.find_all(\"tr\",  class_=\"list_row list_even \")\n",
        "table_rows=table_rows1+table_rows2"
      ],
      "metadata": {
        "id": "YjUXOeXvl8lS"
      },
      "execution_count": null,
      "outputs": []
    },
    {
      "cell_type": "code",
      "source": [
        "len(table_rows)"
      ],
      "metadata": {
        "id": "96rdfZ0RzSCk"
      },
      "execution_count": null,
      "outputs": []
    },
    {
      "cell_type": "code",
      "source": [
        "a_row=table_rows[2].find_all(\"td\",class_=\"vt\")"
      ],
      "metadata": {
        "id": "5yBteQF0n754"
      },
      "execution_count": null,
      "outputs": []
    },
    {
      "cell_type": "code",
      "source": [],
      "metadata": {
        "id": "tnhefvGb0z9U"
      },
      "execution_count": null,
      "outputs": []
    },
    {
      "cell_type": "code",
      "source": [],
      "metadata": {
        "id": "IOmCLxOO3PJp"
      },
      "execution_count": null,
      "outputs": []
    },
    {
      "cell_type": "code",
      "source": [
        "def print_incident_row(a_row,to_print=False):\n",
        "    task_id=a_row[0].a[\"aria-label\"].split(\": \")[1]\n",
        "    task_link=\"https://richterprod.service-now.com/\"+a_row[0].a[\"href\"]\n",
        "    task_description=a_row[4].text\n",
        "    inc_name=task_id\n",
        "    inc_link=task_link\n",
        "    t_creation=a_row[11].div.text\n",
        "    t_start=a_row[10].div.text\n",
        "    t_end=a_row[12].div.text\n",
        "    try:\n",
        "        full_text1=a_row[4].text\n",
        "    except:\n",
        "        full_text1=\"None\"\n",
        "\n",
        "    \n",
        "    try:\n",
        "        full_text2=a_row[14][\"title\"]\n",
        "    except:\n",
        "        full_text2=\"None\"\n",
        "    full_text=full_text1+\"\\n\"+full_text2\n",
        "    if to_print:\n",
        "        print(\"taskid:\",task_id,\"\\ntask_link: \",task_link)\n",
        "        print(\"task description:\",task_description)\n",
        "\n",
        "        print(\"incident name:\",inc_name)\n",
        "        print(\"incident link:\",inc_link )\n",
        "    \n",
        "        print(\"Creation time:\",t_creation)\n",
        "        print(\"Start time:\",t_start)\n",
        "        print(\"End time\",t_end)\n",
        "    \n",
        "\n",
        "\n",
        "         \n",
        "        print(\"Text description:\",full_text)\n",
        "        \n",
        "        print(\"__________________________\")\n",
        "    return([task_id,task_link,task_description,inc_name,inc_link,t_creation,t_start,t_end,full_text])\n",
        "    "
      ],
      "metadata": {
        "id": "enDG1y5s1G6e"
      },
      "execution_count": null,
      "outputs": []
    },
    {
      "cell_type": "code",
      "source": [
        "data_list2=[]\n",
        "for a_row_e in table_rows:\n",
        "    a_row=a_row_e.find_all(\"td\",class_=\"vt\")\n",
        "    data_list2.append(print_incident_row(a_row,to_print=False))"
      ],
      "metadata": {
        "id": "iHmWg43gYcSd"
      },
      "execution_count": null,
      "outputs": []
    },
    {
      "cell_type": "code",
      "source": [
        "len(data_list2)\n"
      ],
      "metadata": {
        "id": "c-uz7_Jl1OSY"
      },
      "execution_count": null,
      "outputs": []
    },
    {
      "cell_type": "code",
      "source": [
        "all_data_list=data_list+data_list2\n"
      ],
      "metadata": {
        "id": "meblKkZLZG9-"
      },
      "execution_count": null,
      "outputs": []
    },
    {
      "cell_type": "code",
      "source": [
        "len(all_data_list)"
      ],
      "metadata": {
        "id": "I0WzHLgLZRl6"
      },
      "execution_count": null,
      "outputs": []
    },
    {
      "cell_type": "code",
      "source": [
        "import pandas as pd\n"
      ],
      "metadata": {
        "id": "vGTFpQKaZylG"
      },
      "execution_count": null,
      "outputs": []
    },
    {
      "cell_type": "code",
      "source": [
        "df=pd.DataFrame(all_data_list,columns=[\"Task\",\"TaskLink\",\"Desc\",\"Inc\",\"IncLink\",\"Creation\",\"Start\",\"End\",\"LongDesc\"])"
      ],
      "metadata": {
        "id": "sZyjxHOUZ1ji"
      },
      "execution_count": null,
      "outputs": []
    },
    {
      "cell_type": "code",
      "source": [],
      "metadata": {
        "id": "bMwW5p0VZ9Kh"
      },
      "execution_count": null,
      "outputs": []
    },
    {
      "cell_type": "code",
      "source": [
        "df[['Start', 'End', 'Creation']] = df[['Start', 'End', 'Creation']].apply(pd.to_datetime)"
      ],
      "metadata": {
        "id": "XN1JibDufqYs"
      },
      "execution_count": null,
      "outputs": []
    },
    {
      "cell_type": "code",
      "source": [
        "df[\"End_Delta\"]=df[\"End\"]-df[\"Start\"]\n",
        "df[\"End_Delta_sec\"]=pd.to_numeric(df[\"End_Delta\"]/1000000000)"
      ],
      "metadata": {
        "id": "LENxpGv_bEDs"
      },
      "execution_count": null,
      "outputs": []
    },
    {
      "cell_type": "code",
      "source": [
        "df[\"Start_Delta\"]=df[\"Start\"]-df[\"Creation\"]\n",
        "df[\"Start_Delta_sec\"]=pd.to_numeric(df[\"Start_Delta\"]/1000000000)"
      ],
      "metadata": {
        "id": "8lDTYgduh_eX"
      },
      "execution_count": null,
      "outputs": []
    },
    {
      "cell_type": "code",
      "source": [],
      "metadata": {
        "id": "To7JKuukpkoN"
      },
      "execution_count": null,
      "outputs": []
    },
    {
      "cell_type": "code",
      "source": [
        "df.sort_values([\"Creation\"],inplace=True,ignore_index=True)"
      ],
      "metadata": {
        "id": "-WUEu5szjSKk"
      },
      "execution_count": null,
      "outputs": []
    },
    {
      "cell_type": "code",
      "source": [
        "df.reindex()"
      ],
      "metadata": {
        "id": "Wr83zr9fDbjV"
      },
      "execution_count": null,
      "outputs": []
    },
    {
      "cell_type": "code",
      "source": [
        "df.plot(y=\"Start_Delta_sec\")"
      ],
      "metadata": {
        "id": "QOXKe3TSt-q5"
      },
      "execution_count": null,
      "outputs": []
    },
    {
      "cell_type": "code",
      "source": [
        "for i in range(len(df)):\n",
        "    print(i,df.loc[i].TaskLink)"
      ],
      "metadata": {
        "id": "ss4xel5CEkmJ"
      },
      "execution_count": null,
      "outputs": []
    },
    {
      "cell_type": "code",
      "source": [],
      "metadata": {
        "id": "2I80e-o7WPyl"
      },
      "execution_count": null,
      "outputs": []
    },
    {
      "cell_type": "code",
      "source": [
        "fname=\"INC0188514 _ Incidens _ RG - IT Service Management.html\"\n",
        "path=\"/content/drive/MyDrive/001_METU/2. félév/dolgozat/adatok/inc/\"\n"
      ],
      "metadata": {
        "id": "2u29r3M_a1-h"
      },
      "execution_count": null,
      "outputs": []
    },
    {
      "cell_type": "code",
      "source": [
        "htmltext=open(path+fname)\n",
        "ht=htmltext.read()\n",
        "soup=BeautifulSoup(ht,\"html.parser\")"
      ],
      "metadata": {
        "id": "V786y3v8bNYK"
      },
      "execution_count": null,
      "outputs": []
    },
    {
      "cell_type": "code",
      "source": [
        "print(\"------------------------------------------------\")\n",
        "\n",
        "soup=BeautifulSoup(ht,\"html.parser\")\n",
        "table_rows=soup.find_all(\"li\", class_=\"h-card h-card_md h-card_comments\")\n"
      ],
      "metadata": {
        "id": "I_HY7h96bXJY"
      },
      "execution_count": null,
      "outputs": []
    },
    {
      "cell_type": "code",
      "source": [
        "table_rows[7]"
      ],
      "metadata": {
        "id": "ZKsIkkcucbgh"
      },
      "execution_count": null,
      "outputs": []
    },
    {
      "cell_type": "code",
      "source": [
        "def find_elements(el):\n",
        "    temp=el.findChildren()\n",
        "    return len(temp)"
      ],
      "metadata": {
        "id": "f0A6qrWbNw1k"
      },
      "execution_count": null,
      "outputs": []
    },
    {
      "cell_type": "code",
      "source": [
        "def incident_record_elements(incident_record, to_print=False):\n",
        "    out=[]\n",
        "    for child in incident_record.descendants:\n",
        "        try:\n",
        "            if find_elements(child)==0:\n",
        "                if to_print:\n",
        "                    print(child.text)\n",
        "                out.append(child.text)\n",
        "        except:\n",
        "            pass\n",
        "    return(out)\n",
        "            "
      ],
      "metadata": {
        "id": "_gUFkKoTbq9w"
      },
      "execution_count": null,
      "outputs": []
    },
    {
      "cell_type": "code",
      "source": [
        "def get_all_html(path:str):\n",
        "    import os\n",
        "    files=os.scandir(path=path,)\n",
        "    o=[a.name for a in files if \"html\" in a.name ]\n",
        "    o.sort()\n",
        "    return o\n"
      ],
      "metadata": {
        "id": "eSgdxfNNkAK5"
      },
      "execution_count": null,
      "outputs": []
    },
    {
      "cell_type": "code",
      "source": [
        "html_files = get_all_html(path)"
      ],
      "metadata": {
        "id": "_vr2zcmPkmvh"
      },
      "execution_count": null,
      "outputs": []
    },
    {
      "cell_type": "code",
      "source": [
        "html_files"
      ],
      "metadata": {
        "id": "qTdJb7fgn3A8"
      },
      "execution_count": null,
      "outputs": []
    },
    {
      "cell_type": "code",
      "source": [
        "def critical_stepps(incident_record_list):\n",
        "    '''\n",
        "    Adatok strukturálása\n",
        "    '''\n",
        "    o=[]\n",
        "    for incident_record in incident_record_list:\n",
        "        incident_record_list=incident_record_elements(incident_record)\n",
        "        \n",
        "        if \"ServiceNow - Incidens került a csoportodra | Incident has been assigned to your group\" in incident_record_list:\n",
        "            o1=f\"0:csoporton:{incident_record_list[3]}\"\n",
        "            print(o1)\n",
        "            o.append(o1)\n",
        "        \n",
        "        if \"ServiceNow - Incidens került a nevedre | Incident has been assigned to you\" in incident_record_list:\n",
        "            o2=f\"1:kollégán:{incident_record_list[3]}\"\n",
        "            print(o2)\n",
        "            o.append(o2)\n",
        "        if \"Megoldott (véglegesen)\" in incident_record_list:\n",
        "            o3=f\"2:megoldott:{incident_record_list[5]}\"\n",
        "            print(o3)\n",
        "            o.append(o3)\n",
        "        \n",
        "        if \"Megoldott (kerülő megoldás)\" in incident_record_list:\n",
        "            o4=f\"2:megoldott (kerülővel):{incident_record_list[5]}\"\n",
        "            print(o4)\n",
        "            o.append(o4)\n",
        "        \n",
        "        if \"Nem megoldott (nem reprodukálható)\" in incident_record_list:\n",
        "            o5=f\"2:megoldott (Nem megoldott de nem reprodukálható)):{incident_record_list[5]}\"\n",
        "            print(o5)\n",
        "            o.append(o5)\n",
        "    return o   \n",
        "        \n",
        "            \n"
      ],
      "metadata": {
        "id": "W9RfQVrwY1nH"
      },
      "execution_count": null,
      "outputs": []
    },
    {
      "cell_type": "code",
      "source": [
        "critical_stepps(table_rows)"
      ],
      "metadata": {
        "id": "GNS1e6zsZoCx"
      },
      "execution_count": null,
      "outputs": []
    },
    {
      "cell_type": "code",
      "source": [
        "def list_all_incident(path:str):\n",
        "    html_files=get_all_html(path)\n",
        "    #print(type(html_files))\n",
        "    i=0\n",
        "    out=[]\n",
        "    for fname in html_files:\n",
        "        out_rec=[]\n",
        "        i+=1\n",
        "        inc_name=fname.split(\" \")[0]\n",
        "        out_rec.append(inc_name)\n",
        "        print(i,inc_name)\n",
        "        htmltext=open(path+fname)\n",
        "        ht=htmltext.read()\n",
        "        soup=BeautifulSoup(ht,\"html.parser\")\n",
        "        \n",
        "        \n",
        "        table_rows=soup.find_all(\"li\", class_=\"h-card h-card_md h-card_comments\")\n",
        "\n",
        "        ret=critical_stepps(table_rows)\n",
        "        out_rec.append(len(ret))\n",
        "        out_rec.append(ret)\n",
        "        print(\"------------------------------------------------\")\n",
        "        out.append(out_rec)\n",
        "    return out"
      ],
      "metadata": {
        "id": "l1C_sTPUlZZy"
      },
      "execution_count": null,
      "outputs": []
    },
    {
      "cell_type": "code",
      "source": [
        "o=list_all_incident(path)"
      ],
      "metadata": {
        "id": "XcH7gFUMmy2-"
      },
      "execution_count": null,
      "outputs": []
    },
    {
      "cell_type": "code",
      "source": [
        "o"
      ],
      "metadata": {
        "id": "IU0uC0dyxliF"
      },
      "execution_count": null,
      "outputs": []
    },
    {
      "cell_type": "code",
      "source": [
        "incident_record_list=incident_record_elements(table_rows[4])"
      ],
      "metadata": {
        "id": "93vcxEQ_TQq0"
      },
      "execution_count": null,
      "outputs": []
    },
    {
      "cell_type": "code",
      "source": [
        "incident_record_list"
      ],
      "metadata": {
        "id": "c5gUdT8lXHtk"
      },
      "execution_count": null,
      "outputs": []
    },
    {
      "cell_type": "code",
      "source": [
        "'Megoldott (véglegesen) ' in incident_record_list"
      ],
      "metadata": {
        "id": "7IGksE3pXTW4"
      },
      "execution_count": null,
      "outputs": []
    },
    {
      "cell_type": "code",
      "source": [
        "find_elements(table_rows[0])"
      ],
      "metadata": {
        "id": "t8aLxMiMQvLw"
      },
      "execution_count": null,
      "outputs": []
    },
    {
      "cell_type": "code",
      "source": [
        "path=\"/content/drive/MyDrive/001_METU/2. félév/dolgozat/adatok/task/\""
      ],
      "metadata": {
        "id": "4Nr7dbg8mszd"
      },
      "execution_count": null,
      "outputs": []
    },
    {
      "cell_type": "code",
      "source": [
        "html_files = get_all_html(path)"
      ],
      "metadata": {
        "id": "HSgaena_nFha"
      },
      "execution_count": null,
      "outputs": []
    },
    {
      "cell_type": "code",
      "source": [
        "list_all_incident(path)"
      ],
      "metadata": {
        "colab": {
          "base_uri": "https://localhost:8080/"
        },
        "id": "XWyJ2tu5nHaa",
        "outputId": "837e0a6a-9346-444f-e45c-6e168ae6e127"
      },
      "execution_count": null,
      "outputs": [
        {
          "output_type": "stream",
          "name": "stdout",
          "text": [
            "1 TASK0216008\n",
            "------------------------------------------------\n",
            "2 TASK0225687\n",
            "------------------------------------------------\n",
            "3 TASK0225759\n",
            "------------------------------------------------\n",
            "4 TASK0227851\n",
            "------------------------------------------------\n",
            "5 TASK0230843\n",
            "------------------------------------------------\n",
            "6 TASK0232153\n",
            "------------------------------------------------\n",
            "7 TASK0233522\n",
            "------------------------------------------------\n",
            "8 TASK0234168\n",
            "------------------------------------------------\n",
            "9 TASK0234169\n",
            "------------------------------------------------\n",
            "10 TASK0234244\n",
            "------------------------------------------------\n",
            "11 TASK0235078\n",
            "------------------------------------------------\n",
            "12 TASK0241059\n",
            "------------------------------------------------\n",
            "13 TASK0241109\n",
            "------------------------------------------------\n",
            "14 TASK0242057\n",
            "------------------------------------------------\n",
            "15 TASK0243081\n",
            "------------------------------------------------\n",
            "16 TASK0244980\n",
            "------------------------------------------------\n",
            "17 TASK0245960\n",
            "------------------------------------------------\n",
            "18 TASK0247841\n",
            "------------------------------------------------\n",
            "19 TASK0249064\n",
            "------------------------------------------------\n",
            "20 TASK0249194\n",
            "------------------------------------------------\n",
            "21 TASK0250093\n",
            "------------------------------------------------\n",
            "22 TASK0251112\n",
            "------------------------------------------------\n",
            "23 TASK0251735\n",
            "------------------------------------------------\n",
            "24 TASK0251736\n",
            "------------------------------------------------\n",
            "25 TASK0252041\n",
            "------------------------------------------------\n",
            "26 TASK0252332\n",
            "------------------------------------------------\n",
            "27 TASK0252604\n",
            "------------------------------------------------\n",
            "28 TASK0252718\n",
            "------------------------------------------------\n",
            "29 TASK0253194\n",
            "------------------------------------------------\n",
            "30 TASK0253220\n",
            "------------------------------------------------\n",
            "31 TASK0253416\n",
            "------------------------------------------------\n",
            "32 TASK0253673\n",
            "------------------------------------------------\n",
            "33 TASK0254794\n",
            "------------------------------------------------\n",
            "34 TASK0254914\n",
            "------------------------------------------------\n",
            "35 TASK0254915\n",
            "------------------------------------------------\n",
            "36 TASK0255138\n",
            "------------------------------------------------\n",
            "37 TASK0255140\n",
            "------------------------------------------------\n",
            "38 TASK0255141\n",
            "------------------------------------------------\n",
            "39 TASK0256289\n",
            "------------------------------------------------\n",
            "40 TASK0256464\n",
            "------------------------------------------------\n",
            "41 TASK0256836\n",
            "------------------------------------------------\n",
            "42 TASK0257065\n",
            "------------------------------------------------\n",
            "43 TASK0257108\n",
            "------------------------------------------------\n",
            "44 TASK0257490\n",
            "------------------------------------------------\n",
            "45 TASK0257770\n",
            "------------------------------------------------\n",
            "46 TASK0257985\n",
            "------------------------------------------------\n",
            "47 TASK0258194\n",
            "------------------------------------------------\n",
            "48 TASK0258210\n",
            "------------------------------------------------\n",
            "49 TASK0258242\n",
            "------------------------------------------------\n",
            "50 TASK0258243\n",
            "------------------------------------------------\n",
            "51 TASK0258712\n",
            "------------------------------------------------\n",
            "52 TASK0258979\n",
            "------------------------------------------------\n",
            "53 TASK0259076\n",
            "------------------------------------------------\n",
            "54 TASK0259380\n",
            "------------------------------------------------\n",
            "55 TASK0259666\n",
            "------------------------------------------------\n",
            "56 TASK0260039\n",
            "------------------------------------------------\n",
            "57 TASK0260810\n",
            "------------------------------------------------\n",
            "58 TASK0261679\n",
            "------------------------------------------------\n",
            "59 TASK0261737\n",
            "------------------------------------------------\n",
            "60 TASK0261840\n",
            "------------------------------------------------\n",
            "61 TASK0261855\n",
            "------------------------------------------------\n",
            "62 TASK0261952\n",
            "------------------------------------------------\n",
            "63 TASK0262988\n",
            "------------------------------------------------\n",
            "64 TASK0263072\n",
            "------------------------------------------------\n",
            "65 TASK0263105\n",
            "------------------------------------------------\n",
            "66 TASK0263300\n",
            "------------------------------------------------\n",
            "67 TASK0264090\n",
            "------------------------------------------------\n",
            "68 TASK0264195\n",
            "------------------------------------------------\n",
            "69 TASK0264872\n",
            "------------------------------------------------\n",
            "70 TASK0265272\n",
            "------------------------------------------------\n",
            "71 TASK0265518\n",
            "------------------------------------------------\n",
            "72 TASK0266172\n",
            "------------------------------------------------\n",
            "73 TASK0266300\n",
            "------------------------------------------------\n",
            "74 TASK0266662\n",
            "------------------------------------------------\n",
            "75 TASK0267302\n",
            "------------------------------------------------\n",
            "76 TASK0267394\n",
            "------------------------------------------------\n",
            "77 TASK0267527\n",
            "------------------------------------------------\n",
            "78 TASK0267574\n",
            "------------------------------------------------\n",
            "79 TASK0267762\n",
            "------------------------------------------------\n",
            "80 TASK0267992\n",
            "------------------------------------------------\n",
            "81 TASK0268040\n",
            "------------------------------------------------\n",
            "82 TASK0268042\n",
            "------------------------------------------------\n",
            "83 TASK0268275\n",
            "------------------------------------------------\n",
            "84 TASK0268664\n",
            "------------------------------------------------\n",
            "85 TASK0268690\n",
            "------------------------------------------------\n",
            "86 TASK0268943\n",
            "------------------------------------------------\n",
            "87 TASK0268958\n",
            "------------------------------------------------\n",
            "88 TASK0269065\n",
            "------------------------------------------------\n",
            "89 TASK0269527\n",
            "------------------------------------------------\n",
            "90 TASK0269549\n",
            "------------------------------------------------\n",
            "91 TASK0269912\n",
            "------------------------------------------------\n",
            "92 TASK0270120\n",
            "------------------------------------------------\n",
            "93 TASK0270132\n",
            "------------------------------------------------\n",
            "94 TASK0270160\n",
            "------------------------------------------------\n",
            "95 TASK0270686\n",
            "------------------------------------------------\n",
            "96 TASK0270826\n",
            "------------------------------------------------\n",
            "97 TASK0271876\n",
            "------------------------------------------------\n",
            "98 TASK0271877\n",
            "------------------------------------------------\n",
            "99 TASK0272074\n",
            "------------------------------------------------\n",
            "100 TASK0272508\n",
            "------------------------------------------------\n",
            "101 TASK0272770\n",
            "------------------------------------------------\n",
            "102 TASK0272785\n",
            "------------------------------------------------\n",
            "103 TASK0273649\n",
            "------------------------------------------------\n",
            "104 TASK0273652\n",
            "------------------------------------------------\n",
            "105 TASK0274996\n",
            "------------------------------------------------\n",
            "106 TASK0275129\n",
            "------------------------------------------------\n",
            "107 TASK0275250\n",
            "------------------------------------------------\n",
            "108 TASK0275397\n",
            "------------------------------------------------\n",
            "109 TASK0275780\n",
            "------------------------------------------------\n",
            "110 TASK0275854\n",
            "------------------------------------------------\n",
            "111 TASK0275876\n",
            "------------------------------------------------\n",
            "112 TASK0278301\n",
            "------------------------------------------------\n",
            "113 TASK0278409\n",
            "------------------------------------------------\n",
            "114 TASK0279324\n",
            "------------------------------------------------\n",
            "115 TASK0279925\n",
            "------------------------------------------------\n",
            "116 TASK0280233\n",
            "------------------------------------------------\n",
            "117 TASK0281386\n",
            "------------------------------------------------\n",
            "118 TASK0281387\n",
            "------------------------------------------------\n",
            "119 TASK0281797\n",
            "------------------------------------------------\n",
            "120 TASK0281805\n",
            "------------------------------------------------\n",
            "121 TASK0281806\n",
            "------------------------------------------------\n",
            "122 TASK0281868\n",
            "------------------------------------------------\n",
            "123 TASK0282055\n",
            "------------------------------------------------\n",
            "124 TASK0282193\n",
            "------------------------------------------------\n",
            "125 TASK0282321\n",
            "------------------------------------------------\n",
            "126 TASK0283130\n",
            "------------------------------------------------\n",
            "127 TASK0283602\n",
            "------------------------------------------------\n",
            "128 TASK0283658\n",
            "------------------------------------------------\n",
            "129 TASK0283713\n",
            "------------------------------------------------\n",
            "130 TASK0283756\n",
            "------------------------------------------------\n",
            "131 TASK0283818\n",
            "------------------------------------------------\n",
            "132 TASK0283890\n",
            "------------------------------------------------\n",
            "133 TASK0283956\n",
            "------------------------------------------------\n",
            "134 TASK0284045\n",
            "------------------------------------------------\n",
            "135 TASK0284163\n",
            "------------------------------------------------\n",
            "136 TASK0284412\n",
            "------------------------------------------------\n",
            "137 TASK0284786\n",
            "------------------------------------------------\n",
            "138 TASK0284817\n",
            "------------------------------------------------\n",
            "139 TASK0284896\n",
            "------------------------------------------------\n",
            "140 TASK0284900\n",
            "------------------------------------------------\n",
            "141 TASK0285431\n",
            "------------------------------------------------\n",
            "142 TASK0285436\n",
            "------------------------------------------------\n",
            "143 TASK0285437\n",
            "------------------------------------------------\n",
            "144 TASK0285533\n",
            "------------------------------------------------\n",
            "145 TASK0286116\n",
            "------------------------------------------------\n",
            "146 TASK0286539\n",
            "------------------------------------------------\n",
            "147 TASK0286940\n",
            "------------------------------------------------\n",
            "148 TASK0286980\n",
            "------------------------------------------------\n",
            "149 TASK0288821\n",
            "------------------------------------------------\n",
            "150 TASK0288940\n",
            "------------------------------------------------\n",
            "151 TASK0289238\n",
            "------------------------------------------------\n",
            "152 TASK0289414\n",
            "------------------------------------------------\n",
            "153 TASK0289479\n",
            "------------------------------------------------\n",
            "154 TASK0289588\n",
            "------------------------------------------------\n",
            "155 TASK0289743\n",
            "------------------------------------------------\n",
            "156 TASK0289744\n",
            "------------------------------------------------\n",
            "157 TASK0289955\n",
            "------------------------------------------------\n",
            "158 TASK0290145\n",
            "------------------------------------------------\n",
            "159 TASK0290182\n",
            "------------------------------------------------\n",
            "160 TASK0290774\n",
            "------------------------------------------------\n",
            "161 TASK0291321\n",
            "------------------------------------------------\n",
            "162 TASK0291829\n",
            "------------------------------------------------\n",
            "163 TASK0293673\n",
            "------------------------------------------------\n",
            "164 TASK0294622\n",
            "------------------------------------------------\n",
            "165 TASK0295236\n",
            "------------------------------------------------\n",
            "166 TASK0296221\n",
            "------------------------------------------------\n",
            "167 TASK0296999\n",
            "------------------------------------------------\n",
            "168 TASK0298435\n",
            "------------------------------------------------\n",
            "169 TASK0299849\n",
            "------------------------------------------------\n",
            "170 TASK0300337\n",
            "------------------------------------------------\n",
            "171 TASK0300701\n",
            "------------------------------------------------\n",
            "172 TASK0300791\n",
            "------------------------------------------------\n",
            "173 TASK0303096\n",
            "------------------------------------------------\n",
            "174 TASK0305259\n",
            "------------------------------------------------\n",
            "175 TASK0305464\n",
            "------------------------------------------------\n",
            "176 TASK0305879\n",
            "------------------------------------------------\n",
            "177 TASK0305880\n",
            "------------------------------------------------\n",
            "178 TASK0305881\n",
            "------------------------------------------------\n",
            "179 TASK0305972\n",
            "------------------------------------------------\n",
            "180 TASK0306380\n",
            "------------------------------------------------\n",
            "181 TASK0306395\n",
            "------------------------------------------------\n",
            "182 TASK0306407\n",
            "------------------------------------------------\n",
            "183 TASK0306408\n",
            "------------------------------------------------\n",
            "184 TASK0306502\n",
            "------------------------------------------------\n",
            "185 TASK0306511\n",
            "------------------------------------------------\n",
            "186 TASK0306660\n",
            "------------------------------------------------\n",
            "187 TASK0306754\n",
            "------------------------------------------------\n",
            "188 TASK0306949\n",
            "------------------------------------------------\n",
            "189 TASK0307141\n",
            "------------------------------------------------\n",
            "190 TASK0307369\n",
            "------------------------------------------------\n",
            "191 TASK0307829\n",
            "------------------------------------------------\n",
            "192 TASK0308201\n",
            "------------------------------------------------\n",
            "193 TASK0308458\n",
            "------------------------------------------------\n",
            "194 TASK0308565\n",
            "------------------------------------------------\n",
            "195 TASK0308576\n",
            "------------------------------------------------\n",
            "196 TASK0308807\n",
            "------------------------------------------------\n",
            "197 TASK0308844\n",
            "------------------------------------------------\n",
            "198 TASK0308908\n",
            "------------------------------------------------\n",
            "199 TASK0310027\n",
            "------------------------------------------------\n",
            "200 TASK0310211\n",
            "------------------------------------------------\n",
            "201 TASK0310214\n",
            "------------------------------------------------\n",
            "202 TASK0310218\n",
            "------------------------------------------------\n",
            "203 TASK0310238\n",
            "------------------------------------------------\n",
            "204 TASK0310626\n",
            "------------------------------------------------\n",
            "205 TASK0310629\n",
            "------------------------------------------------\n",
            "206 TASK0310635\n",
            "------------------------------------------------\n",
            "207 TASK0310662\n",
            "------------------------------------------------\n",
            "208 TASK0310663\n",
            "------------------------------------------------\n",
            "209 TASK0310705\n",
            "------------------------------------------------\n",
            "210 TASK0310920\n",
            "------------------------------------------------\n",
            "211 TASK0311125\n",
            "------------------------------------------------\n",
            "212 TASK0311686\n",
            "------------------------------------------------\n",
            "213 TASK0312018\n",
            "------------------------------------------------\n",
            "214 TASK0312987\n",
            "------------------------------------------------\n",
            "215 TASK0313161\n",
            "------------------------------------------------\n",
            "216 TASK0313545\n",
            "------------------------------------------------\n",
            "217 TASK0313675\n",
            "------------------------------------------------\n",
            "218 TASK0313943\n",
            "------------------------------------------------\n",
            "219 TASK0314205\n",
            "------------------------------------------------\n",
            "220 TASK0314325\n",
            "------------------------------------------------\n",
            "221 TASK0314346\n",
            "------------------------------------------------\n",
            "222 TASK0315070\n"
          ]
        }
      ]
    },
    {
      "cell_type": "code",
      "source": [
        "path=\"/content/drive/MyDrive/001_METU/2. félév/dolgozat/adatok/emails/\""
      ],
      "metadata": {
        "id": "tevqZLKmGTKX"
      },
      "execution_count": null,
      "outputs": []
    },
    {
      "cell_type": "code",
      "source": [
        "def fname_converter(fname:str, to_print=False):\n",
        "    o=fname.split(\".\")[0].split(\"_\")\n",
        "    date_s=o[0].split(\"-\")\n",
        "    time_s=o[1].split(\"-\")\n",
        "    o=date_s+time_s\n",
        "    out=f\"{o[0]}-{o[1]}-{o[2]} {o[3]}:{o[4]}:{o[5]}\"    \n",
        "    if to_print:\n",
        "        print(out)\n",
        "    return(out)"
      ],
      "metadata": {
        "id": "sO3cLcOhL7VJ"
      },
      "execution_count": null,
      "outputs": []
    },
    {
      "cell_type": "code",
      "source": [
        "fname_converter(\"2022-11-10_05-52-13.txt\")"
      ],
      "metadata": {
        "id": "IzvKTs_TMhO7"
      },
      "execution_count": null,
      "outputs": []
    },
    {
      "cell_type": "code",
      "source": [
        "import os\n",
        "import time\n",
        "email_files=os.scandir(path=path,)\n",
        "email_files_data=[fname_converter(a.name) for a in email_files ]"
      ],
      "metadata": {
        "id": "LCY1fHlkGeNW"
      },
      "execution_count": null,
      "outputs": []
    },
    {
      "cell_type": "code",
      "source": [
        "email_files_data.sort()"
      ],
      "metadata": {
        "id": "08XkchtTGia-"
      },
      "execution_count": null,
      "outputs": []
    },
    {
      "cell_type": "code",
      "source": [
        "email_files_data"
      ],
      "metadata": {
        "id": "6uWikcApOKt_"
      },
      "execution_count": null,
      "outputs": []
    }
  ]
}