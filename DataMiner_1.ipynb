{
  "nbformat": 4,
  "nbformat_minor": 0,
  "metadata": {
    "colab": {
      "provenance": [],
      "authorship_tag": "ABX9TyN7bqLOguRfflYb+IxMeGXk",
      "include_colab_link": true
    },
    "kernelspec": {
      "name": "python3",
      "display_name": "Python 3"
    },
    "language_info": {
      "name": "python"
    }
  },
  "cells": [
    {
      "cell_type": "markdown",
      "metadata": {
        "id": "view-in-github",
        "colab_type": "text"
      },
      "source": [
        "<a href=\"https://colab.research.google.com/github/sipocz/DataMiner/blob/main/DataMiner_1.ipynb\" target=\"_parent\"><img src=\"https://colab.research.google.com/assets/colab-badge.svg\" alt=\"Open In Colab\"/></a>"
      ]
    },
    {
      "cell_type": "code",
      "execution_count": 225,
      "metadata": {
        "id": "EQsORUMCSy_I"
      },
      "outputs": [],
      "source": [
        "import pandas as pd\n",
        "import os\n",
        "from bs4 import  BeautifulSoup"
      ]
    },
    {
      "cell_type": "code",
      "source": [
        "from google.colab import drive"
      ],
      "metadata": {
        "id": "jFZyNaSaTIZS"
      },
      "execution_count": 226,
      "outputs": []
    },
    {
      "cell_type": "code",
      "source": [
        "drive.mount('/content/drive')"
      ],
      "metadata": {
        "colab": {
          "base_uri": "https://localhost:8080/"
        },
        "id": "UGLP5ccxTJ8Z",
        "outputId": "7c28485b-68f8-4b02-cbd5-82dc5614f7e2"
      },
      "execution_count": 227,
      "outputs": [
        {
          "output_type": "stream",
          "name": "stdout",
          "text": [
            "Drive already mounted at /content/drive; to attempt to forcibly remount, call drive.mount(\"/content/drive\", force_remount=True).\n"
          ]
        }
      ]
    },
    {
      "cell_type": "code",
      "source": [
        "path=\"/content/drive/MyDrive/001_METU/2. félév/dolgozat/adatok/\""
      ],
      "metadata": {
        "id": "14l9PcQiTSGi"
      },
      "execution_count": 228,
      "outputs": []
    },
    {
      "cell_type": "code",
      "source": [
        "fname=\"Eseményfeladatok _ RG - IT Service Management.html\"\n"
      ],
      "metadata": {
        "id": "MZEkePT1TazZ"
      },
      "execution_count": 229,
      "outputs": []
    },
    {
      "cell_type": "code",
      "source": [
        "htmltext=open(path+fname)"
      ],
      "metadata": {
        "id": "RuTYXMsFULV7"
      },
      "execution_count": 230,
      "outputs": []
    },
    {
      "cell_type": "code",
      "source": [
        "ht=htmltext.read()"
      ],
      "metadata": {
        "id": "e71r6Xt2V3pt"
      },
      "execution_count": 231,
      "outputs": []
    },
    {
      "cell_type": "code",
      "source": [
        "print(\"------------------------------------------------\")\n",
        "\n",
        "soup=BeautifulSoup(ht,\"html.parser\")\n",
        "table_rows1=soup.find_all(\"tr\", class_=\"list_row list_odd is-selected\")\n",
        "table_rows2=soup.find_all(\"tr\", class_=\"list_row list_even is-selected\")\n",
        "table_rows=table_rows1+table_rows2"
      ],
      "metadata": {
        "colab": {
          "base_uri": "https://localhost:8080/"
        },
        "id": "h0MezVCQWC9X",
        "outputId": "c8673ac7-16c6-4d5b-9722-3ca12f8c8192"
      },
      "execution_count": 232,
      "outputs": [
        {
          "output_type": "stream",
          "name": "stdout",
          "text": [
            "------------------------------------------------\n"
          ]
        }
      ]
    },
    {
      "cell_type": "code",
      "source": [
        "len(table_rows)"
      ],
      "metadata": {
        "colab": {
          "base_uri": "https://localhost:8080/"
        },
        "id": "i9tlhstxX7p1",
        "outputId": "ddeb7304-c2ee-4c61-805a-0c3141a51bfa"
      },
      "execution_count": 233,
      "outputs": [
        {
          "output_type": "execute_result",
          "data": {
            "text/plain": [
              "224"
            ]
          },
          "metadata": {},
          "execution_count": 233
        }
      ]
    },
    {
      "cell_type": "code",
      "source": [
        "a_row=table_rows[2].find_all(\"td\",class_=\"vt\")"
      ],
      "metadata": {
        "id": "Wfhg-OmvZa45"
      },
      "execution_count": 234,
      "outputs": []
    },
    {
      "cell_type": "code",
      "source": [],
      "metadata": {
        "id": "C_lruhb6ciQL"
      },
      "execution_count": 234,
      "outputs": []
    },
    {
      "cell_type": "code",
      "source": [
        "a_row[10][\"title\"]"
      ],
      "metadata": {
        "colab": {
          "base_uri": "https://localhost:8080/",
          "height": 36
        },
        "id": "9uHvOlgjdJ28",
        "outputId": "d1f52016-71a1-4f03-c353-94a733026994"
      },
      "execution_count": 235,
      "outputs": [
        {
          "output_type": "execute_result",
          "data": {
            "text/plain": [
              "'A feladatot ki lehet választani nyomtatásra, a nyomtató megfelelő állapotban van, mégis hibaüzenet jelenik meg. Reggel még más kollégák tudtak nyomatni. A napi munka addig nem kezdhető meg, amíg a feladat ki nincs nyomtatva.'"
            ],
            "application/vnd.google.colaboratory.intrinsic+json": {
              "type": "string"
            }
          },
          "metadata": {},
          "execution_count": 235
        }
      ]
    },
    {
      "cell_type": "code",
      "source": [
        "def print_a_row(a_row,to_print=False):\n",
        "    task_id=a_row[0].a[\"aria-label\"].split(\": \")[1]\n",
        "    task_link=a_row[0].a[\"href\"]\n",
        "    task_description=a_row[1].text\n",
        "    inc_name=a_row[6].a[\"aria-label\"].split(\": \")[1]\n",
        "    inc_link=a_row[6].a[\"href\"]\n",
        "    t_creation=a_row[8].div[\"timeago\"]\n",
        "    t_start=a_row[7].div[\"timeago\"]\n",
        "    t_end=a_row[9].div[\"timeago\"]\n",
        "    try:\n",
        "        full_text=a_row[10][\"title\"]\n",
        "    except:\n",
        "        full_text=\"None\"\n",
        "\n",
        "    if to_print:\n",
        "        print(\"taskid:\",task_id,\"\\ntask_link: \",task_link)\n",
        "        print(a_row[1].text)\n",
        "\n",
        "        print(\"incident name:\",inc_name)\n",
        "        print(\"incident link:\",inc_link )\n",
        "    \n",
        "        print(\"Creation time:\",t_creation)\n",
        "        print(\"Start time:\",t_start)\n",
        "        print(\"End time\",t_end)\n",
        "    \n",
        "\n",
        "\n",
        "         \n",
        "        print(\"Text descriptiopn:\",full_text)\n",
        "        \n",
        "        print(\"__________________________\")\n",
        "    return([task_id,task_link,task_description,inc_name,inc_link,t_creation,t_start,t_end,full_text])"
      ],
      "metadata": {
        "id": "lrd6aMYrcAAk"
      },
      "execution_count": 236,
      "outputs": []
    },
    {
      "cell_type": "code",
      "source": [],
      "metadata": {
        "id": "ML_tz3mNiGLk"
      },
      "execution_count": 236,
      "outputs": []
    },
    {
      "cell_type": "code",
      "source": [
        "data_list=[]\n",
        "for a_row_e in table_rows:\n",
        "    a_row=a_row_e.find_all(\"td\",class_=\"vt\")\n",
        "    data_list.append(print_a_row(a_row,to_print=False))\n"
      ],
      "metadata": {
        "id": "Y_YTSh5tZpfO"
      },
      "execution_count": 237,
      "outputs": []
    },
    {
      "cell_type": "code",
      "source": [
        "print (len(data_list))"
      ],
      "metadata": {
        "colab": {
          "base_uri": "https://localhost:8080/"
        },
        "id": "-qdgHsQGtnxg",
        "outputId": "09a7d344-8470-4a20-e963-6fb8fdca4b7d"
      },
      "execution_count": 238,
      "outputs": [
        {
          "output_type": "stream",
          "name": "stdout",
          "text": [
            "224\n"
          ]
        }
      ]
    },
    {
      "cell_type": "code",
      "source": [
        "\n"
      ],
      "metadata": {
        "id": "x76nQ8N5X2Hm"
      },
      "execution_count": 238,
      "outputs": []
    },
    {
      "cell_type": "code",
      "source": [
        "fname=\"Incidents _ RG - IT Service Management.html\""
      ],
      "metadata": {
        "id": "rHDGg_Axfmez"
      },
      "execution_count": 239,
      "outputs": []
    },
    {
      "cell_type": "code",
      "source": [
        "htmltext=open(path+fname)"
      ],
      "metadata": {
        "id": "BPpSAm3Jf9EB"
      },
      "execution_count": 240,
      "outputs": []
    },
    {
      "cell_type": "code",
      "source": [
        "ht=htmltext.read()\n",
        "soup=BeautifulSoup(ht,\"html.parser\")\n"
      ],
      "metadata": {
        "id": "iDWt63b2f9EB"
      },
      "execution_count": 241,
      "outputs": []
    },
    {
      "cell_type": "code",
      "source": [],
      "metadata": {
        "id": "rv0s4J8SrDgO"
      },
      "execution_count": 241,
      "outputs": []
    },
    {
      "cell_type": "code",
      "source": [
        "table_rows1=soup.find_all(\"tr\",  class_=\"list_row list_odd \")\n",
        "table_rows2=soup.find_all(\"tr\",  class_=\"list_row list_even \")\n",
        "table_rows=table_rows1+table_rows2"
      ],
      "metadata": {
        "id": "YjUXOeXvl8lS"
      },
      "execution_count": 242,
      "outputs": []
    },
    {
      "cell_type": "code",
      "source": [
        "len(table_rows)"
      ],
      "metadata": {
        "colab": {
          "base_uri": "https://localhost:8080/"
        },
        "id": "96rdfZ0RzSCk",
        "outputId": "fe4be82b-5420-4d56-e486-4db5d06a47a3"
      },
      "execution_count": 243,
      "outputs": [
        {
          "output_type": "execute_result",
          "data": {
            "text/plain": [
              "61"
            ]
          },
          "metadata": {},
          "execution_count": 243
        }
      ]
    },
    {
      "cell_type": "code",
      "source": [
        "a_row=table_rows[2].find_all(\"td\",class_=\"vt\")"
      ],
      "metadata": {
        "id": "5yBteQF0n754"
      },
      "execution_count": 244,
      "outputs": []
    },
    {
      "cell_type": "code",
      "source": [],
      "metadata": {
        "id": "tnhefvGb0z9U"
      },
      "execution_count": 244,
      "outputs": []
    },
    {
      "cell_type": "code",
      "source": [],
      "metadata": {
        "id": "IOmCLxOO3PJp"
      },
      "execution_count": 244,
      "outputs": []
    },
    {
      "cell_type": "code",
      "source": [
        "def print_incident_row(a_row,to_print=False):\n",
        "    task_id=a_row[0].a[\"aria-label\"].split(\": \")[1]\n",
        "    task_link=\"https://richterprod.service-now.com/\"+a_row[0].a[\"href\"]\n",
        "    task_description=a_row[4].text\n",
        "    inc_name=task_id\n",
        "    inc_link=task_link\n",
        "    t_creation=a_row[11].div[\"timeago\"]\n",
        "    t_start=a_row[10].div[\"timeago\"]\n",
        "    t_end=a_row[12].div[\"timeago\"]\n",
        "    try:\n",
        "        full_text1=a_row[4].text\n",
        "    except:\n",
        "        full_text1=\"None\"\n",
        "\n",
        "    \n",
        "    try:\n",
        "        full_text2=a_row[14][\"title\"]\n",
        "    except:\n",
        "        full_text2=\"None\"\n",
        "    full_text=full_text1+\"\\n\"+full_text2\n",
        "    if to_print:\n",
        "        print(\"taskid:\",task_id,\"\\ntask_link: \",task_link)\n",
        "        print(\"task description:\",task_description)\n",
        "\n",
        "        print(\"incident name:\",inc_name)\n",
        "        print(\"incident link:\",inc_link )\n",
        "    \n",
        "        print(\"Creation time:\",t_creation)\n",
        "        print(\"Start time:\",t_start)\n",
        "        print(\"End time\",t_end)\n",
        "    \n",
        "\n",
        "\n",
        "         \n",
        "        print(\"Text description:\",full_text)\n",
        "        \n",
        "        print(\"__________________________\")\n",
        "    return([task_id,task_link,task_description,inc_name,inc_link,t_creation,t_start,t_end,full_text])\n",
        "    "
      ],
      "metadata": {
        "id": "enDG1y5s1G6e"
      },
      "execution_count": 245,
      "outputs": []
    },
    {
      "cell_type": "code",
      "source": [
        "data_list2=[]\n",
        "for a_row_e in table_rows:\n",
        "    a_row=a_row_e.find_all(\"td\",class_=\"vt\")\n",
        "    data_list2.append(print_incident_row(a_row,to_print=False))"
      ],
      "metadata": {
        "id": "iHmWg43gYcSd"
      },
      "execution_count": 246,
      "outputs": []
    },
    {
      "cell_type": "code",
      "source": [
        "len(data_list2)\n"
      ],
      "metadata": {
        "colab": {
          "base_uri": "https://localhost:8080/"
        },
        "id": "c-uz7_Jl1OSY",
        "outputId": "2ce9af6d-0783-4e89-9d62-a60346d5770d"
      },
      "execution_count": 247,
      "outputs": [
        {
          "output_type": "execute_result",
          "data": {
            "text/plain": [
              "61"
            ]
          },
          "metadata": {},
          "execution_count": 247
        }
      ]
    },
    {
      "cell_type": "code",
      "source": [
        "all_data_list=data_list+data_list2\n"
      ],
      "metadata": {
        "id": "meblKkZLZG9-"
      },
      "execution_count": 248,
      "outputs": []
    },
    {
      "cell_type": "code",
      "source": [
        "len(all_data_list)"
      ],
      "metadata": {
        "colab": {
          "base_uri": "https://localhost:8080/"
        },
        "id": "I0WzHLgLZRl6",
        "outputId": "c275ed4a-378f-4f7c-84aa-44b3e9a41187"
      },
      "execution_count": 249,
      "outputs": [
        {
          "output_type": "execute_result",
          "data": {
            "text/plain": [
              "285"
            ]
          },
          "metadata": {},
          "execution_count": 249
        }
      ]
    },
    {
      "cell_type": "code",
      "source": [
        "import pandas as pd\n"
      ],
      "metadata": {
        "id": "vGTFpQKaZylG"
      },
      "execution_count": 250,
      "outputs": []
    },
    {
      "cell_type": "code",
      "source": [
        "df=pd.DataFrame(all_data_list,columns=[\"Task\",\"TaskLink\",\"Desc\",\"Inc\",\"IncLink\",\"Creation\",\"Start\",\"End\",\"LongDesc\"])"
      ],
      "metadata": {
        "id": "sZyjxHOUZ1ji"
      },
      "execution_count": 251,
      "outputs": []
    },
    {
      "cell_type": "code",
      "source": [],
      "metadata": {
        "id": "bMwW5p0VZ9Kh"
      },
      "execution_count": 251,
      "outputs": []
    },
    {
      "cell_type": "code",
      "source": [
        "df[['Start', 'End', 'Creation']] = df[['Start', 'End', 'Creation']].apply(pd.to_datetime)"
      ],
      "metadata": {
        "id": "XN1JibDufqYs"
      },
      "execution_count": 256,
      "outputs": []
    },
    {
      "cell_type": "code",
      "source": [
        "df[\"End_Delta\"]=df[\"End\"]-df[\"Start\"]\n",
        "df[\"End_Delta_sec\"]=pd.to_numeric(df[\"End_Delta\"]/1000000000)"
      ],
      "metadata": {
        "id": "LENxpGv_bEDs"
      },
      "execution_count": 257,
      "outputs": []
    },
    {
      "cell_type": "code",
      "source": [
        "df[\"Start_Delta\"]=df[\"Start\"]-df[\"Creation\"]\n",
        "df[\"Start_Delta_sec\"]=pd.to_numeric(df[\"Start_Delta\"]/1000000000)"
      ],
      "metadata": {
        "id": "8lDTYgduh_eX"
      },
      "execution_count": 258,
      "outputs": []
    },
    {
      "cell_type": "code",
      "source": [],
      "metadata": {
        "id": "To7JKuukpkoN"
      },
      "execution_count": null,
      "outputs": []
    },
    {
      "cell_type": "code",
      "source": [
        "df.sort_values([\"Creation\"])"
      ],
      "metadata": {
        "colab": {
          "base_uri": "https://localhost:8080/",
          "height": 641
        },
        "id": "-WUEu5szjSKk",
        "outputId": "41be3a0e-ca85-489c-9f02-ceebaa69b4e3"
      },
      "execution_count": 261,
      "outputs": [
        {
          "output_type": "execute_result",
          "data": {
            "text/plain": [
              "            Task                                           TaskLink  \\\n",
              "0    TASK0216008  https://richterprod.service-now.com/incident_t...   \n",
              "112  TASK0225687  https://richterprod.service-now.com/incident_t...   \n",
              "1    TASK0225759  https://richterprod.service-now.com/incident_t...   \n",
              "113  TASK0227851  https://richterprod.service-now.com/incident_t...   \n",
              "2    TASK0230843  https://richterprod.service-now.com/incident_t...   \n",
              "..           ...                                                ...   \n",
              "226   INC0212666  https://richterprod.service-now.com/incident.d...   \n",
              "256   INC0212840  https://richterprod.service-now.com/incident.d...   \n",
              "225   INC0213025  https://richterprod.service-now.com/incident.d...   \n",
              "255   INC0213469  https://richterprod.service-now.com/incident.d...   \n",
              "224   INC0213507  https://richterprod.service-now.com/incident.d...   \n",
              "\n",
              "                                                  Desc         Inc  \\\n",
              "0    Az OV-01 TFL operátori állomás meghibásodott, ...  INC0118840   \n",
              "112  T5 tartály vezérelt fűtése nem működik ezért b...  INC0126270   \n",
              "1         Nem tudom kinyomtatni a mérési eredményeket.  INC0126341   \n",
              "113                               nem tudunk nyomtatni  INC0127776   \n",
              "2    AZ RG-LAB rendszerből nem tudunk feladatot nyo...  INC0129902   \n",
              "..                                                 ...         ...   \n",
              "226                  [DCS rendszerek dorog - hibajegy]  INC0212666   \n",
              "256  MIFO-D -ben az 1. izolátor és 2. izolátorhoz t...  INC0212840   \n",
              "225                  [DCS rendszerek dorog - hibajegy]  INC0213025   \n",
              "255  Terepi terminál nem jelenít meg semmilyen értéket  INC0213469   \n",
              "224  Február 6-án változtatott/új jelszavam \"elfele...  INC0213507   \n",
              "\n",
              "                                               IncLink            Creation  \\\n",
              "0    https://richterprod.service-now.com/incident.d... 2021-09-08 05:45:29   \n",
              "112  https://richterprod.service-now.com/incident.d... 2021-10-15 05:19:48   \n",
              "1    https://richterprod.service-now.com/incident.d... 2021-10-15 07:58:58   \n",
              "113  https://richterprod.service-now.com/incident.d... 2021-10-25 04:53:38   \n",
              "2    https://richterprod.service-now.com/incident.d... 2021-11-04 09:53:28   \n",
              "..                                                 ...                 ...   \n",
              "226  https://richterprod.service-now.com/incident.d... 2023-02-09 10:30:05   \n",
              "256  https://richterprod.service-now.com/incident.d... 2023-02-10 07:24:39   \n",
              "225  https://richterprod.service-now.com/incident.d... 2023-02-10 14:35:32   \n",
              "255  https://richterprod.service-now.com/incident.d... 2023-02-14 08:36:08   \n",
              "224  https://richterprod.service-now.com/incident.d... 2023-02-14 10:09:57   \n",
              "\n",
              "                  Start                 End  \\\n",
              "0   2021-09-08 05:48:13 2021-11-05 06:09:23   \n",
              "112 2021-10-15 05:19:53 2021-10-19 13:09:13   \n",
              "1   2021-10-15 07:59:21 2021-10-19 13:07:54   \n",
              "113 2021-10-25 04:53:42 2021-11-15 10:00:12   \n",
              "2   2021-11-04 09:53:51 2021-11-04 12:30:30   \n",
              "..                  ...                 ...   \n",
              "226 2023-02-09 10:46:09 2023-02-09 12:10:09   \n",
              "256 2023-02-10 07:24:39                 NaT   \n",
              "225 2023-02-10 14:35:39 2023-02-13 10:57:31   \n",
              "255 2023-02-14 08:36:08                 NaT   \n",
              "224 2023-02-14 10:09:57 2023-02-14 14:32:19   \n",
              "\n",
              "                                              LongDesc        End_Delta  \\\n",
              "0    Az operátori állomás meghibásodott, nem indíth... 58 days 00:21:10   \n",
              "112  T5 tartály fűtése csak kézi üzemmódban működik...  4 days 07:49:20   \n",
              "1    Nem tudom kinyomtatni a mérési eredményeket a ...  4 days 05:08:33   \n",
              "113                                               None 21 days 05:06:30   \n",
              "2    A feladatot ki lehet választani nyomtatásra, a...  0 days 02:36:39   \n",
              "..                                                 ...              ...   \n",
              "226  [DCS rendszerek dorog - hibajegy]\\nÉrintett re...  0 days 01:24:00   \n",
              "256  MIFO-D -ben az 1. izolátor és 2. izolátorhoz t...              NaT   \n",
              "225            [DCS rendszerek dorog - hibajegy]\\nNone  2 days 20:21:52   \n",
              "255  Terepi terminál nem jelenít meg semmilyen érté...              NaT   \n",
              "224  Február 6-án változtatott/új jelszavam \"elfele...  0 days 04:22:22   \n",
              "\n",
              "           End_Delta_sec     Start_Delta  Start_Delta_sec  \n",
              "0                5012470 0 days 00:02:44              164  \n",
              "112               373760 0 days 00:00:05                5  \n",
              "1                 364113 0 days 00:00:23               23  \n",
              "113              1832790 0 days 00:00:04                4  \n",
              "2                   9399 0 days 00:00:23               23  \n",
              "..                   ...             ...              ...  \n",
              "226                 5040 0 days 00:16:04              964  \n",
              "256 -9223372036854775808 0 days 00:00:00                0  \n",
              "225               246112 0 days 00:00:07                7  \n",
              "255 -9223372036854775808 0 days 00:00:00                0  \n",
              "224                15742 0 days 00:00:00                0  \n",
              "\n",
              "[285 rows x 13 columns]"
            ],
            "text/html": [
              "\n",
              "  <div id=\"df-a43d838c-6fd1-4850-8702-f5485454734b\">\n",
              "    <div class=\"colab-df-container\">\n",
              "      <div>\n",
              "<style scoped>\n",
              "    .dataframe tbody tr th:only-of-type {\n",
              "        vertical-align: middle;\n",
              "    }\n",
              "\n",
              "    .dataframe tbody tr th {\n",
              "        vertical-align: top;\n",
              "    }\n",
              "\n",
              "    .dataframe thead th {\n",
              "        text-align: right;\n",
              "    }\n",
              "</style>\n",
              "<table border=\"1\" class=\"dataframe\">\n",
              "  <thead>\n",
              "    <tr style=\"text-align: right;\">\n",
              "      <th></th>\n",
              "      <th>Task</th>\n",
              "      <th>TaskLink</th>\n",
              "      <th>Desc</th>\n",
              "      <th>Inc</th>\n",
              "      <th>IncLink</th>\n",
              "      <th>Creation</th>\n",
              "      <th>Start</th>\n",
              "      <th>End</th>\n",
              "      <th>LongDesc</th>\n",
              "      <th>End_Delta</th>\n",
              "      <th>End_Delta_sec</th>\n",
              "      <th>Start_Delta</th>\n",
              "      <th>Start_Delta_sec</th>\n",
              "    </tr>\n",
              "  </thead>\n",
              "  <tbody>\n",
              "    <tr>\n",
              "      <th>0</th>\n",
              "      <td>TASK0216008</td>\n",
              "      <td>https://richterprod.service-now.com/incident_t...</td>\n",
              "      <td>Az OV-01 TFL operátori állomás meghibásodott, ...</td>\n",
              "      <td>INC0118840</td>\n",
              "      <td>https://richterprod.service-now.com/incident.d...</td>\n",
              "      <td>2021-09-08 05:45:29</td>\n",
              "      <td>2021-09-08 05:48:13</td>\n",
              "      <td>2021-11-05 06:09:23</td>\n",
              "      <td>Az operátori állomás meghibásodott, nem indíth...</td>\n",
              "      <td>58 days 00:21:10</td>\n",
              "      <td>5012470</td>\n",
              "      <td>0 days 00:02:44</td>\n",
              "      <td>164</td>\n",
              "    </tr>\n",
              "    <tr>\n",
              "      <th>112</th>\n",
              "      <td>TASK0225687</td>\n",
              "      <td>https://richterprod.service-now.com/incident_t...</td>\n",
              "      <td>T5 tartály vezérelt fűtése nem működik ezért b...</td>\n",
              "      <td>INC0126270</td>\n",
              "      <td>https://richterprod.service-now.com/incident.d...</td>\n",
              "      <td>2021-10-15 05:19:48</td>\n",
              "      <td>2021-10-15 05:19:53</td>\n",
              "      <td>2021-10-19 13:09:13</td>\n",
              "      <td>T5 tartály fűtése csak kézi üzemmódban működik...</td>\n",
              "      <td>4 days 07:49:20</td>\n",
              "      <td>373760</td>\n",
              "      <td>0 days 00:00:05</td>\n",
              "      <td>5</td>\n",
              "    </tr>\n",
              "    <tr>\n",
              "      <th>1</th>\n",
              "      <td>TASK0225759</td>\n",
              "      <td>https://richterprod.service-now.com/incident_t...</td>\n",
              "      <td>Nem tudom kinyomtatni a mérési eredményeket.</td>\n",
              "      <td>INC0126341</td>\n",
              "      <td>https://richterprod.service-now.com/incident.d...</td>\n",
              "      <td>2021-10-15 07:58:58</td>\n",
              "      <td>2021-10-15 07:59:21</td>\n",
              "      <td>2021-10-19 13:07:54</td>\n",
              "      <td>Nem tudom kinyomtatni a mérési eredményeket a ...</td>\n",
              "      <td>4 days 05:08:33</td>\n",
              "      <td>364113</td>\n",
              "      <td>0 days 00:00:23</td>\n",
              "      <td>23</td>\n",
              "    </tr>\n",
              "    <tr>\n",
              "      <th>113</th>\n",
              "      <td>TASK0227851</td>\n",
              "      <td>https://richterprod.service-now.com/incident_t...</td>\n",
              "      <td>nem tudunk nyomtatni</td>\n",
              "      <td>INC0127776</td>\n",
              "      <td>https://richterprod.service-now.com/incident.d...</td>\n",
              "      <td>2021-10-25 04:53:38</td>\n",
              "      <td>2021-10-25 04:53:42</td>\n",
              "      <td>2021-11-15 10:00:12</td>\n",
              "      <td>None</td>\n",
              "      <td>21 days 05:06:30</td>\n",
              "      <td>1832790</td>\n",
              "      <td>0 days 00:00:04</td>\n",
              "      <td>4</td>\n",
              "    </tr>\n",
              "    <tr>\n",
              "      <th>2</th>\n",
              "      <td>TASK0230843</td>\n",
              "      <td>https://richterprod.service-now.com/incident_t...</td>\n",
              "      <td>AZ RG-LAB rendszerből nem tudunk feladatot nyo...</td>\n",
              "      <td>INC0129902</td>\n",
              "      <td>https://richterprod.service-now.com/incident.d...</td>\n",
              "      <td>2021-11-04 09:53:28</td>\n",
              "      <td>2021-11-04 09:53:51</td>\n",
              "      <td>2021-11-04 12:30:30</td>\n",
              "      <td>A feladatot ki lehet választani nyomtatásra, a...</td>\n",
              "      <td>0 days 02:36:39</td>\n",
              "      <td>9399</td>\n",
              "      <td>0 days 00:00:23</td>\n",
              "      <td>23</td>\n",
              "    </tr>\n",
              "    <tr>\n",
              "      <th>...</th>\n",
              "      <td>...</td>\n",
              "      <td>...</td>\n",
              "      <td>...</td>\n",
              "      <td>...</td>\n",
              "      <td>...</td>\n",
              "      <td>...</td>\n",
              "      <td>...</td>\n",
              "      <td>...</td>\n",
              "      <td>...</td>\n",
              "      <td>...</td>\n",
              "      <td>...</td>\n",
              "      <td>...</td>\n",
              "      <td>...</td>\n",
              "    </tr>\n",
              "    <tr>\n",
              "      <th>226</th>\n",
              "      <td>INC0212666</td>\n",
              "      <td>https://richterprod.service-now.com/incident.d...</td>\n",
              "      <td>[DCS rendszerek dorog - hibajegy]</td>\n",
              "      <td>INC0212666</td>\n",
              "      <td>https://richterprod.service-now.com/incident.d...</td>\n",
              "      <td>2023-02-09 10:30:05</td>\n",
              "      <td>2023-02-09 10:46:09</td>\n",
              "      <td>2023-02-09 12:10:09</td>\n",
              "      <td>[DCS rendszerek dorog - hibajegy]\\nÉrintett re...</td>\n",
              "      <td>0 days 01:24:00</td>\n",
              "      <td>5040</td>\n",
              "      <td>0 days 00:16:04</td>\n",
              "      <td>964</td>\n",
              "    </tr>\n",
              "    <tr>\n",
              "      <th>256</th>\n",
              "      <td>INC0212840</td>\n",
              "      <td>https://richterprod.service-now.com/incident.d...</td>\n",
              "      <td>MIFO-D -ben az 1. izolátor és 2. izolátorhoz t...</td>\n",
              "      <td>INC0212840</td>\n",
              "      <td>https://richterprod.service-now.com/incident.d...</td>\n",
              "      <td>2023-02-10 07:24:39</td>\n",
              "      <td>2023-02-10 07:24:39</td>\n",
              "      <td>NaT</td>\n",
              "      <td>MIFO-D -ben az 1. izolátor és 2. izolátorhoz t...</td>\n",
              "      <td>NaT</td>\n",
              "      <td>-9223372036854775808</td>\n",
              "      <td>0 days 00:00:00</td>\n",
              "      <td>0</td>\n",
              "    </tr>\n",
              "    <tr>\n",
              "      <th>225</th>\n",
              "      <td>INC0213025</td>\n",
              "      <td>https://richterprod.service-now.com/incident.d...</td>\n",
              "      <td>[DCS rendszerek dorog - hibajegy]</td>\n",
              "      <td>INC0213025</td>\n",
              "      <td>https://richterprod.service-now.com/incident.d...</td>\n",
              "      <td>2023-02-10 14:35:32</td>\n",
              "      <td>2023-02-10 14:35:39</td>\n",
              "      <td>2023-02-13 10:57:31</td>\n",
              "      <td>[DCS rendszerek dorog - hibajegy]\\nNone</td>\n",
              "      <td>2 days 20:21:52</td>\n",
              "      <td>246112</td>\n",
              "      <td>0 days 00:00:07</td>\n",
              "      <td>7</td>\n",
              "    </tr>\n",
              "    <tr>\n",
              "      <th>255</th>\n",
              "      <td>INC0213469</td>\n",
              "      <td>https://richterprod.service-now.com/incident.d...</td>\n",
              "      <td>Terepi terminál nem jelenít meg semmilyen értéket</td>\n",
              "      <td>INC0213469</td>\n",
              "      <td>https://richterprod.service-now.com/incident.d...</td>\n",
              "      <td>2023-02-14 08:36:08</td>\n",
              "      <td>2023-02-14 08:36:08</td>\n",
              "      <td>NaT</td>\n",
              "      <td>Terepi terminál nem jelenít meg semmilyen érté...</td>\n",
              "      <td>NaT</td>\n",
              "      <td>-9223372036854775808</td>\n",
              "      <td>0 days 00:00:00</td>\n",
              "      <td>0</td>\n",
              "    </tr>\n",
              "    <tr>\n",
              "      <th>224</th>\n",
              "      <td>INC0213507</td>\n",
              "      <td>https://richterprod.service-now.com/incident.d...</td>\n",
              "      <td>Február 6-án változtatott/új jelszavam \"elfele...</td>\n",
              "      <td>INC0213507</td>\n",
              "      <td>https://richterprod.service-now.com/incident.d...</td>\n",
              "      <td>2023-02-14 10:09:57</td>\n",
              "      <td>2023-02-14 10:09:57</td>\n",
              "      <td>2023-02-14 14:32:19</td>\n",
              "      <td>Február 6-án változtatott/új jelszavam \"elfele...</td>\n",
              "      <td>0 days 04:22:22</td>\n",
              "      <td>15742</td>\n",
              "      <td>0 days 00:00:00</td>\n",
              "      <td>0</td>\n",
              "    </tr>\n",
              "  </tbody>\n",
              "</table>\n",
              "<p>285 rows × 13 columns</p>\n",
              "</div>\n",
              "      <button class=\"colab-df-convert\" onclick=\"convertToInteractive('df-a43d838c-6fd1-4850-8702-f5485454734b')\"\n",
              "              title=\"Convert this dataframe to an interactive table.\"\n",
              "              style=\"display:none;\">\n",
              "        \n",
              "  <svg xmlns=\"http://www.w3.org/2000/svg\" height=\"24px\"viewBox=\"0 0 24 24\"\n",
              "       width=\"24px\">\n",
              "    <path d=\"M0 0h24v24H0V0z\" fill=\"none\"/>\n",
              "    <path d=\"M18.56 5.44l.94 2.06.94-2.06 2.06-.94-2.06-.94-.94-2.06-.94 2.06-2.06.94zm-11 1L8.5 8.5l.94-2.06 2.06-.94-2.06-.94L8.5 2.5l-.94 2.06-2.06.94zm10 10l.94 2.06.94-2.06 2.06-.94-2.06-.94-.94-2.06-.94 2.06-2.06.94z\"/><path d=\"M17.41 7.96l-1.37-1.37c-.4-.4-.92-.59-1.43-.59-.52 0-1.04.2-1.43.59L10.3 9.45l-7.72 7.72c-.78.78-.78 2.05 0 2.83L4 21.41c.39.39.9.59 1.41.59.51 0 1.02-.2 1.41-.59l7.78-7.78 2.81-2.81c.8-.78.8-2.07 0-2.86zM5.41 20L4 18.59l7.72-7.72 1.47 1.35L5.41 20z\"/>\n",
              "  </svg>\n",
              "      </button>\n",
              "      \n",
              "  <style>\n",
              "    .colab-df-container {\n",
              "      display:flex;\n",
              "      flex-wrap:wrap;\n",
              "      gap: 12px;\n",
              "    }\n",
              "\n",
              "    .colab-df-convert {\n",
              "      background-color: #E8F0FE;\n",
              "      border: none;\n",
              "      border-radius: 50%;\n",
              "      cursor: pointer;\n",
              "      display: none;\n",
              "      fill: #1967D2;\n",
              "      height: 32px;\n",
              "      padding: 0 0 0 0;\n",
              "      width: 32px;\n",
              "    }\n",
              "\n",
              "    .colab-df-convert:hover {\n",
              "      background-color: #E2EBFA;\n",
              "      box-shadow: 0px 1px 2px rgba(60, 64, 67, 0.3), 0px 1px 3px 1px rgba(60, 64, 67, 0.15);\n",
              "      fill: #174EA6;\n",
              "    }\n",
              "\n",
              "    [theme=dark] .colab-df-convert {\n",
              "      background-color: #3B4455;\n",
              "      fill: #D2E3FC;\n",
              "    }\n",
              "\n",
              "    [theme=dark] .colab-df-convert:hover {\n",
              "      background-color: #434B5C;\n",
              "      box-shadow: 0px 1px 3px 1px rgba(0, 0, 0, 0.15);\n",
              "      filter: drop-shadow(0px 1px 2px rgba(0, 0, 0, 0.3));\n",
              "      fill: #FFFFFF;\n",
              "    }\n",
              "  </style>\n",
              "\n",
              "      <script>\n",
              "        const buttonEl =\n",
              "          document.querySelector('#df-a43d838c-6fd1-4850-8702-f5485454734b button.colab-df-convert');\n",
              "        buttonEl.style.display =\n",
              "          google.colab.kernel.accessAllowed ? 'block' : 'none';\n",
              "\n",
              "        async function convertToInteractive(key) {\n",
              "          const element = document.querySelector('#df-a43d838c-6fd1-4850-8702-f5485454734b');\n",
              "          const dataTable =\n",
              "            await google.colab.kernel.invokeFunction('convertToInteractive',\n",
              "                                                     [key], {});\n",
              "          if (!dataTable) return;\n",
              "\n",
              "          const docLinkHtml = 'Like what you see? Visit the ' +\n",
              "            '<a target=\"_blank\" href=https://colab.research.google.com/notebooks/data_table.ipynb>data table notebook</a>'\n",
              "            + ' to learn more about interactive tables.';\n",
              "          element.innerHTML = '';\n",
              "          dataTable['output_type'] = 'display_data';\n",
              "          await google.colab.output.renderOutput(dataTable, element);\n",
              "          const docLink = document.createElement('div');\n",
              "          docLink.innerHTML = docLinkHtml;\n",
              "          element.appendChild(docLink);\n",
              "        }\n",
              "      </script>\n",
              "    </div>\n",
              "  </div>\n",
              "  "
            ]
          },
          "metadata": {},
          "execution_count": 261
        }
      ]
    },
    {
      "cell_type": "code",
      "source": [
        "df.plot(y=\"Start_Delta_sec\")"
      ],
      "metadata": {
        "colab": {
          "base_uri": "https://localhost:8080/",
          "height": 285
        },
        "id": "QOXKe3TSt-q5",
        "outputId": "7b9dcd53-153a-4910-cfba-f261dbffa042"
      },
      "execution_count": 269,
      "outputs": [
        {
          "output_type": "execute_result",
          "data": {
            "text/plain": [
              "<matplotlib.axes._subplots.AxesSubplot at 0x7f6ffb48f040>"
            ]
          },
          "metadata": {},
          "execution_count": 269
        },
        {
          "output_type": "display_data",
          "data": {
            "text/plain": [
              "<Figure size 432x288 with 1 Axes>"
            ],
            "image/png": "[encoded data removed]"
          },
          "metadata": {
            "needs_background": "light"
          }
        }
      ]
    }
  ]
}